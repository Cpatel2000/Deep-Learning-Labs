{
 "cells": [
  {
   "cell_type": "code",
   "execution_count": 1,
   "id": "e5d82e70",
   "metadata": {},
   "outputs": [
    {
     "name": "stderr",
     "output_type": "stream",
     "text": [
      "2023-02-08 12:40:15.459408: I tensorflow/core/platform/cpu_feature_guard.cc:193] This TensorFlow binary is optimized with oneAPI Deep Neural Network Library (oneDNN) to use the following CPU instructions in performance-critical operations:  SSE4.1 SSE4.2\n",
      "To enable them in other operations, rebuild TensorFlow with the appropriate compiler flags.\n"
     ]
    }
   ],
   "source": [
    "import numpy as np\n",
    "import matplotlib.pyplot as plt\n",
    "from keras.datasets import boston_housing\n",
    "from sklearn import datasets\n",
    "import sklearn\n",
    "from tensorflow.keras.utils import to_categorical\n",
    "from sklearn.preprocessing import MinMaxScaler"
   ]
  },
  {
   "cell_type": "code",
   "execution_count": 2,
   "id": "d311dd52",
   "metadata": {},
   "outputs": [],
   "source": [
    "import autograd.numpy as np\n",
    "from autograd import elementwise_grad as grad"
   ]
  },
  {
   "cell_type": "code",
   "execution_count": 3,
   "id": "790734e6",
   "metadata": {},
   "outputs": [
    {
     "data": {
      "text/plain": [
       "array([0., 1., 2., 3., 4., 5.], dtype=float32)"
      ]
     },
     "execution_count": 3,
     "metadata": {},
     "output_type": "execute_result"
    }
   ],
   "source": [
    "x = np.arange(6).astype(np.float32)\n",
    "x"
   ]
  },
  {
   "cell_type": "code",
   "execution_count": 4,
   "id": "5810d5a2",
   "metadata": {},
   "outputs": [],
   "source": [
    "def f(x):\n",
    "    return 3.0 * np.power(x, 2) + 5.0 * x - 4.0"
   ]
  },
  {
   "cell_type": "code",
   "execution_count": 5,
   "id": "d5e6ed95",
   "metadata": {},
   "outputs": [],
   "source": [
    "grad_f = grad(f)"
   ]
  },
  {
   "cell_type": "code",
   "execution_count": 6,
   "id": "eb572315",
   "metadata": {},
   "outputs": [
    {
     "data": {
      "text/plain": [
       "array([ 5., 11., 17., 23., 29., 35.], dtype=float32)"
      ]
     },
     "execution_count": 6,
     "metadata": {},
     "output_type": "execute_result"
    }
   ],
   "source": [
    "grad_f(x)"
   ]
  },
  {
   "cell_type": "code",
   "execution_count": 7,
   "id": "d3b51df0",
   "metadata": {},
   "outputs": [
    {
     "data": {
      "text/plain": [
       "array([ 4.9999833, 11.000013 , 17.000008 , 22.999954 , 29.000473 ,\n",
       "       35.001373 ], dtype=float32)"
      ]
     },
     "execution_count": 7,
     "metadata": {},
     "output_type": "execute_result"
    }
   ],
   "source": [
    "(f(x + 0.01) - f(x - 0.01)) / 0.02 # derivative: numerical computational definition of derivative: numerical differentiation"
   ]
  },
  {
   "cell_type": "code",
   "execution_count": 27,
   "id": "2ebb97a9",
   "metadata": {},
   "outputs": [],
   "source": [
    "def linear(x):\n",
    "  \"\"\"Return linear function of itself.\"\"\"\n",
    "  return x\n",
    "\n",
    "def d_linear(x):\n",
    "    # differential of linear function\n",
    "    return np.ones_like(x)\n"
   ]
  },
  {
   "cell_type": "code",
   "execution_count": 29,
   "id": "e47718ac",
   "metadata": {},
   "outputs": [],
   "source": [
    "def relu(x):\n",
    "  \"\"\"Computes relu of function.\"\"\"\n",
    "  return x * (x >= 0)\n",
    "def d_relu(x):\n",
    "    # differential of relu \n",
    "    return (x >= 0).astype(np.float32)"
   ]
  },
  {
   "cell_type": "code",
   "execution_count": 31,
   "id": "08103327",
   "metadata": {},
   "outputs": [],
   "source": [
    "def sigmoid(x):\n",
    "  \"\"\"Computes sigmoid of function.\"\"\"\n",
    "  return 1 / (1 + np.exp(-x))\n",
    "\n",
    "def d_sigmoid(x):\n",
    "    # differential of sigmoid function\n",
    "    return sigmoid(x) * (1 - sigmoid(x))"
   ]
  },
  {
   "cell_type": "code",
   "execution_count": 32,
   "id": "aaf7ef20",
   "metadata": {},
   "outputs": [],
   "source": [
    "activations = {\n",
    "    \"linear\": linear,\n",
    "    \"relu\": relu,\n",
    "    \"sigmoid\": sigmoid\n",
    "}\n",
    "\n",
    "# differentiation\n",
    "d_activations = {\n",
    "    \"linear\": d_linear,\n",
    "    \"relu\": d_relu,\n",
    "    \"sigmoid\": d_sigmoid\n",
    "}\n",
    "\n"
   ]
  },
  {
   "cell_type": "code",
   "execution_count": 36,
   "id": "e647b3a5",
   "metadata": {},
   "outputs": [],
   "source": [
    "def mse(y, p):\n",
    "    \"\"\"Computes Mean-Square Error between y and p.\n",
    "     Args:\n",
    "       y: labeled data of size (B, N) \n",
    "       p: predicted label of size (B, No)\n",
    "     Returns:\n",
    "       MSE of y-p\n",
    "    \"\"\"\n",
    "    \n",
    "    return np.mean((y - p)**2)\n",
    "\n",
    "def d_mse(y, p):\n",
    "    \"\"\"Computes derivative of Mean-Square Error between y and p.\n",
    "     Args:\n",
    "       y: labeled data of size (B, N) \n",
    "       p: predicted label of size (B, No)\n",
    "     Returns:\n",
    "       derivaritve MSE of y-p\n",
    "    \"\"\"\n",
    "   \n",
    "    return 2*(p-y) / y.shape[0]\n",
    "\n"
   ]
  },
  {
   "cell_type": "code",
   "execution_count": 37,
   "id": "728f47f5",
   "metadata": {},
   "outputs": [],
   "source": [
    "def d_binary_crossentropy(y, p, eps=1.e-17):\n",
    "    \"\"\"Computes binary crossentropy between y and p.\n",
    "     Args:\n",
    "       y: labeled data of size (B, No) \n",
    "       p: predicted label of size (B, No)\n",
    "     Returns:\n",
    "\n",
    "    \"\"\"\n",
    "    # add computation of binary crossentropy\n",
    "    assert y.shape == p.shape\n",
    "    return (- np.divide(y,p) + np.divide((1-y),(1-p))) / y.shape[0]\n",
    "\n",
    "loss_function = {\n",
    "    'mse': mse,\n",
    "    'binary_crossentropy': binary_crossentropy\n",
    "}\n",
    "\n",
    "d_loss_function = {\n",
    "    'mse': d_mse,\n",
    "    'binary_crossentropy': d_binary_crossentropy\n",
    "}"
   ]
  },
  {
   "cell_type": "code",
   "execution_count": 38,
   "id": "10cf04d3",
   "metadata": {},
   "outputs": [],
   "source": [
    "def binary_crossentropy(y, p):\n",
    "    \"\"\"Computes binary crossentropy between y and p.\n",
    "     Args:\n",
    "       y: labeled data of size (B, No) \n",
    "       p: predicted label of size (B, No)\n",
    "     Returns:\n",
    "       BCE of (y, p) = mean(sum(y log(p) + (1-y) log(1-p))) \n",
    "    \"\"\"\n",
    "    # add computation of binary crossentropy\n",
    "    assert y.shape == p.shape\n",
    "    return - np.mean(np.multiply(y, np.log(p)) + np.multiply((1-y), np.log(1-p)))\n",
    "\n",
    "loss_function = {\n",
    "    'mse': mse,\n",
    "    'binary_crossentropy': binary_crossentropy\n",
    "}\n",
    "\n",
    "d_loss_function = {\n",
    "    'mse': d_mse,\n",
    "    'binary_crossentropy': d_binary_crossentropy\n",
    "}\n",
    "\n"
   ]
  },
  {
   "cell_type": "code",
   "execution_count": 39,
   "id": "c462829f",
   "metadata": {},
   "outputs": [],
   "source": [
    "def initialize_weights(shapes, outputs):\n",
    "    \"\"\"Initializes weights of model according to shape.\n",
    "     Args:\n",
    "       shapes = [784, 300, 10] # input layer is 784, intermediate layer is 300 and output shape is 10. We have 2 layers: one layer converts input from 784 to 300 and a layer convert 300 to 10\n",
    "       outputs = [\"linear\", \"sigmoid\"] # first layer is linear and 2nd layer is by sigmoid function\n",
    "     returns:\n",
    "       model with uniform random weights [-1,+1], zero bias and output function\n",
    "       [\n",
    "        [random(784, 300), zeros(300), \"linear\"]\n",
    "        [random(300, 10), zeros(10), \"sigmoid\"] \n",
    "      ]\n",
    "    \"\"\"\n",
    "    # do your code here\n",
    "    results = []\n",
    "    for i in range(1, len(shapes)):\n",
    "        w = np.random.uniform(low=-1., high=1.0, size=(shapes[i-1], shapes[i]))\n",
    "        b = np.zeros(shapes[i])\n",
    "        results.append([w, b, outputs[i-1]])\n",
    "    return results\n",
    "\n",
    "# model = initialize_weights([4, 10, 3], ['sigmoid', 'sigmoid'])\n",
    "# model\n",
    "#[[w1, b1, 'sigmoid'], [w2, b2, 'sigmoid']]"
   ]
  },
  {
   "cell_type": "code",
   "execution_count": 40,
   "id": "77b4fc7b",
   "metadata": {},
   "outputs": [],
   "source": [
    "def forward(x, model):\n",
    "    \"\"\"Performs forward pass of training step.\n",
    "\n",
    "     Args:\n",
    "       x: input tensor of shape (B, N0) # B: batch size\n",
    "       model: list of model weights (see initialize weights)\n",
    "     Returns:\n",
    "       List containing dictionary { \"y\": y, \"z\": z } for each layer of network.\n",
    "       [{\"y\": y1, \"z\": z1}, {\"y\": y2, \"z\": z2}]\n",
    "    \"\"\"\n",
    "    result = []\n",
    "    y = x\n",
    "    for layer in model:\n",
    "        # layer = [w[i], b[i], 'relu']\n",
    "        z = np.dot(y, layer[0]) + layer[1]  # (B,N1) + (N1,N2)        \n",
    "        y = activations[layer[2]](z)\n",
    "        result.append({'y': y, 'z': z})\n",
    "\n",
    "    return result"
   ]
  },
  {
   "cell_type": "code",
   "execution_count": 41,
   "id": "0343a45e",
   "metadata": {},
   "outputs": [],
   "source": [
    "def predict(x, model):\n",
    "    \"\"\"Predicts the output of a model.\n",
    "\n",
    "     Args:\n",
    "       x: input tensor of shape (B, Ni)\n",
    "       model: list of model weights (see initialize weights)\n",
    "     Returns:\n",
    "       Prediction of model, with the same shape as the labeled data (B, No).\n",
    "    \"\"\"\n",
    "    fwd = forward(x, model)\n",
    "    return fwd[-1][\"y\"]"
   ]
  },
  {
   "cell_type": "code",
   "execution_count": 42,
   "id": "7b1e1569",
   "metadata": {},
   "outputs": [],
   "source": [
    "def backward(y, x, model, loss):\n",
    "    \"\"\"Computes backward step of training.\n",
    "     Args:\n",
    "       y: labeled data of size (B, No) \n",
    "       x: input tensor of shape (B, Ni)\n",
    "       model: list of model weights (see initialize weights)\n",
    "       loss: one of (\"mse\", \"binary_crossentropy\")\n",
    "     Returns:\n",
    "       tuple with loss evaluation of (y, predict(x)) and list of dictionary\n",
    "       containing { \"dw\": dw, \"db\": db } for each layer of network. Remember\n",
    "       that shape of dw for each layer should be equal to shape of weight for\n",
    "       the same layer.\n",
    "       [{\"dw\": dw1, \"db\": db1}, {\"dw\": dw2, \"db\": db2}] # dw2 has same shape as w2 --> transpose\n",
    "    \"\"\"\n",
    "\n",
    "    fwd_results = forward(x, model)  # 'y': activation(z), 'z': x * layer[0] + layer[1]\n",
    "    loss_evaluation = loss_function[loss](y, fwd_results[-1]['y'])\n",
    "    \n",
    "    dy = grad(loss_function[loss], argnum=1)(y, fwd_results[-1]['y'])\n",
    "    dz = np.multiply(dy, grad(activations[model[-1][2]])(fwd_results[-1]['z']))\n",
    "    db = np.dot(dz.T, np.ones(fwd_results[-1]['y'].shape[0])) / x.shape[0]\n",
    "    if len(fwd_results) > 1:\n",
    "        dw = np.dot(dz.T, fwd_results[-2]['y']) / x.shape[0]\n",
    "    else:\n",
    "        dw = np.dot(dz.T, x) / x.shape[0]\n",
    "        return [loss_evaluation, [{\"dw\": dw, \"db\": db}]]\n",
    "    \n",
    "    w = model[-1][0]\n",
    "    \n",
    "    result = [{\"dw\": dw, \"db\": db}]\n",
    "\n",
    "    for layer in reversed(range(len(fwd_results)-1)):\n",
    "        dy = np.dot(dz, w.T)\n",
    "        dz = np.multiply(dy, grad(activations[model[layer][2]])(fwd_results[layer]['z']))\n",
    "        if layer == 0:\n",
    "            dw = np.dot(dz.T, x) / x.shape[0] \n",
    "        else:\n",
    "            dw = np.dot(dz.T, fwd_results[layer-1]['y']) / x.shape[0] \n",
    "        db = np.dot(dz.T, np.ones(fwd_results[layer]['y'].shape[0])) / x.shape[0]\n",
    "        w = model[layer][0]\n",
    "\n",
    "        result.append({'dw': dw, 'db': db})\n",
    "    \n",
    "    result = result[::-1]\n",
    "\n",
    "    return [loss_evaluation, result]"
   ]
  },
  {
   "cell_type": "code",
   "execution_count": 43,
   "id": "9489229f",
   "metadata": {},
   "outputs": [],
   "source": [
    "from sklearn.preprocessing import normalize"
   ]
  },
  {
   "cell_type": "code",
   "execution_count": 48,
   "id": "13bce8ee",
   "metadata": {},
   "outputs": [],
   "source": [
    "def load_data():\n",
    "    (x_train, y_train), (x_test, y_test) = boston_housing.load_data()\n",
    "\n",
    "    y_train = y_train.reshape(-1,1)\n",
    "    y_test = y_test.reshape(-1,1)\n",
    "\n",
    "    # condition data to be in a format you need to use\n",
    "    x_scaler = MinMaxScaler((-1,1))\n",
    "    y_scaler = MinMaxScaler((-1,1))\n",
    "\n",
    "    x_train_scaled = x_scaler.fit_transform(x_train)\n",
    "    y_train_scaled = y_scaler.fit_transform(y_train)\n",
    "\n",
    "    x_test_scaled = x_scaler.fit_transform(x_test)\n",
    "    y_test_scaled = y_scaler.fit_transform(y_test)\n",
    "\n",
    "    return (x_train_scaled, y_train_scaled), (x_test_scaled, y_test_scaled)"
   ]
  },
  {
   "cell_type": "code",
   "execution_count": 49,
   "id": "1477cb85",
   "metadata": {},
   "outputs": [],
   "source": [
    "def update(weights, dweights, alpha):\n",
    "    \"\"\"Gradient descent for weights and biases.\"\"\"\n",
    "    for i in range(len(weights)):\n",
    "        weights[i][0] += - alpha * dweights[i][\"dw\"].T # layer 1\n",
    "        weights[i][1] += - alpha * dweights[i][\"db\"].T # layer 2\n",
    "    return weights"
   ]
  },
  {
   "cell_type": "code",
   "execution_count": 80,
   "id": "808d3e2e",
   "metadata": {},
   "outputs": [
    {
     "name": "stdout",
     "output_type": "stream",
     "text": [
      "[13, 1]\n"
     ]
    },
    {
     "name": "stderr",
     "output_type": "stream",
     "text": [
      "/var/folders/lp/d6rvxqjj3kz6lttqxb7ll4080000gn/T/ipykernel_35503/2345541952.py:35: MatplotlibDeprecationWarning: The 'b' parameter of grid() has been renamed 'visible' since Matplotlib 3.5; support for the old name will be dropped two minor releases later.\n",
      "  plt.grid(b=True, color='g')\n"
     ]
    },
    {
     "data": {
      "image/png": "[encoded data removed]",
      "text/plain": [
       "<Figure size 432x288 with 1 Axes>"
      ]
     },
     "metadata": {},
     "output_type": "display_data"
    }
   ],
   "source": [
    "def train_network():\n",
    "\n",
    "    (x_train, y_train), (x_test, y_test) = load_data()\n",
    "\n",
    "    # linear network\n",
    "    # plot training and test loss over time in jupyter notebook\n",
    "\n",
    "    shapes = [x_train.shape[1], 1]\n",
    "\n",
    "    print(shapes)\n",
    "\n",
    "    outputs = [\"linear\"] # do linear regression\n",
    "    model = initialize_weights(shapes, outputs) # single layer to test\n",
    "\n",
    "    fwd_results = forward(x_train, model)\n",
    "\n",
    "    # what's the alpha you should use?\n",
    "    alpha = 0.3 \n",
    "    train_loss = []\n",
    "    test_loss = []\n",
    "    \n",
    "    for i in range(80000):\n",
    "        loss, dweights = backward(y_train, x_train, model, \"mse\")\n",
    "        model = update(model, dweights, alpha)\n",
    "\n",
    "        train_loss.append(loss)\n",
    "        y_predict = predict(x_test, model)\n",
    "        test_loss.append(loss_function['mse'](y_test, y_predict))\n",
    "\n",
    "    plt.plot(train_loss, label='training loss')\n",
    "    plt.plot(test_loss, label='testing loss')\n",
    "    plt.xlabel('Epoch')\n",
    "    plt.ylabel('loss')\n",
    "    plt.style.use('dark_background')\n",
    "    plt.grid(b=True, color='g')\n",
    "    plt.legend()\n",
    "    plt.title('training and testing loss')\n",
    "    plt.tick_params(axis='both', direction='out', length=6, width=2, labelcolor='b', colors='r', grid_color='gray', grid_alpha=0.5)\n",
    "    plt.show()        \n",
    "\n",
    "    return [train_loss, test_loss]\n",
    "        \n",
    "train_test_loss = train_network()"
   ]
  },
  {
   "cell_type": "code",
   "execution_count": 67,
   "id": "83a94468",
   "metadata": {},
   "outputs": [],
   "source": [
    "def load_iris():\n",
    "    iris = datasets.load_iris()\n",
    "    x = iris.data.astype(np.float32)\n",
    "    \n",
    "    y = iris.target\n",
    "\n",
    "    y = to_categorical(y, np.max(y)+1).astype(np.float32)\n",
    "\n",
    "    x_train, x_test, y_train, y_test = sklearn.model_selection.train_test_split(x, y, test_size=0.25, random_state=42)\n",
    "    # (B,) -> {0, 1, 2}\n",
    "    # (B, 3) -> 0 -> y[:, 0] = 1, 1 -> y[:, 1] = 1\n",
    "\n",
    "    # scale x_train, x_test\n",
    "    x_scaler = MinMaxScaler((-1,1))\n",
    "    x_train_scaled = x_scaler.fit_transform(x_train)\n",
    "    x_test_scaled = x_scaler.fit_transform(x_test) \n",
    "    \n",
    "    return (x_train_scaled, y_train), (x_test_scaled, y_test)\n",
    "\n",
    "def accuracy(y, p): # (B, 3)\n",
    "    # y = (1, 0, 0), p = (0.2, 0.5, 0.3)\n",
    "    # y = 0, p = 1\n",
    "    return np.mean(np.argmax(y, axis=-1) == np.argmax(p, axis=-1))\n"
   ]
  },
  {
   "cell_type": "code",
   "execution_count": 68,
   "id": "1de16281",
   "metadata": {},
   "outputs": [],
   "source": [
    "from sklearn.model_selection import train_test_split"
   ]
  },
  {
   "cell_type": "code",
   "execution_count": 79,
   "id": "56f3cccb",
   "metadata": {},
   "outputs": [
    {
     "name": "stdout",
     "output_type": "stream",
     "text": [
      "[4, 30, 10, 3]\n"
     ]
    },
    {
     "name": "stderr",
     "output_type": "stream",
     "text": [
      "/var/folders/lp/d6rvxqjj3kz6lttqxb7ll4080000gn/T/ipykernel_35503/1009045294.py:36: MatplotlibDeprecationWarning: The 'b' parameter of grid() has been renamed 'visible' since Matplotlib 3.5; support for the old name will be dropped two minor releases later.\n",
      "  plt.grid(b=True, color='g')\n"
     ]
    },
    {
     "data": {
      "image/png": "[encoded data removed]",
      "text/plain": [
       "<Figure size 432x288 with 1 Axes>"
      ]
     },
     "metadata": {},
     "output_type": "display_data"
    },
    {
     "name": "stderr",
     "output_type": "stream",
     "text": [
      "/var/folders/lp/d6rvxqjj3kz6lttqxb7ll4080000gn/T/ipykernel_35503/1009045294.py:46: MatplotlibDeprecationWarning: The 'b' parameter of grid() has been renamed 'visible' since Matplotlib 3.5; support for the old name will be dropped two minor releases later.\n",
      "  plt.grid(b=True, color='g')\n"
     ]
    },
    {
     "data": {
      "image/png": "[encoded data removed]",
      "text/plain": [
       "<Figure size 432x288 with 1 Axes>"
      ]
     },
     "metadata": {},
     "output_type": "display_data"
    }
   ],
   "source": [
    "def train_network():\n",
    "    (x_train, y_train), (x_test, y_test) = load_iris()\n",
    "\n",
    "    outputs = [\"relu\", \"relu\", \"sigmoid\"] # network uses relu, relu, sigmoid\n",
    "    shapes = [x_train.shape[1], 30, 10, y_train.shape[1]] # input shape, 30 layers, 10 layers, output shape: 3 classes\n",
    "\n",
    "    print(shapes)\n",
    "\n",
    "    # which alpha should you use?\n",
    "\n",
    "    alpha = 0.3 # choose alpha\n",
    "    model = initialize_weights(shapes, outputs)\n",
    "    train_loss = []\n",
    "    test_loss = []\n",
    "    \n",
    "    train_accuracy = []\n",
    "    test_accuracy = []\n",
    "    \n",
    "    for i in range(100000):\n",
    "        loss, dweights = backward(y_train, x_train, model, \"binary_crossentropy\")\n",
    "        model = update(model, dweights, alpha)\n",
    "        train_loss.append(loss)\n",
    "        train_accuracy.append(accuracy(y_train, predict(x_train, model)))\n",
    "        \n",
    "        y_predict = predict(x_test, model)\n",
    "        test_loss.append(loss_function['binary_crossentropy'](y_test, y_predict))\n",
    "        test_accuracy.append(accuracy(y_test, y_predict))\n",
    "        \n",
    "    \n",
    "    plt.plot(train_loss, label='training loss')\n",
    "    plt.plot(test_loss, label='testing loss')\n",
    "    plt.xlabel('epoch')\n",
    "    plt.ylabel('loss')\n",
    "    plt.legend()\n",
    "    plt.style.use('dark_background')\n",
    "    plt.grid(b=True, color='g')\n",
    "    plt.title('training and testing loss')\n",
    "    plt.tick_params(axis='both', direction='out', length=6, width=2, labelcolor='w', colors='r', grid_color='gray', grid_alpha=0.5)\n",
    "    plt.show()\n",
    "\n",
    "    plt.plot(train_accuracy, label='train accuracy')\n",
    "    plt.plot(test_accuracy, label='test accuracy')\n",
    "    plt.xlabel('epoch')\n",
    "    plt.ylabel('accuracy')\n",
    "    plt.style.use('dark_background')\n",
    "    plt.grid(b=True, color='g')\n",
    "    plt.title('training and testing accuracy')\n",
    "    plt.tick_params(axis='both', direction='out', length=6, width=2, labelcolor='w', colors='r', grid_color='gray', grid_alpha=0.5)\n",
    "    plt.legend()\n",
    "    plt.show()\n",
    "    \n",
    "train_network()"
   ]
  },
  {
   "cell_type": "code",
   "execution_count": null,
   "id": "83f2660f",
   "metadata": {},
   "outputs": [],
   "source": []
  },
  {
   "cell_type": "code",
   "execution_count": null,
   "id": "fd5897a5",
   "metadata": {},
   "outputs": [],
   "source": []
  }
 ],
 "metadata": {
  "kernelspec": {
   "display_name": "keras_env",
   "language": "python",
   "name": "keras_env"
  },
  "language_info": {
   "codemirror_mode": {
    "name": "ipython",
    "version": 3
   },
   "file_extension": ".py",
   "mimetype": "text/x-python",
   "name": "python",
   "nbconvert_exporter": "python",
   "pygments_lexer": "ipython3",
   "version": "3.10.9"
  }
 },
 "nbformat": 4,
 "nbformat_minor": 5
}
