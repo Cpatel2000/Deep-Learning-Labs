{
 "cells": [
  {
   "cell_type": "code",
   "execution_count": null,
   "metadata": {},
   "outputs": [],
   "source": [
    "import numpy as np\n",
    "import matplotlib.pyplot as plt\n",
    "from keras.datasets import boston_housing\n",
    "from sklearn import datasets\n",
    "from tensorflow.keras.utils import to_categorical"
   ]
  },
  {
   "cell_type": "markdown",
   "metadata": {},
   "source": [
    "# -1. Matrices, Gradients, Hessians\n",
    "\n",
    "Given the function $f(x1, x2) = (1 - x1)^2 + 5 (x2 - x1^2)^2$, compute:"
   ]
  },
  {
   "cell_type": "markdown",
   "metadata": {},
   "source": [
    "### a) Gradient $\\nabla f(1, 1)$\n",
    "\n",
    "\n",
    "$\\nabla f_{x1}(x1, x2) = 2(1-x1)(-1) + 10(x2 - x1^2)(-2x1) = 2(x1-1) -20x1(x2-x1^2)$\n",
    "\n",
    "$\\nabla f_{x1}(1, 1) = 0$\n",
    "\n",
    "$\\nabla f_{x2}(x1, x2) = 10(x2 - x1^2)$\n",
    "\n",
    "$\\nabla f_{x2}(1, 2) = 0$\n",
    "\n",
    "$\\nabla f(1, 1) = [0, 0]$"
   ]
  },
  {
   "cell_type": "markdown",
   "metadata": {},
   "source": [
    "### b) Hessian $\\nabla^2 f(1, 1)$\n",
    "\n",
    "$\\nabla f_{x1x1}(x1, x2) = 2 - 20(x2 - x1^2) - 20x1(-2x1) = 2 - 20(x2 - x1^2) + 40x1^2 = 2 - 20x2 + 60x1^2$\n",
    "\n",
    "$\\nabla f_{x1x1}(1, 1) = 42 $\n",
    "\n",
    "$\\nabla f_{x1x2}(x1, x2) = -20x1$\n",
    "\n",
    "$\\nabla f_{x1x2}(1, 1) = -20 $\n",
    "\n",
    "$\\nabla f_{x2x2}(x1, x2) = 10x2$\n",
    "\n",
    "$\\nabla f_{x2x2}(1, 1) = 10$\n",
    "\n",
    "$\\nabla f_{x2x1}(x1, x2) = 10(- 2x1) = -20x1$\n",
    "\n",
    "$\\nabla f_{x2x1}(1, 1) = -20$\n",
    "\n",
    "So the Hessian matrix is:\n",
    "\n",
    "$\n",
    "\\begin{pmatrix}\n",
    "42 & -20 \\\\\n",
    "-20 & 10\n",
    "\\end{pmatrix}\n",
    "$"
   ]
  },
  {
   "cell_type": "markdown",
   "metadata": {},
   "source": [
    "### c) Is the hessian positive definite? Why?\n",
    "\n",
    "##### Using $p^T H P > 0$\n",
    "\n",
    "$\n",
    "\\begin{pmatrix}\n",
    "1 & 1\n",
    "\\end{pmatrix}\n",
    "\\begin{pmatrix}\n",
    "42 & -20 \\\\\n",
    "-20 & 10\n",
    "\\end{pmatrix}\n",
    "\\begin{pmatrix}\n",
    "1 \\\\ 1\n",
    "\\end{pmatrix} = \\begin{pmatrix}\n",
    "22 & -10\n",
    "\\end{pmatrix}\n",
    "\\begin{pmatrix}\n",
    "1 \\\\ 1\n",
    "\\end{pmatrix} = 22-10 = 12 >0\n",
    "$\n",
    "\n",
    "So Hessian is positive definite"
   ]
  },
  {
   "cell_type": "markdown",
   "metadata": {},
   "source": [
    "# Neural Network"
   ]
  },
  {
   "cell_type": "code",
   "execution_count": 15,
   "metadata": {},
   "outputs": [],
   "source": [
    "import numpy as np"
   ]
  },
  {
   "cell_type": "code",
   "execution_count": 11,
   "metadata": {},
   "outputs": [
    {
     "name": "stderr",
     "output_type": "stream",
     "text": [
      "<>:16: SyntaxWarning: \"is\" with a literal. Did you mean \"==\"?\n",
      "<>:16: SyntaxWarning: \"is\" with a literal. Did you mean \"==\"?\n",
      "/var/folders/lp/d6rvxqjj3kz6lttqxb7ll4080000gn/T/ipykernel_77121/732425968.py:16: SyntaxWarning: \"is\" with a literal. Did you mean \"==\"?\n",
      "  if i is 0:\n"
     ]
    }
   ],
   "source": [
    "def initialize_weights(shapes, outputs):\n",
    "  \"\"\"Initializes weights of model according to shape.\n",
    "\n",
    "     Args:\n",
    "       shapes = [784, 300, 10]\n",
    "       outputs = [\"relu\", \"sigmoid\"]\n",
    "     returns:\n",
    "       model with uniform random weights [-1,+1], zero bias and output function\n",
    "       [\n",
    "        [random(784, 300), zeros(300), \"relu\"]\n",
    "        [random(300, 10), zeros(10), \"sigmoid\"] \n",
    "      ]\n",
    "  \"\"\"\n",
    "  models = []\n",
    "  for i in range(len(shapes)):\n",
    "    if i is 0:\n",
    "      continue\n",
    "\n",
    "    models.append([\n",
    "      np.random.uniform(-1, 1, (shapes[i - 1], shapes[i])),\n",
    "      np.zeros(shapes[i]).reshape(1, shapes[i]),\n",
    "      outputs[i - 1]\n",
    "    ])\n",
    "\n",
    "  return models"
   ]
  },
  {
   "cell_type": "code",
   "execution_count": 99,
   "metadata": {},
   "outputs": [],
   "source": [
    "def relu(x):\n",
    "  \"\"\"Computes relu of function.\"\"\"\n",
    "  return np.maximum(0, x)\n",
    "\n",
    "def sigmoid(x):\n",
    "  \"\"\"Computes sigmoid of function.\"\"\"\n",
    "  return 1 / (1 + np.exp(-x))\n",
    "\n",
    "def relu_derivative(z):\n",
    "  \"\"\"Computes derivative of relu of function.\"\"\"\n",
    "  z_copy = np.array(z, copy=True)\n",
    "  z_copy[z_copy <= 0] = 0\n",
    "  z_copy[z_copy > 0] = 1\n",
    "  return z_copy\n",
    "\n",
    "def sigmoid_derivative(z):\n",
    "  \"\"\"Computes derivative of sigmoid of function.\"\"\"\n",
    "  sig = sigmoid(z)\n",
    "  return sig * (1 - sig)\n",
    "\n",
    "def linear(x):\n",
    "  \"\"\"Return linear function of itself.\"\"\"\n",
    "  return x\n",
    "\n",
    "def d_linear(x):\n",
    "    # differential of linear function\n",
    "    return np.ones_like(x)"
   ]
  },
  {
   "cell_type": "code",
   "execution_count": 61,
   "metadata": {},
   "outputs": [],
   "source": [
    "def activate(z, funcName):\n",
    "  \"\"\"Activate the given input based on activation function name\n",
    "  \n",
    "     Args:\n",
    "       z: input tensor of shape (B, Ni)\n",
    "       funcName: string of supported activation function name\n",
    "     Returns:\n",
    "       tensor of shape (B, Ni) after applied activation function\n",
    "  \"\"\"\n",
    "  supported_funcs = {\n",
    "    \"relu\": relu,\n",
    "    \"sigmoid\": sigmoid,\n",
    "    \"linear\": lambda x: x\n",
    "  }\n",
    "\n",
    "  if funcName not in supported_funcs:\n",
    "    raise Exception(\"Unsupported function\")\n",
    "\n",
    "  return supported_funcs[funcName](z)\n",
    "  \n",
    "\n",
    "def forward(x, model):\n",
    "  \"\"\"Performs forward pass of training step.\n",
    "\n",
    "     Args:\n",
    "       x: input tensor of shape (B, Ni)\n",
    "       model: list of model weights (see initialize weights)\n",
    "     Returns:\n",
    "       List containing dictionary { \"y\": y, \"z\": z } for each layer of network.\n",
    "  \"\"\"     \n",
    "\n",
    "  # Add input as first layer, which will be consumed in backward\n",
    "  layer_output = [{\"z\": x, \"y\": x}]\n",
    "\n",
    "  for w, b, activation_func in model:\n",
    "    y_prev = layer_output[-1][\"y\"]\n",
    "    \n",
    "    z = np.dot(y_prev, w) + b\n",
    "    y = activate(z, activation_func)\n",
    "    \n",
    "    layer_output.append({\"z\": z, \"y\": y})\n",
    "\n",
    "  return layer_output"
   ]
  },
  {
   "cell_type": "code",
   "execution_count": 62,
   "metadata": {},
   "outputs": [],
   "source": [
    "def predict(x, model):\n",
    "  \"\"\"Predicts the output of a model.\n",
    "\n",
    "     Args:\n",
    "       x: input tensor of shape (B, Ni)\n",
    "       model: list of model weights (see initialize weights)\n",
    "     Returns:\n",
    "       Prediction of model, with the same shape as the labeled data (B, No).\n",
    "  \"\"\"\n",
    "  fwd = forward(x, model)\n",
    "  return fwd[-1][\"y\"]"
   ]
  },
  {
   "cell_type": "code",
   "execution_count": 63,
   "metadata": {},
   "outputs": [],
   "source": [
    "def mse(y, p):\n",
    "  \"\"\"Computes Mean-Square Error between y and p.\n",
    "     Args:\n",
    "       y: labeled data of size (B, No) \n",
    "       p: predicted label of size (B, No)\n",
    "     Returns:\n",
    "       MSE of y-p\n",
    "  \"\"\"\n",
    "  return np.mean(np.square(y-p))\n",
    "\n",
    "def mse_derivative(y, p):\n",
    "  \"\"\"Computes derivative of Mean-Square Error between y and p.\n",
    "     Args:\n",
    "       y: labeled data of size (B, No) \n",
    "       p: predicted label of size (B, No)\n",
    "     Returns:\n",
    "       derivative of MSE = y-p\n",
    "  \"\"\"\n",
    "  return p-y"
   ]
  },
  {
   "cell_type": "code",
   "execution_count": 64,
   "metadata": {},
   "outputs": [],
   "source": [
    "def binary_crossentropy(y, p):\n",
    "  \"\"\"Computes binary crossentropy between y and p.\n",
    "     Args:\n",
    "       y: labeled data of size (B, No) \n",
    "       p: predicted label of size (B, No)\n",
    "     Returns:\n",
    "       BCE of (y, p) = mean(sum(y log(p) + (1-y) log(1-p))) \n",
    "  \"\"\"\n",
    "  return -np.mean(y * np.log(p) + (1-y) * np.log(1-p))\n",
    "\n",
    "def binary_crossentropy_derivative(y, p):\n",
    "  \"\"\"Computes derivative of binary crossentropy between y and p.\n",
    "     Args:\n",
    "       y: labeled data of size (B, No) \n",
    "       p: predicted label of size (B, No)\n",
    "     Returns:\n",
    "       derivative of BCE of (y, p) = -[y / p - (1-y) / (1-p)]\n",
    "  \"\"\"\n",
    "  return -((y / p) - np.divide(1-y, 1-p))"
   ]
  },
  {
   "cell_type": "code",
   "execution_count": 65,
   "metadata": {},
   "outputs": [],
   "source": [
    "def get_cost(y, p, funcName, is_last_layer_error=False):\n",
    "  \"\"\"Calculate lost based on cost function name.\n",
    "  \n",
    "     Args:\n",
    "       y: input tensor of shape (B, Ni)\n",
    "       p: label vector of shape (B, 1)\n",
    "       funcName: string of supported lost function name\n",
    "     Returns:\n",
    "       tensor of shape (B, Ni) after applied cost function\n",
    "  \"\"\"\n",
    "  supported_cost_funcs = {\n",
    "    \"mse\": mse,\n",
    "    \"binary_crossentropy\": binary_crossentropy,\n",
    "  }\n",
    "    \n",
    "  supported_cost_funcs_derivative = {\n",
    "    \"mse\": mse_derivative,\n",
    "    \"binary_crossentropy\": binary_crossentropy_derivative,\n",
    "  }\n",
    "\n",
    "  # Should also appear in supported_cost_funcs_derivative \n",
    "  if funcName not in supported_cost_funcs:\n",
    "    raise Exception(\"Unsupported function\")\n",
    "\n",
    "  func = supported_cost_funcs_derivative if is_last_layer_error else supported_cost_funcs\n",
    "\n",
    "  return func[funcName](y, p)\n",
    "\n",
    "def get_activation_derivative(z, funcName):\n",
    "  \"\"\"Computes derivative of activation function for computing dZ.\n",
    "     Args:\n",
    "       z: input tensor of shape (B, Ni)\n",
    "       funcName: string of supported activation function name\n",
    "     Returns:\n",
    "       derivative of activation function\n",
    "  \"\"\"\n",
    "  supported_funcs = {\n",
    "    \"relu\": relu_derivative,\n",
    "    \"sigmoid\": sigmoid_derivative,\n",
    "    \"linear\": lambda _: 1\n",
    "  }\n",
    "\n",
    "  if funcName not in supported_funcs:\n",
    "    raise Exception(\"Unsupported function\")\n",
    "\n",
    "  return supported_funcs[funcName](z)\n",
    "\n",
    "def backward(y, x, models, loss):\n",
    "  \"\"\"Computes backward step of training.\n",
    "     Args:\n",
    "       y: labeled data of size (B, No) \n",
    "       x: input tensor of shape (B, Ni)\n",
    "       model: list of model weights (see initialize weights)\n",
    "       loss: one of (\"mse\", \"binary_crossentropy\")\n",
    "     Returns:\n",
    "       tuple with loss evaluation of (y, predict(x)) and list of dictionary\n",
    "       containing { \"dw\": dw, \"db\": db } for each layer of network. Remember\n",
    "       that shape of dw for each layer should be equal to shape of weight for\n",
    "       the same layer.\n",
    "  \"\"\"\n",
    "  y_predicted = x[-1][\"y\"]\n",
    "  y = y.reshape(y_predicted.shape)\n",
    "  b = y.shape[0] # number of training data\n",
    "\n",
    "  cost = get_cost(y, y_predicted, loss)\n",
    "  weights = []\n",
    "\n",
    "  dY_prev = get_cost(y, y_predicted, loss, is_last_layer_error=True)\n",
    "\n",
    "  for i, model in reversed(list(enumerate(models))):\n",
    "    dY_curr = dY_prev\n",
    "\n",
    "    Y_prev = x[i][\"y\"]\n",
    "    Z_curr = x[i + 1][\"z\"]\n",
    "    W_curr, _, activation_func = model\n",
    "    \n",
    "    dZ_curr = get_activation_derivative(Z_curr, activation_func) * dY_curr\n",
    "    dW_curr = np.dot(Y_prev.T, dZ_curr) / b\n",
    "    db_curr = np.sum(dZ_curr, axis=0, keepdims=True) / b\n",
    "    dY_prev = np.dot(dZ_curr, W_curr.T)\n",
    "\n",
    "    weights.insert(0, {\"dw\": dW_curr, \"db\": db_curr})\n",
    "\n",
    "  return (cost, weights)"
   ]
  },
  {
   "cell_type": "code",
   "execution_count": 66,
   "metadata": {},
   "outputs": [],
   "source": [
    "def update(weights, dweights, alpha):\n",
    "  \"\"\"Gradient descent for weights and biases.\"\"\"\n",
    "  for i in range(len(weights)):\n",
    "    weights[i][0] += - alpha * dweights[i][\"dw\"]\n",
    "    weights[i][1] += - alpha * dweights[i][\"db\"]"
   ]
  },
  {
   "cell_type": "markdown",
   "metadata": {},
   "source": [
    "#  Regression: BOSTON dataset"
   ]
  },
  {
   "cell_type": "code",
   "execution_count": 67,
   "metadata": {},
   "outputs": [],
   "source": [
    "import numpy as np\n",
    "\n",
    "from keras.datasets import boston_housing\n",
    "from sklearn.preprocessing import normalize"
   ]
  },
  {
   "cell_type": "code",
   "execution_count": 68,
   "metadata": {},
   "outputs": [],
   "source": [
    "def load_data():\n",
    "  (x_train, y_train), (x_test, y_test) = boston_housing.load_data()\n",
    "\n",
    "  # condition data to be in a format you need to use\n",
    "\n",
    "  x_train = normalize(x_train, norm='max', axis=0)\n",
    "  x_test = normalize(x_test, norm='max', axis=0)\n",
    "    \n",
    "  return (x_train, y_train), (x_test, y_test)"
   ]
  },
  {
   "cell_type": "code",
   "execution_count": 69,
   "metadata": {},
   "outputs": [],
   "source": [
    "import matplotlib.pyplot as plt\n",
    "\n",
    "%matplotlib inline \n",
    "\n",
    "def plot_loss(losses, test_loss, epochs):\n",
    "  fig, ax = plt.subplots()\n",
    "  time = np.arange(0, epochs, 1)\n",
    "  ax.plot(time, losses)\n",
    "\n",
    "  # test loss\n",
    "  y = test_loss\n",
    "  plt.axhline(y=y, color=\"orange\")\n",
    "  text = 'test loss: ' + str(np.around(y, decimals=3))\n",
    "  plt.annotate(text, xy=(2, y), xytext=(3, y+50),\n",
    "    arrowprops=dict(facecolor='black', shrink=0.05),\n",
    "  )\n",
    "\n",
    "  ax.set(xlabel='iteration', ylabel='loss',\n",
    "       title='Loss over time')\n",
    "  plt.show()"
   ]
  },
  {
   "cell_type": "code",
   "execution_count": 70,
   "metadata": {},
   "outputs": [],
   "source": [
    "def main():\n",
    "  (x_train, y_train), (x_test, y_test) = load_data()\n",
    "    \n",
    "  # linear network\n",
    "  # plot training and test loss over time in jupyter notebook\n",
    "\n",
    "  shapes = [x_train.shape[1], 1]\n",
    "  outputs = [\"linear\"]\n",
    "  model = initialize_weights(shapes, outputs)\n",
    "\n",
    "  train_losses = []\n",
    "\n",
    "  # what's the alpha you should use?\n",
    "\n",
    "  alpha = 0.3\n",
    "  epochs = 300\n",
    "    \n",
    "  # Training Set\n",
    "  for i in range(epochs):\n",
    "    fwd_results = forward(x_train, model)\n",
    "    loss, dweights = backward(y_train, fwd_results, model, \"mse\")\n",
    "    update(model, dweights, alpha)\n",
    "    train_losses.append(loss)\n",
    "\n",
    "  # Test Set\n",
    "  test_results = forward(x_test, model)\n",
    "  test_loss, _ = backward(y_test, test_results, model, \"mse\")\n",
    "\n",
    "  # Plot\n",
    "  plot_loss(train_losses, test_loss, epochs)"
   ]
  },
  {
   "cell_type": "code",
   "execution_count": 71,
   "metadata": {},
   "outputs": [
    {
     "data": {
      "image/png": "[encoded data removed]",
      "text/plain": [
       "<Figure size 432x288 with 1 Axes>"
      ]
     },
     "metadata": {
      "needs_background": "light"
     },
     "output_type": "display_data"
    }
   ],
   "source": [
    "if __name__ == \"__main__\":\n",
    "  main()"
   ]
  },
  {
   "cell_type": "markdown",
   "metadata": {},
   "source": [
    "#  Classification : IRIS dataset"
   ]
  },
  {
   "cell_type": "code",
   "execution_count": 72,
   "metadata": {},
   "outputs": [],
   "source": [
    "import numpy as np\n",
    "\n",
    "from sklearn import datasets\n",
    "from keras.utils import to_categorical\n",
    "from sklearn.model_selection import train_test_split\n",
    "from sklearn.preprocessing import normalize"
   ]
  },
  {
   "cell_type": "code",
   "execution_count": 73,
   "metadata": {},
   "outputs": [],
   "source": [
    "def load_iris():\n",
    "  iris = datasets.load_iris()\n",
    "  x = iris.data.astype(np.float32)\n",
    "  y = iris.target\n",
    "\n",
    "  y = to_categorical(y, np.max(y)+1).astype(np.float32)\n",
    "\n",
    "  # need to do conditioning on the dataset\n",
    "\n",
    "  x_train, x_test, y_train, y_test = train_test_split(x, y)\n",
    "  x_train = normalize(x_train, norm='max', axis=0)\n",
    "  x_test = normalize(x_test, norm='max', axis=0)\n",
    "\n",
    "  return (x_train, y_train), (x_test, y_test)"
   ]
  },
  {
   "cell_type": "code",
   "execution_count": 74,
   "metadata": {},
   "outputs": [],
   "source": [
    "import matplotlib.pyplot as plt\n",
    "\n",
    "%matplotlib inline \n",
    "\n",
    "def plot_loss(losses, test_loss, epochs):\n",
    "  fig, ax = plt.subplots()\n",
    "  time = np.arange(0, epochs, 1)\n",
    "  ax.plot(time, losses)\n",
    "\n",
    "  # test loss\n",
    "  y = test_loss\n",
    "  plt.axhline(y=y, color=\"orange\")\n",
    "  text = 'test loss: ' + str(np.around(y, decimals=3))\n",
    "  plt.annotate(text, xy=(2, y), xytext=(3, y * 1.05),\n",
    "    arrowprops=dict(facecolor='black', shrink=0.05),\n",
    "  )\n",
    "\n",
    "  ax.set(xlabel='iteration', ylabel='loss',\n",
    "       title='Loss over time')\n",
    "  plt.show()\n",
    "    \n",
    "def plot_accuracy(accuracies, test_accuracy, epochs):\n",
    "  fig, ax = plt.subplots()\n",
    "  time = np.arange(0, epochs, 1)\n",
    "  ax.plot(time, accuracies)\n",
    "\n",
    "  # test accuracy\n",
    "  y = test_accuracy\n",
    "  plt.axhline(y=y, color=\"orange\")\n",
    "  text = 'test accuracy: ' + str(np.around(y, decimals=3))\n",
    "  plt.annotate(text, xy=(2, y), xytext=(3, y * 0.95),\n",
    "    arrowprops=dict(facecolor='black', shrink=0.05),\n",
    "  )\n",
    "\n",
    "  ax.set(xlabel='iteration', ylabel='accuracy',\n",
    "       title='Accuracy over time')\n",
    "  plt.show()\n"
   ]
  },
  {
   "cell_type": "code",
   "execution_count": 75,
   "metadata": {},
   "outputs": [],
   "source": [
    "def main():\n",
    "  (x_train, y_train), (x_test, y_test) = load_iris()\n",
    "\n",
    "  # example of network. try your own to get higher accuracy\n",
    "  # plot training and test loss over time in jupyter notebook\n",
    "  # plot training and test accuracy over time in jupyter notebook \n",
    "\n",
    "  outputs = [\"relu\", \"relu\", \"sigmoid\"]\n",
    "  shapes = [x_train.shape[1], 30, 10, y_train.shape[1]]\n",
    "\n",
    "  train_losses = []\n",
    "  train_accuracies = []\n",
    "    \n",
    "  # which alpha should you use?\n",
    "  alpha = 0.02\n",
    "  model = initialize_weights(shapes, outputs)\n",
    "  labels = np.argmax(y_train, axis=1)\n",
    "  epochs = 100\n",
    "\n",
    "  # Training\n",
    "  for i in range(epochs):\n",
    "    fwd_results = forward(x_train, model)\n",
    "    loss, dweights = backward(y_train, fwd_results, model, \"binary_crossentropy\")\n",
    "    update(model, dweights, alpha)\n",
    "    \n",
    "    prediction = predict(x_train, model)\n",
    "    prediction = np.argmax(prediction, axis=1)\n",
    "    \n",
    "    accuracy = np.divide(np.sum(prediction==labels), labels.shape[0])\n",
    "    accuracy = np.around(accuracy, decimals=3)\n",
    "    \n",
    "    train_accuracies.append(accuracy)\n",
    "    train_losses.append(loss)\n",
    "    \n",
    "  # Test Set\n",
    "  test_results = forward(x_test, model)\n",
    "  test_loss, _ = backward(y_test, test_results, model, \"binary_crossentropy\")\n",
    "  prediction = test_results[-1][\"y\"]\n",
    "  prediction = np.argmax(prediction, axis=1)\n",
    "    \n",
    "  test_labels = np.argmax(y_test, axis=1)\n",
    "  test_accuracy = np.divide(np.sum(prediction==test_labels), test_labels.shape[0])\n",
    "  test_accuracy = np.around(test_accuracy, decimals=3)\n",
    "\n",
    "  # Plot\n",
    "  plot_loss(train_losses, test_loss, epochs)\n",
    "  plot_accuracy(train_accuracies, test_accuracy, epochs)"
   ]
  },
  {
   "cell_type": "code",
   "execution_count": 76,
   "metadata": {},
   "outputs": [
    {
     "data": {
      "image/png": "[encoded data removed]",
      "text/plain": [
       "<Figure size 432x288 with 1 Axes>"
      ]
     },
     "metadata": {
      "needs_background": "light"
     },
     "output_type": "display_data"
    },
    {
     "data": {
      "image/png": "[encoded data removed]",
      "text/plain": [
       "<Figure size 432x288 with 1 Axes>"
      ]
     },
     "metadata": {
      "needs_background": "light"
     },
     "output_type": "display_data"
    }
   ],
   "source": [
    "if __name__ == \"__main__\":\n",
    "  main()"
   ]
  },
  {
   "cell_type": "code",
   "execution_count": null,
   "metadata": {},
   "outputs": [],
   "source": []
  }
 ],
 "metadata": {
  "kernelspec": {
   "display_name": "Python 3 (ipykernel)",
   "language": "python",
   "name": "python3"
  },
  "language_info": {
   "codemirror_mode": {
    "name": "ipython",
    "version": 3
   },
   "file_extension": ".py",
   "mimetype": "text/x-python",
   "name": "python",
   "nbconvert_exporter": "python",
   "pygments_lexer": "ipython3",
   "version": "3.10.9"
  }
 },
 "nbformat": 4,
 "nbformat_minor": 2
}
