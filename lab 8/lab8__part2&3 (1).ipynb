{
  "cells": [
    {
      "cell_type": "markdown",
      "metadata": {
        "id": "KKpKts0vt43a"
      },
      "source": [
        "# 1. Introduction\n",
        "\n",
        "In this lab, you will learn how to do stock price prediction using LSTM (don't get too happy, because there is a random component to it you cannot predict which resembles more a random walk), perform movie classification, and generate random texts."
      ]
    },
    {
      "cell_type": "code",
      "execution_count": 1,
      "metadata": {
        "id": "-L5ZI1eOt43c"
      },
      "outputs": [],
      "source": [
        "import os\n",
        "os.environ['PROTOCOL_BUFFERS_PYTHON_IMPLEMENTATION'] = 'python'"
      ]
    },
    {
      "cell_type": "code",
      "execution_count": 2,
      "metadata": {
        "colab": {
          "base_uri": "https://localhost:8080/"
        },
        "id": "WFfIE7G6uQIs",
        "outputId": "c94e44c5-d7b5-4399-d52c-4afde0c8ec9d"
      },
      "outputs": [
        {
          "output_type": "stream",
          "name": "stdout",
          "text": [
            "Looking in indexes: https://pypi.org/simple, https://us-python.pkg.dev/colab-wheels/public/simple/\n",
            "Collecting yfinance\n",
            "  Downloading yfinance-0.2.12-py2.py3-none-any.whl (59 kB)\n",
            "\u001b[2K     \u001b[90m━━━━━━━━━━━━━━━━━━━━━━━━━━━━━━━━━━━━━━━━\u001b[0m \u001b[32m59.2/59.2 KB\u001b[0m \u001b[31m1.3 MB/s\u001b[0m eta \u001b[36m0:00:00\u001b[0m\n",
            "\u001b[?25hCollecting appdirs>=1.4.4\n",
            "  Downloading appdirs-1.4.4-py2.py3-none-any.whl (9.6 kB)\n",
            "Collecting html5lib>=1.1\n",
            "  Downloading html5lib-1.1-py2.py3-none-any.whl (112 kB)\n",
            "\u001b[2K     \u001b[90m━━━━━━━━━━━━━━━━━━━━━━━━━━━━━━━━━━━━━━━\u001b[0m \u001b[32m112.2/112.2 KB\u001b[0m \u001b[31m5.9 MB/s\u001b[0m eta \u001b[36m0:00:00\u001b[0m\n",
            "\u001b[?25hRequirement already satisfied: lxml>=4.9.1 in /usr/local/lib/python3.9/dist-packages (from yfinance) (4.9.2)\n",
            "Collecting frozendict>=2.3.4\n",
            "  Downloading frozendict-2.3.5-cp39-cp39-manylinux_2_17_x86_64.manylinux2014_x86_64.whl (112 kB)\n",
            "\u001b[2K     \u001b[90m━━━━━━━━━━━━━━━━━━━━━━━━━━━━━━━━━━━━━\u001b[0m \u001b[32m112.8/112.8 KB\u001b[0m \u001b[31m807.5 kB/s\u001b[0m eta \u001b[36m0:00:00\u001b[0m\n",
            "\u001b[?25hCollecting requests>=2.26\n",
            "  Downloading requests-2.28.2-py3-none-any.whl (62 kB)\n",
            "\u001b[2K     \u001b[90m━━━━━━━━━━━━━━━━━━━━━━━━━━━━━━━━━━━━━━━━\u001b[0m \u001b[32m62.8/62.8 KB\u001b[0m \u001b[31m2.4 MB/s\u001b[0m eta \u001b[36m0:00:00\u001b[0m\n",
            "\u001b[?25hRequirement already satisfied: pytz>=2022.5 in /usr/local/lib/python3.9/dist-packages (from yfinance) (2022.7.1)\n",
            "Collecting cryptography>=3.3.2\n",
            "  Downloading cryptography-39.0.2-cp36-abi3-manylinux_2_28_x86_64.whl (4.2 MB)\n",
            "\u001b[2K     \u001b[90m━━━━━━━━━━━━━━━━━━━━━━━━━━━━━━━━━━━━━━━━\u001b[0m \u001b[32m4.2/4.2 MB\u001b[0m \u001b[31m30.5 MB/s\u001b[0m eta \u001b[36m0:00:00\u001b[0m\n",
            "\u001b[?25hRequirement already satisfied: pandas>=1.3.0 in /usr/local/lib/python3.9/dist-packages (from yfinance) (1.3.5)\n",
            "Requirement already satisfied: multitasking>=0.0.7 in /usr/local/lib/python3.9/dist-packages (from yfinance) (0.0.11)\n",
            "Collecting beautifulsoup4>=4.11.1\n",
            "  Downloading beautifulsoup4-4.11.2-py3-none-any.whl (129 kB)\n",
            "\u001b[2K     \u001b[90m━━━━━━━━━━━━━━━━━━━━━━━━━━━━━━━━━━━━━━━\u001b[0m \u001b[32m129.4/129.4 KB\u001b[0m \u001b[31m9.0 MB/s\u001b[0m eta \u001b[36m0:00:00\u001b[0m\n",
            "\u001b[?25hRequirement already satisfied: numpy>=1.16.5 in /usr/local/lib/python3.9/dist-packages (from yfinance) (1.22.4)\n",
            "Collecting soupsieve>1.2\n",
            "  Downloading soupsieve-2.4-py3-none-any.whl (37 kB)\n",
            "Requirement already satisfied: cffi>=1.12 in /usr/local/lib/python3.9/dist-packages (from cryptography>=3.3.2->yfinance) (1.15.1)\n",
            "Requirement already satisfied: webencodings in /usr/local/lib/python3.9/dist-packages (from html5lib>=1.1->yfinance) (0.5.1)\n",
            "Requirement already satisfied: six>=1.9 in /usr/local/lib/python3.9/dist-packages (from html5lib>=1.1->yfinance) (1.15.0)\n",
            "Requirement already satisfied: python-dateutil>=2.7.3 in /usr/local/lib/python3.9/dist-packages (from pandas>=1.3.0->yfinance) (2.8.2)\n",
            "Requirement already satisfied: idna<4,>=2.5 in /usr/local/lib/python3.9/dist-packages (from requests>=2.26->yfinance) (2.10)\n",
            "Requirement already satisfied: urllib3<1.27,>=1.21.1 in /usr/local/lib/python3.9/dist-packages (from requests>=2.26->yfinance) (1.26.14)\n",
            "Collecting charset-normalizer<4,>=2\n",
            "  Downloading charset_normalizer-3.1.0-cp39-cp39-manylinux_2_17_x86_64.manylinux2014_x86_64.whl (199 kB)\n",
            "\u001b[2K     \u001b[90m━━━━━━━━━━━━━━━━━━━━━━━━━━━━━━━━━━━━━━━\u001b[0m \u001b[32m199.2/199.2 KB\u001b[0m \u001b[31m9.6 MB/s\u001b[0m eta \u001b[36m0:00:00\u001b[0m\n",
            "\u001b[?25hRequirement already satisfied: certifi>=2017.4.17 in /usr/local/lib/python3.9/dist-packages (from requests>=2.26->yfinance) (2022.12.7)\n",
            "Requirement already satisfied: pycparser in /usr/local/lib/python3.9/dist-packages (from cffi>=1.12->cryptography>=3.3.2->yfinance) (2.21)\n",
            "Installing collected packages: appdirs, soupsieve, html5lib, frozendict, charset-normalizer, requests, cryptography, beautifulsoup4, yfinance\n",
            "  Attempting uninstall: html5lib\n",
            "    Found existing installation: html5lib 1.0.1\n",
            "    Uninstalling html5lib-1.0.1:\n",
            "      Successfully uninstalled html5lib-1.0.1\n",
            "  Attempting uninstall: requests\n",
            "    Found existing installation: requests 2.25.1\n",
            "    Uninstalling requests-2.25.1:\n",
            "      Successfully uninstalled requests-2.25.1\n",
            "  Attempting uninstall: beautifulsoup4\n",
            "    Found existing installation: beautifulsoup4 4.6.3\n",
            "    Uninstalling beautifulsoup4-4.6.3:\n",
            "      Successfully uninstalled beautifulsoup4-4.6.3\n",
            "Successfully installed appdirs-1.4.4 beautifulsoup4-4.11.2 charset-normalizer-3.1.0 cryptography-39.0.2 frozendict-2.3.5 html5lib-1.1 requests-2.28.2 soupsieve-2.4 yfinance-0.2.12\n"
          ]
        }
      ],
      "source": [
        "pip install yfinance"
      ]
    },
    {
      "cell_type": "code",
      "execution_count": 3,
      "metadata": {
        "colab": {
          "base_uri": "https://localhost:8080/"
        },
        "id": "CNnPL6Vst43d",
        "outputId": "54d619c8-d235-4146-af5b-45f44cd3e690"
      },
      "outputs": [
        {
          "output_type": "execute_result",
          "data": {
            "text/plain": [
              "[PhysicalDevice(name='/physical_device:GPU:0', device_type='GPU')]"
            ]
          },
          "metadata": {},
          "execution_count": 3
        }
      ],
      "source": [
        "import matplotlib.pyplot as plt\n",
        "import numpy as np\n",
        "import pandas as pd\n",
        "from sklearn.preprocessing import StandardScaler\n",
        "import yfinance as yf\n",
        "import random\n",
        "import tensorflow as tf\n",
        "from tensorflow import keras\n",
        "%matplotlib inline\n",
        "\n",
        "tf.config.list_physical_devices('GPU')"
      ]
    },
    {
      "cell_type": "markdown",
      "metadata": {
        "id": "jGspaGB4t43e"
      },
      "source": [
        "# 2. Stock Price Classification\n",
        "\n",
        "In this first part, you will try to predict stock prices of any company. Instead of doing a prediction, you will try to classify stocks as `strong_buy`, `buy`, `neutral`, `sell`, `strong_sell`, if the price in the next day closed $>5\\%$, between $1\\%$ and $5\\%$, within $-1\\%$ and $1\\%$, between $-1\\%$ and $-5\\%$, and more than $-5\\%$, respectively."
      ]
    },
    {
      "cell_type": "code",
      "execution_count": 4,
      "metadata": {
        "colab": {
          "base_uri": "https://localhost:8080/",
          "height": 238
        },
        "id": "bp9BJE-st43e",
        "outputId": "e0d1eea3-ae0c-4700-a6b1-98305759249f"
      },
      "outputs": [
        {
          "output_type": "execute_result",
          "data": {
            "text/plain": [
              "                 Open       High        Low      Close  Adj Close    Volume\n",
              "Date                                                                       \n",
              "2021-01-04  92.110001  96.059998  90.919998  92.300003  92.300003  51802600\n",
              "2021-01-05  92.099998  93.209999  91.410004  92.769997  92.769997  34208000\n",
              "2021-01-06  91.620003  92.279999  89.459999  90.330002  90.330002  51911700\n",
              "2021-01-07  91.330002  95.510002  91.199997  95.160004  95.160004  42897200\n",
              "2021-01-08  95.980003  96.400002  93.269997  94.580002  94.580002  39816400"
            ],
            "text/html": [
              "\n",
              "  <div id=\"df-3645930b-00a7-4a41-9489-cdd4952187c4\">\n",
              "    <div class=\"colab-df-container\">\n",
              "      <div>\n",
              "<style scoped>\n",
              "    .dataframe tbody tr th:only-of-type {\n",
              "        vertical-align: middle;\n",
              "    }\n",
              "\n",
              "    .dataframe tbody tr th {\n",
              "        vertical-align: top;\n",
              "    }\n",
              "\n",
              "    .dataframe thead th {\n",
              "        text-align: right;\n",
              "    }\n",
              "</style>\n",
              "<table border=\"1\" class=\"dataframe\">\n",
              "  <thead>\n",
              "    <tr style=\"text-align: right;\">\n",
              "      <th></th>\n",
              "      <th>Open</th>\n",
              "      <th>High</th>\n",
              "      <th>Low</th>\n",
              "      <th>Close</th>\n",
              "      <th>Adj Close</th>\n",
              "      <th>Volume</th>\n",
              "    </tr>\n",
              "    <tr>\n",
              "      <th>Date</th>\n",
              "      <th></th>\n",
              "      <th></th>\n",
              "      <th></th>\n",
              "      <th></th>\n",
              "      <th></th>\n",
              "      <th></th>\n",
              "    </tr>\n",
              "  </thead>\n",
              "  <tbody>\n",
              "    <tr>\n",
              "      <th>2021-01-04</th>\n",
              "      <td>92.110001</td>\n",
              "      <td>96.059998</td>\n",
              "      <td>90.919998</td>\n",
              "      <td>92.300003</td>\n",
              "      <td>92.300003</td>\n",
              "      <td>51802600</td>\n",
              "    </tr>\n",
              "    <tr>\n",
              "      <th>2021-01-05</th>\n",
              "      <td>92.099998</td>\n",
              "      <td>93.209999</td>\n",
              "      <td>91.410004</td>\n",
              "      <td>92.769997</td>\n",
              "      <td>92.769997</td>\n",
              "      <td>34208000</td>\n",
              "    </tr>\n",
              "    <tr>\n",
              "      <th>2021-01-06</th>\n",
              "      <td>91.620003</td>\n",
              "      <td>92.279999</td>\n",
              "      <td>89.459999</td>\n",
              "      <td>90.330002</td>\n",
              "      <td>90.330002</td>\n",
              "      <td>51911700</td>\n",
              "    </tr>\n",
              "    <tr>\n",
              "      <th>2021-01-07</th>\n",
              "      <td>91.330002</td>\n",
              "      <td>95.510002</td>\n",
              "      <td>91.199997</td>\n",
              "      <td>95.160004</td>\n",
              "      <td>95.160004</td>\n",
              "      <td>42897200</td>\n",
              "    </tr>\n",
              "    <tr>\n",
              "      <th>2021-01-08</th>\n",
              "      <td>95.980003</td>\n",
              "      <td>96.400002</td>\n",
              "      <td>93.269997</td>\n",
              "      <td>94.580002</td>\n",
              "      <td>94.580002</td>\n",
              "      <td>39816400</td>\n",
              "    </tr>\n",
              "  </tbody>\n",
              "</table>\n",
              "</div>\n",
              "      <button class=\"colab-df-convert\" onclick=\"convertToInteractive('df-3645930b-00a7-4a41-9489-cdd4952187c4')\"\n",
              "              title=\"Convert this dataframe to an interactive table.\"\n",
              "              style=\"display:none;\">\n",
              "        \n",
              "  <svg xmlns=\"http://www.w3.org/2000/svg\" height=\"24px\"viewBox=\"0 0 24 24\"\n",
              "       width=\"24px\">\n",
              "    <path d=\"M0 0h24v24H0V0z\" fill=\"none\"/>\n",
              "    <path d=\"M18.56 5.44l.94 2.06.94-2.06 2.06-.94-2.06-.94-.94-2.06-.94 2.06-2.06.94zm-11 1L8.5 8.5l.94-2.06 2.06-.94-2.06-.94L8.5 2.5l-.94 2.06-2.06.94zm10 10l.94 2.06.94-2.06 2.06-.94-2.06-.94-.94-2.06-.94 2.06-2.06.94z\"/><path d=\"M17.41 7.96l-1.37-1.37c-.4-.4-.92-.59-1.43-.59-.52 0-1.04.2-1.43.59L10.3 9.45l-7.72 7.72c-.78.78-.78 2.05 0 2.83L4 21.41c.39.39.9.59 1.41.59.51 0 1.02-.2 1.41-.59l7.78-7.78 2.81-2.81c.8-.78.8-2.07 0-2.86zM5.41 20L4 18.59l7.72-7.72 1.47 1.35L5.41 20z\"/>\n",
              "  </svg>\n",
              "      </button>\n",
              "      \n",
              "  <style>\n",
              "    .colab-df-container {\n",
              "      display:flex;\n",
              "      flex-wrap:wrap;\n",
              "      gap: 12px;\n",
              "    }\n",
              "\n",
              "    .colab-df-convert {\n",
              "      background-color: #E8F0FE;\n",
              "      border: none;\n",
              "      border-radius: 50%;\n",
              "      cursor: pointer;\n",
              "      display: none;\n",
              "      fill: #1967D2;\n",
              "      height: 32px;\n",
              "      padding: 0 0 0 0;\n",
              "      width: 32px;\n",
              "    }\n",
              "\n",
              "    .colab-df-convert:hover {\n",
              "      background-color: #E2EBFA;\n",
              "      box-shadow: 0px 1px 2px rgba(60, 64, 67, 0.3), 0px 1px 3px 1px rgba(60, 64, 67, 0.15);\n",
              "      fill: #174EA6;\n",
              "    }\n",
              "\n",
              "    [theme=dark] .colab-df-convert {\n",
              "      background-color: #3B4455;\n",
              "      fill: #D2E3FC;\n",
              "    }\n",
              "\n",
              "    [theme=dark] .colab-df-convert:hover {\n",
              "      background-color: #434B5C;\n",
              "      box-shadow: 0px 1px 3px 1px rgba(0, 0, 0, 0.15);\n",
              "      filter: drop-shadow(0px 1px 2px rgba(0, 0, 0, 0.3));\n",
              "      fill: #FFFFFF;\n",
              "    }\n",
              "  </style>\n",
              "\n",
              "      <script>\n",
              "        const buttonEl =\n",
              "          document.querySelector('#df-3645930b-00a7-4a41-9489-cdd4952187c4 button.colab-df-convert');\n",
              "        buttonEl.style.display =\n",
              "          google.colab.kernel.accessAllowed ? 'block' : 'none';\n",
              "\n",
              "        async function convertToInteractive(key) {\n",
              "          const element = document.querySelector('#df-3645930b-00a7-4a41-9489-cdd4952187c4');\n",
              "          const dataTable =\n",
              "            await google.colab.kernel.invokeFunction('convertToInteractive',\n",
              "                                                     [key], {});\n",
              "          if (!dataTable) return;\n",
              "\n",
              "          const docLinkHtml = 'Like what you see? Visit the ' +\n",
              "            '<a target=\"_blank\" href=https://colab.research.google.com/notebooks/data_table.ipynb>data table notebook</a>'\n",
              "            + ' to learn more about interactive tables.';\n",
              "          element.innerHTML = '';\n",
              "          dataTable['output_type'] = 'display_data';\n",
              "          await google.colab.output.renderOutput(dataTable, element);\n",
              "          const docLink = document.createElement('div');\n",
              "          docLink.innerHTML = docLinkHtml;\n",
              "          element.appendChild(docLink);\n",
              "        }\n",
              "      </script>\n",
              "    </div>\n",
              "  </div>\n",
              "  "
            ]
          },
          "metadata": {},
          "execution_count": 4
        }
      ],
      "source": [
        "stock_ticket = 'AMD'\n",
        "stock = yf.download(stock_ticket, start='2021-01-01', end='2022-12-31', progress=False)\n",
        "stock.head()"
      ]
    },
    {
      "cell_type": "code",
      "execution_count": 5,
      "metadata": {
        "colab": {
          "base_uri": "https://localhost:8080/",
          "height": 238
        },
        "id": "rO82XaLrt43e",
        "outputId": "4e78599b-812e-421c-8aed-e2126efa355e",
        "scrolled": false
      },
      "outputs": [
        {
          "output_type": "execute_result",
          "data": {
            "text/plain": [
              "                 Open       High        Low      Close  Adj Close    Volume\n",
              "Date                                                                       \n",
              "2022-12-23  63.110001  64.660004  62.720001  64.519997  64.519997  45923000\n",
              "2022-12-27  63.869999  64.279999  62.970001  63.270000  63.270000  36086000\n",
              "2022-12-28  62.540001  63.540001  61.959999  62.570000  62.570000  39526500\n",
              "2022-12-29  63.639999  65.180000  63.060001  64.820000  64.820000  41428500\n",
              "2022-12-30  63.770000  64.820000  63.139999  64.769997  64.769997  37127000"
            ],
            "text/html": [
              "\n",
              "  <div id=\"df-72feb2f0-1039-4a5b-ba46-50142f8f6a15\">\n",
              "    <div class=\"colab-df-container\">\n",
              "      <div>\n",
              "<style scoped>\n",
              "    .dataframe tbody tr th:only-of-type {\n",
              "        vertical-align: middle;\n",
              "    }\n",
              "\n",
              "    .dataframe tbody tr th {\n",
              "        vertical-align: top;\n",
              "    }\n",
              "\n",
              "    .dataframe thead th {\n",
              "        text-align: right;\n",
              "    }\n",
              "</style>\n",
              "<table border=\"1\" class=\"dataframe\">\n",
              "  <thead>\n",
              "    <tr style=\"text-align: right;\">\n",
              "      <th></th>\n",
              "      <th>Open</th>\n",
              "      <th>High</th>\n",
              "      <th>Low</th>\n",
              "      <th>Close</th>\n",
              "      <th>Adj Close</th>\n",
              "      <th>Volume</th>\n",
              "    </tr>\n",
              "    <tr>\n",
              "      <th>Date</th>\n",
              "      <th></th>\n",
              "      <th></th>\n",
              "      <th></th>\n",
              "      <th></th>\n",
              "      <th></th>\n",
              "      <th></th>\n",
              "    </tr>\n",
              "  </thead>\n",
              "  <tbody>\n",
              "    <tr>\n",
              "      <th>2022-12-23</th>\n",
              "      <td>63.110001</td>\n",
              "      <td>64.660004</td>\n",
              "      <td>62.720001</td>\n",
              "      <td>64.519997</td>\n",
              "      <td>64.519997</td>\n",
              "      <td>45923000</td>\n",
              "    </tr>\n",
              "    <tr>\n",
              "      <th>2022-12-27</th>\n",
              "      <td>63.869999</td>\n",
              "      <td>64.279999</td>\n",
              "      <td>62.970001</td>\n",
              "      <td>63.270000</td>\n",
              "      <td>63.270000</td>\n",
              "      <td>36086000</td>\n",
              "    </tr>\n",
              "    <tr>\n",
              "      <th>2022-12-28</th>\n",
              "      <td>62.540001</td>\n",
              "      <td>63.540001</td>\n",
              "      <td>61.959999</td>\n",
              "      <td>62.570000</td>\n",
              "      <td>62.570000</td>\n",
              "      <td>39526500</td>\n",
              "    </tr>\n",
              "    <tr>\n",
              "      <th>2022-12-29</th>\n",
              "      <td>63.639999</td>\n",
              "      <td>65.180000</td>\n",
              "      <td>63.060001</td>\n",
              "      <td>64.820000</td>\n",
              "      <td>64.820000</td>\n",
              "      <td>41428500</td>\n",
              "    </tr>\n",
              "    <tr>\n",
              "      <th>2022-12-30</th>\n",
              "      <td>63.770000</td>\n",
              "      <td>64.820000</td>\n",
              "      <td>63.139999</td>\n",
              "      <td>64.769997</td>\n",
              "      <td>64.769997</td>\n",
              "      <td>37127000</td>\n",
              "    </tr>\n",
              "  </tbody>\n",
              "</table>\n",
              "</div>\n",
              "      <button class=\"colab-df-convert\" onclick=\"convertToInteractive('df-72feb2f0-1039-4a5b-ba46-50142f8f6a15')\"\n",
              "              title=\"Convert this dataframe to an interactive table.\"\n",
              "              style=\"display:none;\">\n",
              "        \n",
              "  <svg xmlns=\"http://www.w3.org/2000/svg\" height=\"24px\"viewBox=\"0 0 24 24\"\n",
              "       width=\"24px\">\n",
              "    <path d=\"M0 0h24v24H0V0z\" fill=\"none\"/>\n",
              "    <path d=\"M18.56 5.44l.94 2.06.94-2.06 2.06-.94-2.06-.94-.94-2.06-.94 2.06-2.06.94zm-11 1L8.5 8.5l.94-2.06 2.06-.94-2.06-.94L8.5 2.5l-.94 2.06-2.06.94zm10 10l.94 2.06.94-2.06 2.06-.94-2.06-.94-.94-2.06-.94 2.06-2.06.94z\"/><path d=\"M17.41 7.96l-1.37-1.37c-.4-.4-.92-.59-1.43-.59-.52 0-1.04.2-1.43.59L10.3 9.45l-7.72 7.72c-.78.78-.78 2.05 0 2.83L4 21.41c.39.39.9.59 1.41.59.51 0 1.02-.2 1.41-.59l7.78-7.78 2.81-2.81c.8-.78.8-2.07 0-2.86zM5.41 20L4 18.59l7.72-7.72 1.47 1.35L5.41 20z\"/>\n",
              "  </svg>\n",
              "      </button>\n",
              "      \n",
              "  <style>\n",
              "    .colab-df-container {\n",
              "      display:flex;\n",
              "      flex-wrap:wrap;\n",
              "      gap: 12px;\n",
              "    }\n",
              "\n",
              "    .colab-df-convert {\n",
              "      background-color: #E8F0FE;\n",
              "      border: none;\n",
              "      border-radius: 50%;\n",
              "      cursor: pointer;\n",
              "      display: none;\n",
              "      fill: #1967D2;\n",
              "      height: 32px;\n",
              "      padding: 0 0 0 0;\n",
              "      width: 32px;\n",
              "    }\n",
              "\n",
              "    .colab-df-convert:hover {\n",
              "      background-color: #E2EBFA;\n",
              "      box-shadow: 0px 1px 2px rgba(60, 64, 67, 0.3), 0px 1px 3px 1px rgba(60, 64, 67, 0.15);\n",
              "      fill: #174EA6;\n",
              "    }\n",
              "\n",
              "    [theme=dark] .colab-df-convert {\n",
              "      background-color: #3B4455;\n",
              "      fill: #D2E3FC;\n",
              "    }\n",
              "\n",
              "    [theme=dark] .colab-df-convert:hover {\n",
              "      background-color: #434B5C;\n",
              "      box-shadow: 0px 1px 3px 1px rgba(0, 0, 0, 0.15);\n",
              "      filter: drop-shadow(0px 1px 2px rgba(0, 0, 0, 0.3));\n",
              "      fill: #FFFFFF;\n",
              "    }\n",
              "  </style>\n",
              "\n",
              "      <script>\n",
              "        const buttonEl =\n",
              "          document.querySelector('#df-72feb2f0-1039-4a5b-ba46-50142f8f6a15 button.colab-df-convert');\n",
              "        buttonEl.style.display =\n",
              "          google.colab.kernel.accessAllowed ? 'block' : 'none';\n",
              "\n",
              "        async function convertToInteractive(key) {\n",
              "          const element = document.querySelector('#df-72feb2f0-1039-4a5b-ba46-50142f8f6a15');\n",
              "          const dataTable =\n",
              "            await google.colab.kernel.invokeFunction('convertToInteractive',\n",
              "                                                     [key], {});\n",
              "          if (!dataTable) return;\n",
              "\n",
              "          const docLinkHtml = 'Like what you see? Visit the ' +\n",
              "            '<a target=\"_blank\" href=https://colab.research.google.com/notebooks/data_table.ipynb>data table notebook</a>'\n",
              "            + ' to learn more about interactive tables.';\n",
              "          element.innerHTML = '';\n",
              "          dataTable['output_type'] = 'display_data';\n",
              "          await google.colab.output.renderOutput(dataTable, element);\n",
              "          const docLink = document.createElement('div');\n",
              "          docLink.innerHTML = docLinkHtml;\n",
              "          element.appendChild(docLink);\n",
              "        }\n",
              "      </script>\n",
              "    </div>\n",
              "  </div>\n",
              "  "
            ]
          },
          "metadata": {},
          "execution_count": 5
        }
      ],
      "source": [
        "stock.tail()"
      ]
    },
    {
      "cell_type": "markdown",
      "metadata": {
        "id": "ewIAhbLKt43e"
      },
      "source": [
        "Let's first only consider the closing values of the stock prices."
      ]
    },
    {
      "cell_type": "code",
      "execution_count": 6,
      "metadata": {
        "colab": {
          "base_uri": "https://localhost:8080/",
          "height": 293
        },
        "id": "gT6-7sfat43e",
        "outputId": "41c69853-a242-44d9-adf5-61590c0cc837"
      },
      "outputs": [
        {
          "output_type": "display_data",
          "data": {
            "text/plain": [
              "<Figure size 432x288 with 1 Axes>"
            ],
            "image/png": "[encoded data removed]"
          },
          "metadata": {
            "needs_background": "light"
          }
        }
      ],
      "source": [
        "stock.Close.plot()\n",
        "plt.title(stock_ticket)\n",
        "plt.show()"
      ]
    },
    {
      "cell_type": "code",
      "execution_count": 7,
      "metadata": {
        "id": "KXgX7Wrtt43f"
      },
      "outputs": [],
      "source": [
        "stock_close = stock.Close"
      ]
    },
    {
      "cell_type": "code",
      "execution_count": 8,
      "metadata": {
        "colab": {
          "base_uri": "https://localhost:8080/"
        },
        "id": "h3TFMzfst43f",
        "outputId": "8cd3e15c-f7bc-41c1-a83b-b114677ea09e"
      },
      "outputs": [
        {
          "output_type": "execute_result",
          "data": {
            "text/plain": [
              "Date\n",
              "2021-01-04    92.300003\n",
              "2021-01-05    92.769997\n",
              "2021-01-06    90.330002\n",
              "2021-01-07    95.160004\n",
              "2021-01-08    94.580002\n",
              "Name: Close, dtype: float64"
            ]
          },
          "metadata": {},
          "execution_count": 8
        }
      ],
      "source": [
        "stock_close.head()"
      ]
    },
    {
      "cell_type": "markdown",
      "metadata": {
        "id": "_BtcKR-Tt43f"
      },
      "source": [
        "Now, let's consider the percent change of the next value with respect to the current value of the stock. Note that the last entry using `diff(-1)` will be `not a number`, because there is nothing to compare againt."
      ]
    },
    {
      "cell_type": "code",
      "execution_count": 9,
      "metadata": {
        "id": "Pxf6b6qnt43f"
      },
      "outputs": [],
      "source": [
        "stock_next = -stock_close.diff(-1) / stock_close\n",
        "stock_next.columns = ['Next']"
      ]
    },
    {
      "cell_type": "code",
      "execution_count": 10,
      "metadata": {
        "colab": {
          "base_uri": "https://localhost:8080/",
          "height": 293
        },
        "id": "9lx4r7rxt43f",
        "outputId": "9263748e-45cb-4dbe-e6cc-b760d191e7e3",
        "scrolled": false
      },
      "outputs": [
        {
          "output_type": "display_data",
          "data": {
            "text/plain": [
              "<Figure size 432x288 with 1 Axes>"
            ],
            "image/png": "[encoded data removed]"
          },
          "metadata": {
            "needs_background": "light"
          }
        }
      ],
      "source": [
        "stock_next.plot()\n",
        "plt.title('Stock Price Difference')\n",
        "plt.show()"
      ]
    },
    {
      "cell_type": "code",
      "execution_count": 11,
      "metadata": {
        "colab": {
          "base_uri": "https://localhost:8080/"
        },
        "id": "fkYzTSktt43f",
        "outputId": "1c66be46-0bb7-497b-a5cd-5cb0a37d5fef"
      },
      "outputs": [
        {
          "output_type": "execute_result",
          "data": {
            "text/plain": [
              "0.03319686575007782"
            ]
          },
          "metadata": {},
          "execution_count": 11
        }
      ],
      "source": [
        "std = np.std(stock_next.values[:-1])\n",
        "std"
      ]
    },
    {
      "cell_type": "code",
      "execution_count": 12,
      "metadata": {
        "colab": {
          "base_uri": "https://localhost:8080/",
          "height": 281
        },
        "id": "3vI6a_lIt43g",
        "outputId": "fb594993-66a5-4c1e-9078-d5b83480360b"
      },
      "outputs": [
        {
          "output_type": "display_data",
          "data": {
            "text/plain": [
              "<Figure size 432x288 with 1 Axes>"
            ],
            "image/png": "[encoded data removed]"
          },
          "metadata": {
            "needs_background": "light"
          }
        }
      ],
      "source": [
        "r = np.random.normal(0, std, size=len(stock_next[:-1]))\n",
        "plt.plot(stock_next.index[:-1], r)\n",
        "plt.title('Random Walk')\n",
        "plt.show()"
      ]
    },
    {
      "cell_type": "code",
      "execution_count": 13,
      "metadata": {
        "colab": {
          "base_uri": "https://localhost:8080/",
          "height": 265
        },
        "id": "3szB5YY2t43g",
        "outputId": "8c5fcb9e-a995-4fd0-acdd-4e7455eb5ee8",
        "scrolled": true
      },
      "outputs": [
        {
          "output_type": "display_data",
          "data": {
            "text/plain": [
              "<Figure size 432x288 with 1 Axes>"
            ],
            "image/png": "[encoded data removed]"
          },
          "metadata": {
            "needs_background": "light"
          }
        }
      ],
      "source": [
        "plt.hist(stock_next.values, bins=10)\n",
        "plt.show()"
      ]
    },
    {
      "cell_type": "code",
      "execution_count": 14,
      "metadata": {
        "colab": {
          "base_uri": "https://localhost:8080/"
        },
        "id": "TGp1ZDNit43g",
        "outputId": "bde74d1c-31b8-4edd-81b9-202c42b08e9c"
      },
      "outputs": [
        {
          "output_type": "execute_result",
          "data": {
            "text/plain": [
              "Date\n",
              "2021-01-04    0.005092\n",
              "2021-01-05   -0.026302\n",
              "2021-01-06    0.053471\n",
              "2021-01-07   -0.006095\n",
              "2021-01-08    0.028230\n",
              "Name: Close, dtype: float64"
            ]
          },
          "metadata": {},
          "execution_count": 14
        }
      ],
      "source": [
        "stock_next.head()"
      ]
    },
    {
      "cell_type": "code",
      "execution_count": 15,
      "metadata": {
        "colab": {
          "base_uri": "https://localhost:8080/"
        },
        "id": "w2GohwnBt43g",
        "outputId": "5e6b6837-db9e-4250-a9b2-ae77a53755f2"
      },
      "outputs": [
        {
          "output_type": "execute_result",
          "data": {
            "text/plain": [
              "Date\n",
              "2022-12-23   -0.019374\n",
              "2022-12-27   -0.011064\n",
              "2022-12-28    0.035960\n",
              "2022-12-29   -0.000771\n",
              "2022-12-30         NaN\n",
              "Name: Close, dtype: float64"
            ]
          },
          "metadata": {},
          "execution_count": 15
        }
      ],
      "source": [
        "stock_next.tail()"
      ]
    },
    {
      "cell_type": "markdown",
      "metadata": {
        "id": "pKUDg5zEt43g"
      },
      "source": [
        "Because the last entry is `not-a-number`, let's remove the last entry and create the following class values:\n",
        "\n",
        "- 0: strong sell\n",
        "- 1: sell\n",
        "- 2: neutral\n",
        "- 3: buy\n",
        "- 4: strong buy"
      ]
    },
    {
      "cell_type": "code",
      "execution_count": 16,
      "metadata": {
        "colab": {
          "base_uri": "https://localhost:8080/"
        },
        "id": "lg7cVq0At43g",
        "outputId": "f40d8e99-6684-4095-e71f-c74b996fb4b7"
      },
      "outputs": [
        {
          "output_type": "execute_result",
          "data": {
            "text/plain": [
              "Date\n",
              "2022-12-22    0.010335\n",
              "2022-12-23   -0.019374\n",
              "2022-12-27   -0.011064\n",
              "2022-12-28    0.035960\n",
              "2022-12-29   -0.000771\n",
              "Name: Close, dtype: float64"
            ]
          },
          "metadata": {},
          "execution_count": 16
        }
      ],
      "source": [
        "last_date = stock_close.index[-1]\n",
        "del stock_close[last_date]\n",
        "del stock_next[last_date]\n",
        "stock_next.tail()"
      ]
    },
    {
      "cell_type": "code",
      "execution_count": 17,
      "metadata": {
        "colab": {
          "base_uri": "https://localhost:8080/"
        },
        "id": "MWk86vl-t43g",
        "outputId": "d482d81f-8b1f-4e80-8a12-d0fa127227d9",
        "scrolled": true
      },
      "outputs": [
        {
          "output_type": "execute_result",
          "data": {
            "text/plain": [
              "array([ 0, -1,  2,  0,  1, -1, -1, -1, -1,  1,  0,  1,  1,  1,  0, -2, -1,\n",
              "       -1,  1,  1, -1,  0,  0,  1,  0,  1,  0,  1, -1, -1, -1,  1, -1,  0,\n",
              "        1, -2,  1,  1, -1, -1, -1,  0, -2,  2, -1,  1,  0,  1,  0,  0, -2,\n",
              "        1,  1, -1, -1,  0,  1,  0, -1,  1,  1,  0,  0,  0,  1,  0, -2,  1,\n",
              "       -1,  2, -1, -1, -1,  1, -1,  1,  1,  0, -1,  0, -1, -1,  0,  0,  0,\n",
              "        1, -1,  1, -1, -1,  1,  0,  0,  1,  1, -1,  0,  0,  0,  0,  1,  0,\n",
              "        1, -1,  1,  0,  0, -1,  1,  0,  0, -1,  0,  2,  0, -1,  1,  0,  1,\n",
              "        0,  1,  1,  1,  0,  1,  0, -1,  0,  1,  0,  0, -1, -1, -1,  0,  0,\n",
              "        1,  1,  1,  0,  0,  2,  2,  1,  1,  1,  2, -2, -1, -1, -1,  1, -1,\n",
              "        1, -1,  0, -1,  0,  0,  1, -1,  0,  0,  1,  0,  0,  0,  0,  0,  0,\n",
              "       -1,  0,  0,  0,  0,  0,  0, -1, -1,  1,  1,  1,  0,  1, -2, -1,  1,\n",
              "        0, -1,  1,  1,  1, -1,  0,  0,  1,  1,  0,  1,  0,  0,  1,  0,  1,\n",
              "        0,  0,  0,  0,  1,  1,  1,  2,  0,  2,  0, -2,  1,  1,  0,  1,  0,\n",
              "        1,  0, -1, -1,  2, -1,  1, -1, -2,  1, -1, -1,  1,  0, -1,  0, -1,\n",
              "        1,  2, -2,  0, -1,  2,  0,  1,  2,  0, -1, -1,  0,  1, -1, -2,  0,\n",
              "       -1,  0,  1,  0, -1,  1, -1, -1, -1, -1, -1, -1,  0, -2,  1,  2,  1,\n",
              "        2, -1,  1,  0,  1,  1, -2, -2,  0,  2, -1, -1,  1,  1, -2,  2,  1,\n",
              "        1, -2,  1, -2, -1, -2,  1,  2, -1, -1, -1,  2,  2, -1,  1,  1,  0,\n",
              "        0,  2,  0,  0,  1, -1, -2, -1,  1, -1, -1,  0, -1, -1, -1,  1, -1,\n",
              "        0,  1, -1, -1, -1,  1, -2,  0,  2, -1,  2,  1,  2, -2,  1, -2,  1,\n",
              "        0,  0,  2,  0,  2, -2,  0, -1,  1, -1,  1,  2,  1,  0,  0,  2, -1,\n",
              "        0,  0, -1, -1, -1, -2,  0,  1, -2,  0,  1,  0, -1,  2, -1, -2, -1,\n",
              "       -1, -1,  1,  0,  2,  0, -1,  0,  1,  1,  1,  0,  2,  1,  1, -1,  0,\n",
              "       -1,  2,  1,  1,  1,  1, -1,  2, -1, -1, -1,  1,  0,  1,  0,  0, -1,\n",
              "        1, -1, -1,  0,  0,  1, -2, -1, -1, -1, -1, -1, -1,  1,  1,  1,  0,\n",
              "       -2,  0, -1,  0,  0, -1, -1, -2, -1, -1,  1,  1, -2, -1,  1,  1,  0,\n",
              "        0, -2, -1,  0,  0,  1, -2,  1,  0, -1,  0,  1,  0,  1, -1, -1,  2,\n",
              "       -1,  0, -1,  1,  1,  1,  1, -2,  2,  2,  1,  1, -1,  1,  0, -1,  1,\n",
              "        1, -1, -1,  0,  2,  0, -1, -1, -1,  0,  0, -1,  1,  1, -1, -1, -1,\n",
              "       -1,  0,  1, -2,  1, -1, -1,  1,  0], dtype=int32)"
            ]
          },
          "metadata": {},
          "execution_count": 17
        }
      ],
      "source": [
        "values = stock_next.values\n",
        "action = np.where(\n",
        "    np.abs(values) > 0.05,\n",
        "    np.sign(values) * 2,\n",
        "    np.where(\n",
        "        np.abs(values) > 0.01,\n",
        "        np.sign(values) * 1,\n",
        "        0\n",
        "    )\n",
        ").astype(np.int32)\n",
        "action"
      ]
    },
    {
      "cell_type": "markdown",
      "metadata": {
        "id": "2tCZnKoit43g"
      },
      "source": [
        "Note that `action` is still shifted by 2 from the values obtained before, so we can just add `2` to it."
      ]
    },
    {
      "cell_type": "code",
      "execution_count": 18,
      "metadata": {
        "colab": {
          "base_uri": "https://localhost:8080/",
          "height": 283
        },
        "id": "zF_VtzJst43h",
        "outputId": "44e0f7d5-eb52-42ce-e70f-6b275d7ca20c",
        "scrolled": true
      },
      "outputs": [
        {
          "output_type": "execute_result",
          "data": {
            "text/plain": [
              "[<matplotlib.lines.Line2D at 0x7efb8150f490>]"
            ]
          },
          "metadata": {},
          "execution_count": 18
        },
        {
          "output_type": "display_data",
          "data": {
            "text/plain": [
              "<Figure size 432x288 with 1 Axes>"
            ],
            "image/png": "[encoded data removed]"
          },
          "metadata": {
            "needs_background": "light"
          }
        }
      ],
      "source": [
        "plt.plot(action + 2)"
      ]
    },
    {
      "cell_type": "markdown",
      "metadata": {
        "id": "bxxbXXMxt43h"
      },
      "source": [
        "Let's create a training window where we can use LSTM to predict our classifier."
      ]
    },
    {
      "cell_type": "code",
      "execution_count": 19,
      "metadata": {
        "id": "UIpoejO4t43h"
      },
      "outputs": [],
      "source": [
        "def split_data(data, action, window=1, validation_split=0.1):\n",
        "    x = []\n",
        "    y = []\n",
        "    for i in range(window, len(data)):\n",
        "        x.append(data[i-window:i])\n",
        "        y.append(action[i])\n",
        "        \n",
        "    train_size = int((1 - validation_split) * len(x))\n",
        "    \n",
        "    x = np.array(x)\n",
        "    y = np.array(y)\n",
        "    \n",
        "    return x[:train_size], y[:train_size], x[train_size:], y[train_size:]"
      ]
    },
    {
      "cell_type": "code",
      "execution_count": 20,
      "metadata": {
        "colab": {
          "base_uri": "https://localhost:8080/"
        },
        "id": "ih5tTozVt43h",
        "outputId": "ee897a57-7b66-4b36-a19d-ba95a32d0ea8",
        "scrolled": true
      },
      "outputs": [
        {
          "output_type": "execute_result",
          "data": {
            "text/plain": [
              "((433, 20), (433, 5), (49, 20), (49, 5))"
            ]
          },
          "metadata": {},
          "execution_count": 20
        }
      ],
      "source": [
        "data = values\n",
        "\n",
        "data = stock_close.values\n",
        "scaler = StandardScaler()\n",
        "data = scaler.fit_transform(data.reshape(-1, 1)).flatten()\n",
        "\n",
        "x_train, y_train, x_test, y_test = split_data(\n",
        "    data, action + 2, window=20, validation_split=0.1)\n",
        "\n",
        "y_train = keras.utils.to_categorical(y_train, 5)\n",
        "y_test = keras.utils.to_categorical(y_test, 5)\n",
        "\n",
        "x_train.shape, y_train.shape, x_test.shape, y_test.shape"
      ]
    },
    {
      "cell_type": "markdown",
      "metadata": {
        "id": "TUmabdeVt43h"
      },
      "source": [
        "Now, you can create your network to try to predict wheather we should buy or sell stocks."
      ]
    },
    {
      "cell_type": "code",
      "execution_count": 21,
      "metadata": {
        "colab": {
          "base_uri": "https://localhost:8080/"
        },
        "id": "JiCQ3oLEt43h",
        "outputId": "1c812d6c-75c8-4d6b-ce7d-65ed480468c7"
      },
      "outputs": [
        {
          "output_type": "stream",
          "name": "stdout",
          "text": [
            "Model: \"model\"\n",
            "_________________________________________________________________\n",
            " Layer (type)                Output Shape              Param #   \n",
            "=================================================================\n",
            " input_1 (InputLayer)        [(None, 20)]              0         \n",
            "                                                                 \n",
            " dense (Dense)               (None, 64)                1344      \n",
            "                                                                 \n",
            " dropout (Dropout)           (None, 64)                0         \n",
            "                                                                 \n",
            " dense_1 (Dense)             (None, 256)               16640     \n",
            "                                                                 \n",
            " dropout_1 (Dropout)         (None, 256)               0         \n",
            "                                                                 \n",
            " dense_2 (Dense)             (None, 128)               32896     \n",
            "                                                                 \n",
            " dense_3 (Dense)             (None, 5)                 645       \n",
            "                                                                 \n",
            "=================================================================\n",
            "Total params: 51,525\n",
            "Trainable params: 51,525\n",
            "Non-trainable params: 0\n",
            "_________________________________________________________________\n"
          ]
        }
      ],
      "source": [
        "def CreateModel(i_shape, o_shape):\n",
        "  x_i = keras.layers.Input(i_shape)\n",
        "\n",
        "  x = keras.layers.Dense(64, activation='relu')(x_i)\n",
        "  x = keras.layers.Dropout(0.5)(x)\n",
        "  x = keras.layers.Dense(256, activation='relu')(x)\n",
        "  x = keras.layers.Dropout(0.5)(x)\n",
        "  x = keras.layers.Dense(128, activation='relu')(x)\n",
        "  x = keras.layers.Dense(o_shape[-1], activation='softmax')(x)\n",
        "  \n",
        "  return keras.models.Model(x_i, x)\n",
        "  \n",
        "sgd = keras.optimizers.Adam(0.001)\n",
        "model = CreateModel(x_train.shape[1:], y_train.shape[1:])\n",
        "model.compile(\n",
        "    loss='categorical_crossentropy', optimizer=sgd, metrics=['acc'])\n",
        "model.summary()"
      ]
    },
    {
      "cell_type": "code",
      "execution_count": 22,
      "metadata": {
        "colab": {
          "base_uri": "https://localhost:8080/"
        },
        "id": "FLpT5gt_t43h",
        "outputId": "39c5ab6a-9d7a-43b7-8481-419e182580e3",
        "scrolled": false
      },
      "outputs": [
        {
          "output_type": "stream",
          "name": "stdout",
          "text": [
            "Epoch 1/100\n",
            "7/7 [==============================] - 6s 45ms/step - loss: 1.6212 - acc: 0.2448 - val_loss: 1.4736 - val_acc: 0.3673\n",
            "Epoch 2/100\n",
            "7/7 [==============================] - 0s 7ms/step - loss: 1.5489 - acc: 0.2841 - val_loss: 1.4740 - val_acc: 0.3265\n",
            "Epoch 3/100\n",
            "7/7 [==============================] - 0s 7ms/step - loss: 1.5140 - acc: 0.2818 - val_loss: 1.5416 - val_acc: 0.3469\n",
            "Epoch 4/100\n",
            "7/7 [==============================] - 0s 8ms/step - loss: 1.4719 - acc: 0.3002 - val_loss: 1.6032 - val_acc: 0.1837\n",
            "Epoch 5/100\n",
            "7/7 [==============================] - 0s 7ms/step - loss: 1.4826 - acc: 0.2979 - val_loss: 1.5902 - val_acc: 0.2653\n",
            "Epoch 6/100\n",
            "7/7 [==============================] - 0s 8ms/step - loss: 1.4888 - acc: 0.3141 - val_loss: 1.5431 - val_acc: 0.3265\n",
            "Epoch 7/100\n",
            "7/7 [==============================] - 0s 11ms/step - loss: 1.4945 - acc: 0.2679 - val_loss: 1.5550 - val_acc: 0.3469\n",
            "Epoch 8/100\n",
            "7/7 [==============================] - 0s 9ms/step - loss: 1.4749 - acc: 0.3372 - val_loss: 1.5803 - val_acc: 0.2857\n",
            "Epoch 9/100\n",
            "7/7 [==============================] - 0s 9ms/step - loss: 1.4584 - acc: 0.2956 - val_loss: 1.6098 - val_acc: 0.1837\n",
            "Epoch 10/100\n",
            "7/7 [==============================] - 0s 9ms/step - loss: 1.4673 - acc: 0.2841 - val_loss: 1.6054 - val_acc: 0.2245\n",
            "Epoch 11/100\n",
            "7/7 [==============================] - 0s 10ms/step - loss: 1.4584 - acc: 0.3164 - val_loss: 1.5933 - val_acc: 0.3469\n",
            "Epoch 12/100\n",
            "7/7 [==============================] - 0s 9ms/step - loss: 1.4657 - acc: 0.3002 - val_loss: 1.5799 - val_acc: 0.2041\n",
            "Epoch 13/100\n",
            "7/7 [==============================] - 0s 9ms/step - loss: 1.4661 - acc: 0.2540 - val_loss: 1.5779 - val_acc: 0.1837\n",
            "Epoch 14/100\n",
            "7/7 [==============================] - 0s 11ms/step - loss: 1.4678 - acc: 0.3072 - val_loss: 1.5564 - val_acc: 0.1837\n",
            "Epoch 15/100\n",
            "7/7 [==============================] - 0s 9ms/step - loss: 1.4510 - acc: 0.3210 - val_loss: 1.5665 - val_acc: 0.2857\n",
            "Epoch 16/100\n",
            "7/7 [==============================] - 0s 8ms/step - loss: 1.4599 - acc: 0.2864 - val_loss: 1.5454 - val_acc: 0.3061\n",
            "Epoch 17/100\n",
            "7/7 [==============================] - 0s 9ms/step - loss: 1.4615 - acc: 0.3210 - val_loss: 1.5653 - val_acc: 0.3061\n",
            "Epoch 18/100\n",
            "7/7 [==============================] - 0s 8ms/step - loss: 1.4518 - acc: 0.3048 - val_loss: 1.5746 - val_acc: 0.3061\n",
            "Epoch 19/100\n",
            "7/7 [==============================] - 0s 8ms/step - loss: 1.4527 - acc: 0.3141 - val_loss: 1.5545 - val_acc: 0.3061\n",
            "Epoch 20/100\n",
            "7/7 [==============================] - 0s 8ms/step - loss: 1.4320 - acc: 0.3256 - val_loss: 1.5514 - val_acc: 0.3061\n",
            "Epoch 21/100\n",
            "7/7 [==============================] - 0s 9ms/step - loss: 1.4185 - acc: 0.3510 - val_loss: 1.5800 - val_acc: 0.2245\n",
            "Epoch 22/100\n",
            "7/7 [==============================] - 0s 8ms/step - loss: 1.4461 - acc: 0.3441 - val_loss: 1.5807 - val_acc: 0.1837\n",
            "Epoch 23/100\n",
            "7/7 [==============================] - 0s 8ms/step - loss: 1.4308 - acc: 0.3510 - val_loss: 1.5665 - val_acc: 0.1633\n",
            "Epoch 24/100\n",
            "7/7 [==============================] - 0s 8ms/step - loss: 1.4277 - acc: 0.3580 - val_loss: 1.5554 - val_acc: 0.1633\n",
            "Epoch 25/100\n",
            "7/7 [==============================] - 0s 8ms/step - loss: 1.4279 - acc: 0.3533 - val_loss: 1.5396 - val_acc: 0.2245\n",
            "Epoch 26/100\n",
            "7/7 [==============================] - 0s 8ms/step - loss: 1.4497 - acc: 0.3141 - val_loss: 1.5480 - val_acc: 0.3061\n",
            "Epoch 27/100\n",
            "7/7 [==============================] - 0s 9ms/step - loss: 1.4398 - acc: 0.3187 - val_loss: 1.5378 - val_acc: 0.3061\n",
            "Epoch 28/100\n",
            "7/7 [==============================] - 0s 8ms/step - loss: 1.4418 - acc: 0.2979 - val_loss: 1.5426 - val_acc: 0.2857\n",
            "Epoch 29/100\n",
            "7/7 [==============================] - 0s 7ms/step - loss: 1.4094 - acc: 0.3695 - val_loss: 1.5586 - val_acc: 0.2041\n",
            "Epoch 30/100\n",
            "7/7 [==============================] - 0s 9ms/step - loss: 1.4188 - acc: 0.3510 - val_loss: 1.5640 - val_acc: 0.2857\n",
            "Epoch 31/100\n",
            "7/7 [==============================] - 0s 7ms/step - loss: 1.4223 - acc: 0.3464 - val_loss: 1.5638 - val_acc: 0.3265\n",
            "Epoch 32/100\n",
            "7/7 [==============================] - 0s 8ms/step - loss: 1.4238 - acc: 0.3580 - val_loss: 1.5362 - val_acc: 0.3265\n",
            "Epoch 33/100\n",
            "7/7 [==============================] - 0s 8ms/step - loss: 1.4400 - acc: 0.3164 - val_loss: 1.5099 - val_acc: 0.3061\n",
            "Epoch 34/100\n",
            "7/7 [==============================] - 0s 8ms/step - loss: 1.4163 - acc: 0.3649 - val_loss: 1.5079 - val_acc: 0.3265\n",
            "Epoch 35/100\n",
            "7/7 [==============================] - 0s 8ms/step - loss: 1.4277 - acc: 0.3395 - val_loss: 1.5420 - val_acc: 0.3061\n",
            "Epoch 36/100\n",
            "7/7 [==============================] - 0s 8ms/step - loss: 1.4275 - acc: 0.3557 - val_loss: 1.5594 - val_acc: 0.3265\n",
            "Epoch 37/100\n",
            "7/7 [==============================] - 0s 7ms/step - loss: 1.4120 - acc: 0.3626 - val_loss: 1.5561 - val_acc: 0.3061\n",
            "Epoch 38/100\n",
            "7/7 [==============================] - 0s 7ms/step - loss: 1.4299 - acc: 0.3256 - val_loss: 1.5567 - val_acc: 0.3061\n",
            "Epoch 39/100\n",
            "7/7 [==============================] - 0s 7ms/step - loss: 1.4185 - acc: 0.3233 - val_loss: 1.5320 - val_acc: 0.3469\n",
            "Epoch 40/100\n",
            "7/7 [==============================] - 0s 8ms/step - loss: 1.4235 - acc: 0.3418 - val_loss: 1.5549 - val_acc: 0.3061\n",
            "Epoch 41/100\n",
            "7/7 [==============================] - 0s 8ms/step - loss: 1.4190 - acc: 0.3118 - val_loss: 1.5751 - val_acc: 0.2041\n",
            "Epoch 42/100\n",
            "7/7 [==============================] - 0s 8ms/step - loss: 1.4128 - acc: 0.3441 - val_loss: 1.5863 - val_acc: 0.1429\n",
            "Epoch 43/100\n",
            "7/7 [==============================] - 0s 8ms/step - loss: 1.4303 - acc: 0.3349 - val_loss: 1.5653 - val_acc: 0.3061\n",
            "Epoch 44/100\n",
            "7/7 [==============================] - 0s 9ms/step - loss: 1.4227 - acc: 0.3626 - val_loss: 1.5295 - val_acc: 0.3265\n",
            "Epoch 45/100\n",
            "7/7 [==============================] - 0s 7ms/step - loss: 1.4185 - acc: 0.3626 - val_loss: 1.5709 - val_acc: 0.1837\n",
            "Epoch 46/100\n",
            "7/7 [==============================] - 0s 8ms/step - loss: 1.4069 - acc: 0.3326 - val_loss: 1.5608 - val_acc: 0.2449\n",
            "Epoch 47/100\n",
            "7/7 [==============================] - 0s 8ms/step - loss: 1.4221 - acc: 0.3580 - val_loss: 1.5440 - val_acc: 0.3061\n",
            "Epoch 48/100\n",
            "7/7 [==============================] - 0s 9ms/step - loss: 1.4077 - acc: 0.3372 - val_loss: 1.5257 - val_acc: 0.3265\n",
            "Epoch 49/100\n",
            "7/7 [==============================] - 0s 7ms/step - loss: 1.4037 - acc: 0.3187 - val_loss: 1.5245 - val_acc: 0.3469\n",
            "Epoch 50/100\n",
            "7/7 [==============================] - 0s 7ms/step - loss: 1.4103 - acc: 0.3441 - val_loss: 1.5092 - val_acc: 0.3469\n",
            "Epoch 51/100\n",
            "7/7 [==============================] - 0s 8ms/step - loss: 1.4119 - acc: 0.3557 - val_loss: 1.5190 - val_acc: 0.3878\n",
            "Epoch 52/100\n",
            "7/7 [==============================] - 0s 8ms/step - loss: 1.4014 - acc: 0.3464 - val_loss: 1.5332 - val_acc: 0.3061\n",
            "Epoch 53/100\n",
            "7/7 [==============================] - 0s 8ms/step - loss: 1.4246 - acc: 0.3233 - val_loss: 1.5413 - val_acc: 0.2653\n",
            "Epoch 54/100\n",
            "7/7 [==============================] - 0s 8ms/step - loss: 1.4315 - acc: 0.3372 - val_loss: 1.5079 - val_acc: 0.2857\n",
            "Epoch 55/100\n",
            "7/7 [==============================] - 0s 8ms/step - loss: 1.4105 - acc: 0.3649 - val_loss: 1.5035 - val_acc: 0.2653\n",
            "Epoch 56/100\n",
            "7/7 [==============================] - 0s 9ms/step - loss: 1.4137 - acc: 0.3487 - val_loss: 1.4987 - val_acc: 0.3265\n",
            "Epoch 57/100\n",
            "7/7 [==============================] - 0s 9ms/step - loss: 1.3967 - acc: 0.3880 - val_loss: 1.5188 - val_acc: 0.3265\n",
            "Epoch 58/100\n",
            "7/7 [==============================] - 0s 8ms/step - loss: 1.4247 - acc: 0.3510 - val_loss: 1.5476 - val_acc: 0.3061\n",
            "Epoch 59/100\n",
            "7/7 [==============================] - 0s 8ms/step - loss: 1.4063 - acc: 0.3533 - val_loss: 1.5464 - val_acc: 0.2449\n",
            "Epoch 60/100\n",
            "7/7 [==============================] - 0s 8ms/step - loss: 1.4039 - acc: 0.3649 - val_loss: 1.5436 - val_acc: 0.2857\n",
            "Epoch 61/100\n",
            "7/7 [==============================] - 0s 9ms/step - loss: 1.4162 - acc: 0.3487 - val_loss: 1.5133 - val_acc: 0.3265\n",
            "Epoch 62/100\n",
            "7/7 [==============================] - 0s 9ms/step - loss: 1.4034 - acc: 0.3464 - val_loss: 1.4957 - val_acc: 0.3878\n",
            "Epoch 63/100\n",
            "7/7 [==============================] - 0s 7ms/step - loss: 1.3950 - acc: 0.3672 - val_loss: 1.4975 - val_acc: 0.4082\n",
            "Epoch 64/100\n",
            "7/7 [==============================] - 0s 9ms/step - loss: 1.3896 - acc: 0.3718 - val_loss: 1.5318 - val_acc: 0.3469\n",
            "Epoch 65/100\n",
            "7/7 [==============================] - 0s 12ms/step - loss: 1.4002 - acc: 0.3418 - val_loss: 1.5224 - val_acc: 0.3469\n",
            "Epoch 66/100\n",
            "7/7 [==============================] - 0s 12ms/step - loss: 1.4066 - acc: 0.3395 - val_loss: 1.5463 - val_acc: 0.3265\n",
            "Epoch 67/100\n",
            "7/7 [==============================] - 0s 13ms/step - loss: 1.4022 - acc: 0.3233 - val_loss: 1.5404 - val_acc: 0.3061\n",
            "Epoch 68/100\n",
            "7/7 [==============================] - 0s 11ms/step - loss: 1.3960 - acc: 0.3672 - val_loss: 1.5458 - val_acc: 0.3061\n",
            "Epoch 69/100\n",
            "7/7 [==============================] - 0s 13ms/step - loss: 1.3926 - acc: 0.3418 - val_loss: 1.5340 - val_acc: 0.2449\n",
            "Epoch 70/100\n",
            "7/7 [==============================] - 0s 9ms/step - loss: 1.3845 - acc: 0.3926 - val_loss: 1.5422 - val_acc: 0.2449\n",
            "Epoch 71/100\n",
            "7/7 [==============================] - 0s 10ms/step - loss: 1.3858 - acc: 0.3603 - val_loss: 1.5355 - val_acc: 0.2653\n",
            "Epoch 72/100\n",
            "7/7 [==============================] - 0s 12ms/step - loss: 1.3881 - acc: 0.3926 - val_loss: 1.5198 - val_acc: 0.3878\n",
            "Epoch 73/100\n",
            "7/7 [==============================] - 0s 11ms/step - loss: 1.3755 - acc: 0.3857 - val_loss: 1.5285 - val_acc: 0.3878\n",
            "Epoch 74/100\n",
            "7/7 [==============================] - 0s 16ms/step - loss: 1.3876 - acc: 0.3557 - val_loss: 1.5273 - val_acc: 0.3061\n",
            "Epoch 75/100\n",
            "7/7 [==============================] - 0s 15ms/step - loss: 1.3699 - acc: 0.3972 - val_loss: 1.5215 - val_acc: 0.2449\n",
            "Epoch 76/100\n",
            "7/7 [==============================] - 0s 11ms/step - loss: 1.4041 - acc: 0.3487 - val_loss: 1.5036 - val_acc: 0.4082\n",
            "Epoch 77/100\n",
            "7/7 [==============================] - 0s 14ms/step - loss: 1.3768 - acc: 0.3857 - val_loss: 1.5036 - val_acc: 0.3878\n",
            "Epoch 78/100\n",
            "7/7 [==============================] - 0s 13ms/step - loss: 1.3852 - acc: 0.3603 - val_loss: 1.5045 - val_acc: 0.3673\n",
            "Epoch 79/100\n",
            "7/7 [==============================] - 0s 14ms/step - loss: 1.3768 - acc: 0.3418 - val_loss: 1.5294 - val_acc: 0.3469\n",
            "Epoch 80/100\n",
            "7/7 [==============================] - 0s 12ms/step - loss: 1.3849 - acc: 0.3557 - val_loss: 1.5485 - val_acc: 0.2857\n",
            "Epoch 81/100\n",
            "7/7 [==============================] - 0s 12ms/step - loss: 1.3647 - acc: 0.3626 - val_loss: 1.5743 - val_acc: 0.2857\n",
            "Epoch 82/100\n",
            "7/7 [==============================] - 0s 12ms/step - loss: 1.3641 - acc: 0.3672 - val_loss: 1.5673 - val_acc: 0.2449\n",
            "Epoch 83/100\n",
            "7/7 [==============================] - 0s 14ms/step - loss: 1.3897 - acc: 0.3441 - val_loss: 1.4991 - val_acc: 0.3878\n",
            "Epoch 84/100\n",
            "7/7 [==============================] - 0s 13ms/step - loss: 1.3748 - acc: 0.3533 - val_loss: 1.4932 - val_acc: 0.3673\n",
            "Epoch 85/100\n",
            "7/7 [==============================] - 0s 14ms/step - loss: 1.3684 - acc: 0.3557 - val_loss: 1.5463 - val_acc: 0.3265\n",
            "Epoch 86/100\n",
            "7/7 [==============================] - 0s 12ms/step - loss: 1.3780 - acc: 0.3811 - val_loss: 1.5681 - val_acc: 0.3469\n",
            "Epoch 87/100\n",
            "7/7 [==============================] - 0s 11ms/step - loss: 1.3744 - acc: 0.3510 - val_loss: 1.5320 - val_acc: 0.3878\n",
            "Epoch 88/100\n",
            "7/7 [==============================] - 0s 14ms/step - loss: 1.3663 - acc: 0.3372 - val_loss: 1.5246 - val_acc: 0.3878\n",
            "Epoch 89/100\n",
            "7/7 [==============================] - 0s 10ms/step - loss: 1.3828 - acc: 0.3903 - val_loss: 1.5236 - val_acc: 0.3878\n",
            "Epoch 90/100\n",
            "7/7 [==============================] - 0s 12ms/step - loss: 1.3842 - acc: 0.3672 - val_loss: 1.5270 - val_acc: 0.3673\n",
            "Epoch 91/100\n",
            "7/7 [==============================] - 0s 14ms/step - loss: 1.3796 - acc: 0.3834 - val_loss: 1.4926 - val_acc: 0.3878\n",
            "Epoch 92/100\n",
            "7/7 [==============================] - 0s 15ms/step - loss: 1.3823 - acc: 0.3649 - val_loss: 1.5094 - val_acc: 0.3673\n",
            "Epoch 93/100\n",
            "7/7 [==============================] - 0s 13ms/step - loss: 1.3555 - acc: 0.3718 - val_loss: 1.5627 - val_acc: 0.3673\n",
            "Epoch 94/100\n",
            "7/7 [==============================] - 0s 11ms/step - loss: 1.3448 - acc: 0.3880 - val_loss: 1.5530 - val_acc: 0.2653\n",
            "Epoch 95/100\n",
            "7/7 [==============================] - 0s 9ms/step - loss: 1.3410 - acc: 0.3880 - val_loss: 1.6029 - val_acc: 0.2245\n",
            "Epoch 96/100\n",
            "7/7 [==============================] - 0s 8ms/step - loss: 1.3492 - acc: 0.3695 - val_loss: 1.6509 - val_acc: 0.2653\n",
            "Epoch 97/100\n",
            "7/7 [==============================] - 0s 8ms/step - loss: 1.3628 - acc: 0.3880 - val_loss: 1.6014 - val_acc: 0.2245\n",
            "Epoch 98/100\n",
            "7/7 [==============================] - 0s 8ms/step - loss: 1.3631 - acc: 0.3972 - val_loss: 1.5606 - val_acc: 0.3265\n",
            "Epoch 99/100\n",
            "7/7 [==============================] - 0s 7ms/step - loss: 1.3398 - acc: 0.4088 - val_loss: 1.5894 - val_acc: 0.2653\n",
            "Epoch 100/100\n",
            "7/7 [==============================] - 0s 7ms/step - loss: 1.3413 - acc: 0.3788 - val_loss: 1.5692 - val_acc: 0.2653\n"
          ]
        }
      ],
      "source": [
        "history = model.fit(x_train, y_train, epochs=100, batch_size=64, \n",
        "          verbose=True, validation_data=(x_test, y_test))"
      ]
    },
    {
      "cell_type": "code",
      "execution_count": 23,
      "metadata": {
        "id": "wkb9ny8xt43i",
        "colab": {
          "base_uri": "https://localhost:8080/",
          "height": 265
        },
        "outputId": "fd3e44ff-983d-4033-af43-5ad632dd7b3a"
      },
      "outputs": [
        {
          "output_type": "display_data",
          "data": {
            "text/plain": [
              "<Figure size 432x288 with 1 Axes>"
            ],
            "image/png": "[encoded data removed]"
          },
          "metadata": {
            "needs_background": "light"
          }
        }
      ],
      "source": [
        "plt.plot(history.history['acc'], label='acc')\n",
        "plt.plot(history.history['val_acc'], label='val_acc')\n",
        "plt.legend()\n",
        "plt.show()"
      ]
    },
    {
      "cell_type": "code",
      "execution_count": 24,
      "metadata": {
        "id": "a2O91gBWt43i",
        "colab": {
          "base_uri": "https://localhost:8080/"
        },
        "outputId": "f381138b-dbd5-41ce-a7ac-3ed2eefd3e4f"
      },
      "outputs": [
        {
          "output_type": "stream",
          "name": "stdout",
          "text": [
            "14/14 [==============================] - 0s 5ms/step - loss: 1.3024 - acc: 0.4042\n",
            "2/2 [==============================] - 0s 13ms/step - loss: 1.5692 - acc: 0.2653\n"
          ]
        },
        {
          "output_type": "execute_result",
          "data": {
            "text/plain": [
              "([1.3024343252182007, 0.40415704250335693],\n",
              " [1.5691527128219604, 0.26530611515045166])"
            ]
          },
          "metadata": {},
          "execution_count": 24
        }
      ],
      "source": [
        "model.evaluate(x_train, y_train), model.evaluate(x_test, y_test)"
      ]
    },
    {
      "cell_type": "code",
      "execution_count": 25,
      "metadata": {
        "id": "LLY7oI-0t43i",
        "colab": {
          "base_uri": "https://localhost:8080/"
        },
        "outputId": "3f941a7b-455f-4e28-ecf2-333c932f6363"
      },
      "outputs": [
        {
          "output_type": "stream",
          "name": "stdout",
          "text": [
            "2/2 [==============================] - 0s 6ms/step\n",
            "distribution of classes: [ 31. 120. 128. 122.  32.]\n",
            "acc of model: 0.2653061224489796\n",
            "% of right movement predictions: 0.2653061224489796\n",
            "[3 2 3 1 1 4 1 2 1 3 3 3 3 0 4 4 3 3 1 3 2 1 3 3 1 1 2 4 2 1 1 1 2 2 1 3 3\n",
            " 1 1 1 1 2 3 0 3 1 1 3 2]\n",
            "[2 2 2 2 2 2 2 2 2 2 2 2 2 2 2 2 2 2 3 3 3 1 1 3 1 1 1 1 1 2 3 3 2 2 3 3 3\n",
            " 3 2 2 2 3 3 3 2 2 2 2 2]\n"
          ]
        }
      ],
      "source": [
        "p = model.predict(x_test)\n",
        "print('distribution of classes:', np.sum(y_train, axis=0))\n",
        "print('acc of model:', np.mean(np.argmax(y_test, axis=1) == np.argmax(p, axis=1), axis=0))\n",
        "y_test_v = np.argmax(y_test, axis=1)\n",
        "p_test_v = np.argmax(p, axis=1)\n",
        "\n",
        "# we will check if at least we got the signs correctly\n",
        "\n",
        "y_test_s = y_test_v - 2\n",
        "p_test_s = p_test_v - 2\n",
        "\n",
        "movement_right = 0\n",
        "\n",
        "for i in range(len(y_test)):\n",
        "    ok = 'nok'\n",
        "    if y_test_s[i] < 0 and p_test_s[i] < 0:\n",
        "        ok = '-ok'\n",
        "        movement_right += 1\n",
        "    elif y_test_s[i] > 0 and p_test_s[i] > 0:\n",
        "        ok = '+ok'\n",
        "        movement_right += 1\n",
        "    elif y_test_s[i] == 0 and p_test_s[i] == 0:\n",
        "        ok = '0ok'\n",
        "        movement_right += 1\n",
        "print('% of right movement predictions:', movement_right / len(p_test_v))\n",
        "print(y_test_v)\n",
        "print(p_test_v)"
      ]
    },
    {
      "cell_type": "markdown",
      "metadata": {
        "id": "kdzAvvU7t43i"
      },
      "source": [
        "Not very impressive, as 30% actually means not much better than random guessing for 5 classes (20%), although we could get 47% of the movements right. Now, it is your turn to try to improve our stock prediction using LSTM's or GRUs. \n",
        "\n",
        "Another good datapoint is the following. In most of the cases, a good classifier needs to beat the previous day prediction as well."
      ]
    },
    {
      "cell_type": "code",
      "execution_count": 26,
      "metadata": {
        "id": "WGKKGP3zt43i",
        "scrolled": true,
        "colab": {
          "base_uri": "https://localhost:8080/"
        },
        "outputId": "2fef744d-6f70-4f63-ba49-cd175005ae42"
      },
      "outputs": [
        {
          "output_type": "stream",
          "name": "stdout",
          "text": [
            "acc previous day: 0.32653061224489793\n",
            "% of right movement predictions: 0.3469387755102041\n",
            "[3 2 3 1 1 4 1 2 1 3 3 3 3 0 4 4 3 3 1 3 2 1 3 3 1 1 2 4 2 1 1 1 2 2 1 3 3\n",
            " 1 1 1 1 2 3 0 3 1 1 3 2]\n",
            "[2 3 2 3 1 1 4 1 2 1 3 3 3 3 0 4 4 3 3 1 3 2 1 3 3 1 1 2 4 2 1 1 1 2 2 1 3\n",
            " 3 1 1 1 1 2 3 0 3 1 1 3]\n"
          ]
        }
      ],
      "source": [
        "acc_previous_day = 0\n",
        "movement_right = 0\n",
        "\n",
        "p_test_v[0] = np.argmax(y_train[-1])\n",
        "p_test_v[1:] = y_test_v[0:-1]\n",
        "\n",
        "p_test_s = p_test_v - 2\n",
        "\n",
        "for i in range(len(y_test)):\n",
        "    ok = 'nok'\n",
        "    if y_test_s[i] < 0 and p_test_s[i] < 0:\n",
        "        ok = '-ok'\n",
        "        movement_right += 1\n",
        "    elif y_test_s[i] > 0 and p_test_s[i] > 0:\n",
        "        ok = '+ok'\n",
        "        movement_right += 1\n",
        "    elif y_test_s[i] == 0 and p_test_s[i] == 0:\n",
        "        ok = '0ok'\n",
        "        movement_right += 1\n",
        "    acc_previous_day += (y_test_s[i] == p_test_s[i])\n",
        "\n",
        "print('acc previous day:', acc_previous_day / len(p_test_v))\n",
        "print('% of right movement predictions:', movement_right / len(p_test_v))\n",
        "print(y_test_v)\n",
        "print(p_test_v)"
      ]
    },
    {
      "cell_type": "code",
      "source": [
        "def CreateModel(i_shape, o_shape):\n",
        "    x_i = keras.layers.Input(i_shape)\n",
        "    x = keras.layers.LSTM(50, return_sequences=True, dropout=0.5) (x_i)\n",
        "    x = keras.layers.LSTM(50, dropout=0.5) (x)\n",
        "    x = keras.layers.Dense(64, activation='relu')(x) \n",
        "    x = keras.layers.Dense(256, activation='relu')(x)\n",
        "    x = keras.layers.Dense (128, activation='relu')(x)\n",
        "    x = keras.layers.Dense(o_shape[-1], activation='softmax')(x)\n",
        "    return keras.models.Model (x_i, x)\n",
        "\n"
      ],
      "metadata": {
        "id": "6mQ4VqBAmJS5"
      },
      "execution_count": 47,
      "outputs": []
    },
    {
      "cell_type": "code",
      "source": [
        "from keras.models import Model\n",
        "from keras import activations"
      ],
      "metadata": {
        "id": "UD0TGKj_qP4m"
      },
      "execution_count": 48,
      "outputs": []
    },
    {
      "cell_type": "code",
      "source": [
        "sgd = keras.optimizers.Adam(0.01)\n",
        "model = CreateModel((*x_train.shape[1:], 1),y_train.shape [1:])\n",
        "model.compile(\n",
        "loss='categorical_crossentropy', optimizer=sgd, metrics=['acc']) \n",
        "model.summary ()"
      ],
      "metadata": {
        "colab": {
          "base_uri": "https://localhost:8080/"
        },
        "id": "ZYbY9DnrpdOw",
        "outputId": "94d6518d-e8c8-4ab4-d7be-5931fea2afff"
      },
      "execution_count": 52,
      "outputs": [
        {
          "output_type": "stream",
          "name": "stdout",
          "text": [
            "Model: \"model_2\"\n",
            "_________________________________________________________________\n",
            " Layer (type)                Output Shape              Param #   \n",
            "=================================================================\n",
            " input_7 (InputLayer)        [(None, 20, 1)]           0         \n",
            "                                                                 \n",
            " lstm_10 (LSTM)              (None, 20, 50)            10400     \n",
            "                                                                 \n",
            " lstm_11 (LSTM)              (None, 50)                20200     \n",
            "                                                                 \n",
            " dense_17 (Dense)            (None, 64)                3264      \n",
            "                                                                 \n",
            " dense_18 (Dense)            (None, 256)               16640     \n",
            "                                                                 \n",
            " dense_19 (Dense)            (None, 128)               32896     \n",
            "                                                                 \n",
            " dense_20 (Dense)            (None, 5)                 645       \n",
            "                                                                 \n",
            "=================================================================\n",
            "Total params: 84,045\n",
            "Trainable params: 84,045\n",
            "Non-trainable params: 0\n",
            "_________________________________________________________________\n"
          ]
        }
      ]
    },
    {
      "cell_type": "code",
      "source": [
        "history = model.fit(x_train, y_train, epochs=100, batch_size=64, \n",
        "          verbose=True, validation_data=(x_test, y_test))"
      ],
      "metadata": {
        "colab": {
          "base_uri": "https://localhost:8080/"
        },
        "id": "uzCdFv2Mqkz7",
        "outputId": "9ac0d301-4398-4e5e-d787-a61bcf05192c"
      },
      "execution_count": 53,
      "outputs": [
        {
          "output_type": "stream",
          "name": "stdout",
          "text": [
            "Epoch 1/100\n",
            "7/7 [==============================] - 9s 172ms/step - loss: 1.5642 - acc: 0.2448 - val_loss: 1.4785 - val_acc: 0.3673\n",
            "Epoch 2/100\n",
            "7/7 [==============================] - 0s 12ms/step - loss: 1.4822 - acc: 0.2887 - val_loss: 1.4675 - val_acc: 0.1837\n",
            "Epoch 3/100\n",
            "7/7 [==============================] - 0s 12ms/step - loss: 1.4689 - acc: 0.2956 - val_loss: 1.4506 - val_acc: 0.3265\n",
            "Epoch 4/100\n",
            "7/7 [==============================] - 0s 12ms/step - loss: 1.4649 - acc: 0.2818 - val_loss: 1.4307 - val_acc: 0.3265\n",
            "Epoch 5/100\n",
            "7/7 [==============================] - 0s 13ms/step - loss: 1.4610 - acc: 0.2864 - val_loss: 1.4313 - val_acc: 0.2245\n",
            "Epoch 6/100\n",
            "7/7 [==============================] - 0s 12ms/step - loss: 1.4566 - acc: 0.2818 - val_loss: 1.4930 - val_acc: 0.1837\n",
            "Epoch 7/100\n",
            "7/7 [==============================] - 0s 12ms/step - loss: 1.4542 - acc: 0.3048 - val_loss: 1.4357 - val_acc: 0.3265\n",
            "Epoch 8/100\n",
            "7/7 [==============================] - 0s 15ms/step - loss: 1.4588 - acc: 0.2979 - val_loss: 1.4380 - val_acc: 0.3265\n",
            "Epoch 9/100\n",
            "7/7 [==============================] - 0s 12ms/step - loss: 1.4621 - acc: 0.2587 - val_loss: 1.4554 - val_acc: 0.1837\n",
            "Epoch 10/100\n",
            "7/7 [==============================] - 0s 12ms/step - loss: 1.4591 - acc: 0.2794 - val_loss: 1.4307 - val_acc: 0.2653\n",
            "Epoch 11/100\n",
            "7/7 [==============================] - 0s 12ms/step - loss: 1.4572 - acc: 0.3002 - val_loss: 1.4592 - val_acc: 0.1837\n",
            "Epoch 12/100\n",
            "7/7 [==============================] - 0s 12ms/step - loss: 1.4584 - acc: 0.2979 - val_loss: 1.4713 - val_acc: 0.1837\n",
            "Epoch 13/100\n",
            "7/7 [==============================] - 0s 13ms/step - loss: 1.4562 - acc: 0.2794 - val_loss: 1.4937 - val_acc: 0.1837\n",
            "Epoch 14/100\n",
            "7/7 [==============================] - 0s 12ms/step - loss: 1.4540 - acc: 0.3118 - val_loss: 1.4412 - val_acc: 0.1837\n",
            "Epoch 15/100\n",
            "7/7 [==============================] - 0s 12ms/step - loss: 1.4673 - acc: 0.2448 - val_loss: 1.4453 - val_acc: 0.2449\n",
            "Epoch 16/100\n",
            "7/7 [==============================] - 0s 12ms/step - loss: 1.4564 - acc: 0.2841 - val_loss: 1.4313 - val_acc: 0.1837\n",
            "Epoch 17/100\n",
            "7/7 [==============================] - 0s 11ms/step - loss: 1.4538 - acc: 0.3118 - val_loss: 1.4377 - val_acc: 0.1837\n",
            "Epoch 18/100\n",
            "7/7 [==============================] - 0s 12ms/step - loss: 1.4531 - acc: 0.2794 - val_loss: 1.4653 - val_acc: 0.1837\n",
            "Epoch 19/100\n",
            "7/7 [==============================] - 0s 13ms/step - loss: 1.4512 - acc: 0.2979 - val_loss: 1.4863 - val_acc: 0.1837\n",
            "Epoch 20/100\n",
            "7/7 [==============================] - 0s 11ms/step - loss: 1.4537 - acc: 0.2933 - val_loss: 1.5040 - val_acc: 0.1837\n",
            "Epoch 21/100\n",
            "7/7 [==============================] - 0s 15ms/step - loss: 1.4527 - acc: 0.2887 - val_loss: 1.4409 - val_acc: 0.1837\n",
            "Epoch 22/100\n",
            "7/7 [==============================] - 0s 13ms/step - loss: 1.4531 - acc: 0.3164 - val_loss: 1.4739 - val_acc: 0.1837\n",
            "Epoch 23/100\n",
            "7/7 [==============================] - 0s 12ms/step - loss: 1.4594 - acc: 0.2679 - val_loss: 1.4711 - val_acc: 0.1837\n",
            "Epoch 24/100\n",
            "7/7 [==============================] - 0s 12ms/step - loss: 1.4494 - acc: 0.3233 - val_loss: 1.5142 - val_acc: 0.1837\n",
            "Epoch 25/100\n",
            "7/7 [==============================] - 0s 12ms/step - loss: 1.4561 - acc: 0.3233 - val_loss: 1.4522 - val_acc: 0.1837\n",
            "Epoch 26/100\n",
            "7/7 [==============================] - 0s 12ms/step - loss: 1.4486 - acc: 0.3095 - val_loss: 1.4691 - val_acc: 0.1837\n",
            "Epoch 27/100\n",
            "7/7 [==============================] - 0s 11ms/step - loss: 1.4520 - acc: 0.2956 - val_loss: 1.5011 - val_acc: 0.1837\n",
            "Epoch 28/100\n",
            "7/7 [==============================] - 0s 12ms/step - loss: 1.4485 - acc: 0.2956 - val_loss: 1.5703 - val_acc: 0.1837\n",
            "Epoch 29/100\n",
            "7/7 [==============================] - 0s 12ms/step - loss: 1.4524 - acc: 0.2771 - val_loss: 1.4818 - val_acc: 0.2653\n",
            "Epoch 30/100\n",
            "7/7 [==============================] - 0s 12ms/step - loss: 1.4636 - acc: 0.2748 - val_loss: 1.4271 - val_acc: 0.1837\n",
            "Epoch 31/100\n",
            "7/7 [==============================] - 0s 13ms/step - loss: 1.4556 - acc: 0.2748 - val_loss: 1.4287 - val_acc: 0.1837\n",
            "Epoch 32/100\n",
            "7/7 [==============================] - 0s 14ms/step - loss: 1.4535 - acc: 0.3048 - val_loss: 1.4293 - val_acc: 0.1837\n",
            "Epoch 33/100\n",
            "7/7 [==============================] - 0s 12ms/step - loss: 1.4617 - acc: 0.2887 - val_loss: 1.4445 - val_acc: 0.1837\n",
            "Epoch 34/100\n",
            "7/7 [==============================] - 0s 12ms/step - loss: 1.4540 - acc: 0.2910 - val_loss: 1.4276 - val_acc: 0.1837\n",
            "Epoch 35/100\n",
            "7/7 [==============================] - 0s 12ms/step - loss: 1.4508 - acc: 0.2841 - val_loss: 1.4265 - val_acc: 0.3265\n",
            "Epoch 36/100\n",
            "7/7 [==============================] - 0s 12ms/step - loss: 1.4521 - acc: 0.3025 - val_loss: 1.4332 - val_acc: 0.1837\n",
            "Epoch 37/100\n",
            "7/7 [==============================] - 0s 11ms/step - loss: 1.4447 - acc: 0.3279 - val_loss: 1.4405 - val_acc: 0.1837\n",
            "Epoch 38/100\n",
            "7/7 [==============================] - 0s 12ms/step - loss: 1.4509 - acc: 0.3072 - val_loss: 1.4534 - val_acc: 0.1837\n",
            "Epoch 39/100\n",
            "7/7 [==============================] - 0s 12ms/step - loss: 1.4440 - acc: 0.3187 - val_loss: 1.4396 - val_acc: 0.1837\n",
            "Epoch 40/100\n",
            "7/7 [==============================] - 0s 12ms/step - loss: 1.4444 - acc: 0.3118 - val_loss: 1.4305 - val_acc: 0.1837\n",
            "Epoch 41/100\n",
            "7/7 [==============================] - 0s 13ms/step - loss: 1.4515 - acc: 0.3187 - val_loss: 1.4559 - val_acc: 0.1837\n",
            "Epoch 42/100\n",
            "7/7 [==============================] - 0s 14ms/step - loss: 1.4475 - acc: 0.3141 - val_loss: 1.4485 - val_acc: 0.1837\n",
            "Epoch 43/100\n",
            "7/7 [==============================] - 0s 12ms/step - loss: 1.4499 - acc: 0.3210 - val_loss: 1.4367 - val_acc: 0.1837\n",
            "Epoch 44/100\n",
            "7/7 [==============================] - 0s 12ms/step - loss: 1.4450 - acc: 0.3233 - val_loss: 1.4360 - val_acc: 0.1837\n",
            "Epoch 45/100\n",
            "7/7 [==============================] - 0s 12ms/step - loss: 1.4513 - acc: 0.3072 - val_loss: 1.4326 - val_acc: 0.1837\n",
            "Epoch 46/100\n",
            "7/7 [==============================] - 0s 11ms/step - loss: 1.4461 - acc: 0.3164 - val_loss: 1.4356 - val_acc: 0.1837\n",
            "Epoch 47/100\n",
            "7/7 [==============================] - 0s 12ms/step - loss: 1.4438 - acc: 0.3187 - val_loss: 1.4547 - val_acc: 0.1837\n",
            "Epoch 48/100\n",
            "7/7 [==============================] - 0s 11ms/step - loss: 1.4557 - acc: 0.3210 - val_loss: 1.4357 - val_acc: 0.1837\n",
            "Epoch 49/100\n",
            "7/7 [==============================] - 0s 12ms/step - loss: 1.4589 - acc: 0.2933 - val_loss: 1.4320 - val_acc: 0.1837\n",
            "Epoch 50/100\n",
            "7/7 [==============================] - 0s 14ms/step - loss: 1.4554 - acc: 0.2956 - val_loss: 1.4269 - val_acc: 0.1837\n",
            "Epoch 51/100\n",
            "7/7 [==============================] - 0s 12ms/step - loss: 1.4616 - acc: 0.2956 - val_loss: 1.4260 - val_acc: 0.1837\n",
            "Epoch 52/100\n",
            "7/7 [==============================] - 0s 14ms/step - loss: 1.4565 - acc: 0.2956 - val_loss: 1.4283 - val_acc: 0.1837\n",
            "Epoch 53/100\n",
            "7/7 [==============================] - 0s 17ms/step - loss: 1.4562 - acc: 0.2956 - val_loss: 1.4273 - val_acc: 0.1837\n",
            "Epoch 54/100\n",
            "7/7 [==============================] - 0s 14ms/step - loss: 1.4564 - acc: 0.2956 - val_loss: 1.4344 - val_acc: 0.1837\n",
            "Epoch 55/100\n",
            "7/7 [==============================] - 0s 12ms/step - loss: 1.4546 - acc: 0.2956 - val_loss: 1.4293 - val_acc: 0.1837\n",
            "Epoch 56/100\n",
            "7/7 [==============================] - 0s 13ms/step - loss: 1.4570 - acc: 0.3002 - val_loss: 1.4297 - val_acc: 0.1837\n",
            "Epoch 57/100\n",
            "7/7 [==============================] - 0s 12ms/step - loss: 1.4565 - acc: 0.2864 - val_loss: 1.4285 - val_acc: 0.1837\n",
            "Epoch 58/100\n",
            "7/7 [==============================] - 0s 12ms/step - loss: 1.4558 - acc: 0.2748 - val_loss: 1.4375 - val_acc: 0.1837\n",
            "Epoch 59/100\n",
            "7/7 [==============================] - 0s 13ms/step - loss: 1.4569 - acc: 0.2956 - val_loss: 1.4411 - val_acc: 0.1837\n",
            "Epoch 60/100\n",
            "7/7 [==============================] - 0s 12ms/step - loss: 1.4549 - acc: 0.2956 - val_loss: 1.4352 - val_acc: 0.1837\n",
            "Epoch 61/100\n",
            "7/7 [==============================] - 0s 13ms/step - loss: 1.4548 - acc: 0.3002 - val_loss: 1.4549 - val_acc: 0.1837\n",
            "Epoch 62/100\n",
            "7/7 [==============================] - 0s 11ms/step - loss: 1.4560 - acc: 0.2794 - val_loss: 1.4228 - val_acc: 0.1837\n",
            "Epoch 63/100\n",
            "7/7 [==============================] - 0s 15ms/step - loss: 1.4533 - acc: 0.3164 - val_loss: 1.4372 - val_acc: 0.1837\n",
            "Epoch 64/100\n",
            "7/7 [==============================] - 0s 15ms/step - loss: 1.4541 - acc: 0.2864 - val_loss: 1.4397 - val_acc: 0.3265\n",
            "Epoch 65/100\n",
            "7/7 [==============================] - 0s 12ms/step - loss: 1.4516 - acc: 0.2794 - val_loss: 1.4704 - val_acc: 0.1837\n",
            "Epoch 66/100\n",
            "7/7 [==============================] - 0s 12ms/step - loss: 1.4556 - acc: 0.2956 - val_loss: 1.4545 - val_acc: 0.1837\n",
            "Epoch 67/100\n",
            "7/7 [==============================] - 0s 12ms/step - loss: 1.4598 - acc: 0.2448 - val_loss: 1.4263 - val_acc: 0.3673\n",
            "Epoch 68/100\n",
            "7/7 [==============================] - 0s 13ms/step - loss: 1.4550 - acc: 0.2887 - val_loss: 1.4301 - val_acc: 0.1837\n",
            "Epoch 69/100\n",
            "7/7 [==============================] - 0s 13ms/step - loss: 1.4550 - acc: 0.2956 - val_loss: 1.4380 - val_acc: 0.1837\n",
            "Epoch 70/100\n",
            "7/7 [==============================] - 0s 13ms/step - loss: 1.4577 - acc: 0.2956 - val_loss: 1.4383 - val_acc: 0.1837\n",
            "Epoch 71/100\n",
            "7/7 [==============================] - 0s 13ms/step - loss: 1.4556 - acc: 0.2956 - val_loss: 1.4305 - val_acc: 0.1837\n",
            "Epoch 72/100\n",
            "7/7 [==============================] - 0s 13ms/step - loss: 1.4562 - acc: 0.2956 - val_loss: 1.4228 - val_acc: 0.1837\n",
            "Epoch 73/100\n",
            "7/7 [==============================] - 0s 12ms/step - loss: 1.4561 - acc: 0.2956 - val_loss: 1.4294 - val_acc: 0.1837\n",
            "Epoch 74/100\n",
            "7/7 [==============================] - 0s 13ms/step - loss: 1.4556 - acc: 0.2956 - val_loss: 1.4281 - val_acc: 0.1837\n",
            "Epoch 75/100\n",
            "7/7 [==============================] - 0s 16ms/step - loss: 1.4551 - acc: 0.2956 - val_loss: 1.4327 - val_acc: 0.1837\n",
            "Epoch 76/100\n",
            "7/7 [==============================] - 0s 13ms/step - loss: 1.4561 - acc: 0.2956 - val_loss: 1.4285 - val_acc: 0.1837\n",
            "Epoch 77/100\n",
            "7/7 [==============================] - 0s 17ms/step - loss: 1.4549 - acc: 0.2956 - val_loss: 1.4334 - val_acc: 0.1837\n",
            "Epoch 78/100\n",
            "7/7 [==============================] - 0s 20ms/step - loss: 1.4552 - acc: 0.2956 - val_loss: 1.4287 - val_acc: 0.1837\n",
            "Epoch 79/100\n",
            "7/7 [==============================] - 0s 20ms/step - loss: 1.4556 - acc: 0.2956 - val_loss: 1.4269 - val_acc: 0.1837\n",
            "Epoch 80/100\n",
            "7/7 [==============================] - 0s 17ms/step - loss: 1.4550 - acc: 0.2956 - val_loss: 1.4304 - val_acc: 0.1837\n",
            "Epoch 81/100\n",
            "7/7 [==============================] - 0s 19ms/step - loss: 1.4554 - acc: 0.2956 - val_loss: 1.4309 - val_acc: 0.1837\n",
            "Epoch 82/100\n",
            "7/7 [==============================] - 0s 18ms/step - loss: 1.4559 - acc: 0.2956 - val_loss: 1.4338 - val_acc: 0.1837\n",
            "Epoch 83/100\n",
            "7/7 [==============================] - 0s 21ms/step - loss: 1.4555 - acc: 0.2956 - val_loss: 1.4286 - val_acc: 0.1837\n",
            "Epoch 84/100\n",
            "7/7 [==============================] - 0s 20ms/step - loss: 1.4559 - acc: 0.2517 - val_loss: 1.4240 - val_acc: 0.3673\n",
            "Epoch 85/100\n",
            "7/7 [==============================] - 0s 19ms/step - loss: 1.4553 - acc: 0.3002 - val_loss: 1.4263 - val_acc: 0.1837\n",
            "Epoch 86/100\n",
            "7/7 [==============================] - 0s 18ms/step - loss: 1.4546 - acc: 0.2956 - val_loss: 1.4306 - val_acc: 0.1837\n",
            "Epoch 87/100\n",
            "7/7 [==============================] - 0s 20ms/step - loss: 1.4549 - acc: 0.2956 - val_loss: 1.4338 - val_acc: 0.1837\n",
            "Epoch 88/100\n",
            "7/7 [==============================] - 0s 20ms/step - loss: 1.4551 - acc: 0.2956 - val_loss: 1.4284 - val_acc: 0.1837\n",
            "Epoch 89/100\n",
            "7/7 [==============================] - 0s 17ms/step - loss: 1.4559 - acc: 0.2956 - val_loss: 1.4305 - val_acc: 0.1837\n",
            "Epoch 90/100\n",
            "7/7 [==============================] - 0s 19ms/step - loss: 1.4552 - acc: 0.2956 - val_loss: 1.4301 - val_acc: 0.1837\n",
            "Epoch 91/100\n",
            "7/7 [==============================] - 0s 17ms/step - loss: 1.4556 - acc: 0.2956 - val_loss: 1.4264 - val_acc: 0.1837\n",
            "Epoch 92/100\n",
            "7/7 [==============================] - 0s 17ms/step - loss: 1.4557 - acc: 0.2956 - val_loss: 1.4309 - val_acc: 0.1837\n",
            "Epoch 93/100\n",
            "7/7 [==============================] - 0s 18ms/step - loss: 1.4553 - acc: 0.2956 - val_loss: 1.4257 - val_acc: 0.1837\n",
            "Epoch 94/100\n",
            "7/7 [==============================] - 0s 19ms/step - loss: 1.4550 - acc: 0.2956 - val_loss: 1.4289 - val_acc: 0.1837\n",
            "Epoch 95/100\n",
            "7/7 [==============================] - 0s 20ms/step - loss: 1.4567 - acc: 0.2956 - val_loss: 1.4325 - val_acc: 0.1837\n",
            "Epoch 96/100\n",
            "7/7 [==============================] - 0s 17ms/step - loss: 1.4560 - acc: 0.2956 - val_loss: 1.4292 - val_acc: 0.1837\n",
            "Epoch 97/100\n",
            "7/7 [==============================] - 0s 20ms/step - loss: 1.4560 - acc: 0.2956 - val_loss: 1.4356 - val_acc: 0.1837\n",
            "Epoch 98/100\n",
            "7/7 [==============================] - 0s 15ms/step - loss: 1.4554 - acc: 0.2956 - val_loss: 1.4273 - val_acc: 0.1837\n",
            "Epoch 99/100\n",
            "7/7 [==============================] - 0s 12ms/step - loss: 1.4559 - acc: 0.2956 - val_loss: 1.4275 - val_acc: 0.1837\n",
            "Epoch 100/100\n",
            "7/7 [==============================] - 0s 13ms/step - loss: 1.4570 - acc: 0.2956 - val_loss: 1.4311 - val_acc: 0.1837\n"
          ]
        }
      ]
    },
    {
      "cell_type": "code",
      "source": [
        "def CreateModel(i_shape, o_shape):\n",
        "    x_i = keras.layers.Input(i_shape)\n",
        "    x = keras.layers.GRU(50, return_sequences=True, dropout=0.5) (x_i)\n",
        "    x = keras.layers.GRU(50, dropout=0.5) (x)\n",
        "    x = keras.layers.Dense(64, activation='relu')(x) \n",
        "    x = keras.layers.Dense(256, activation='relu')(x)\n",
        "    x = keras.layers.Dense (128, activation='relu')(x)\n",
        "    x = keras.layers.Dense(o_shape[-1], activation='softmax')(x)\n",
        "    return keras.models.Model (x_i, x)"
      ],
      "metadata": {
        "id": "jNNw_JuZsjQg"
      },
      "execution_count": 62,
      "outputs": []
    },
    {
      "cell_type": "code",
      "source": [
        "sgd = keras.optimizers.Adam(0.01)\n",
        "model = CreateModel((*x_train.shape[1:], 1), y_train.shape[1:])\n",
        "model.compile(loss='categorical_crossentropy', optimizer=sgd, metrics=['acc']) \n",
        "model.summary()"
      ],
      "metadata": {
        "colab": {
          "base_uri": "https://localhost:8080/"
        },
        "id": "TQSFroh8s1e-",
        "outputId": "1f3018fb-42a5-465b-838b-05dca60a665b"
      },
      "execution_count": 64,
      "outputs": [
        {
          "output_type": "stream",
          "name": "stdout",
          "text": [
            "Model: \"model_4\"\n",
            "_________________________________________________________________\n",
            " Layer (type)                Output Shape              Param #   \n",
            "=================================================================\n",
            " input_9 (InputLayer)        [(None, 20, 1)]           0         \n",
            "                                                                 \n",
            " gru_2 (GRU)                 (None, 20, 50)            7950      \n",
            "                                                                 \n",
            " gru_3 (GRU)                 (None, 50)                15300     \n",
            "                                                                 \n",
            " dense_22 (Dense)            (None, 64)                3264      \n",
            "                                                                 \n",
            " dense_23 (Dense)            (None, 256)               16640     \n",
            "                                                                 \n",
            " dense_24 (Dense)            (None, 128)               32896     \n",
            "                                                                 \n",
            " dense_25 (Dense)            (None, 5)                 645       \n",
            "                                                                 \n",
            "=================================================================\n",
            "Total params: 76,695\n",
            "Trainable params: 76,695\n",
            "Non-trainable params: 0\n",
            "_________________________________________________________________\n"
          ]
        }
      ]
    },
    {
      "cell_type": "code",
      "source": [
        "import numpy as np\n",
        "from tensorflow import keras\n",
        "\n",
        "def CreateModel(i_shape, o_shape):\n",
        "    x_i = keras.layers.Input(i_shape)\n",
        "    x = keras.layers.GRU(50, return_sequences=True, dropout=0.5) (x_i)\n",
        "    x = keras.layers.GRU(50, dropout=0.5) (x)\n",
        "    x = keras.layers.Dense(64, activation='relu')(x) \n",
        "    x = keras.layers.Dense(256, activation='relu')(x)\n",
        "    x = keras.layers.Dense (128, activation='relu')(x)\n",
        "    x = keras.layers.Dense(o_shape[-1], activation='softmax')(x)\n",
        "    return keras.models.Model (x_i, x)\n",
        "\n",
        "# reshape input data\n",
        "x_train = np.reshape(x_train, (x_train.shape[0], x_train.shape[1], 1))\n",
        "x_test = np.reshape(x_test, (x_test.shape[0], x_test.shape[1], 1))\n",
        "\n",
        "# create and compile the model\n",
        "model = CreateModel(x_train.shape[1:], y_train.shape[1:])\n",
        "model.compile(loss='categorical_crossentropy', optimizer='adam', metrics=['accuracy'])\n",
        "\n",
        "# train the model\n",
        "history = model.fit(x_train, y_train, epochs=100, batch_size=64, verbose=True, validation_data=(x_test, y_test))\n"
      ],
      "metadata": {
        "colab": {
          "base_uri": "https://localhost:8080/"
        },
        "id": "d5rpOiqGteYQ",
        "outputId": "000a185b-7b93-499c-905f-ae2c92acbda4"
      },
      "execution_count": 68,
      "outputs": [
        {
          "output_type": "stream",
          "name": "stdout",
          "text": [
            "Epoch 1/100\n",
            "7/7 [==============================] - 8s 183ms/step - loss: 1.5980 - accuracy: 0.2333 - val_loss: 1.5545 - val_accuracy: 0.1837\n",
            "Epoch 2/100\n",
            "7/7 [==============================] - 0s 23ms/step - loss: 1.5372 - accuracy: 0.2818 - val_loss: 1.4757 - val_accuracy: 0.3265\n",
            "Epoch 3/100\n",
            "7/7 [==============================] - 0s 26ms/step - loss: 1.4967 - accuracy: 0.2748 - val_loss: 1.5676 - val_accuracy: 0.1837\n",
            "Epoch 4/100\n",
            "7/7 [==============================] - 0s 46ms/step - loss: 1.4790 - accuracy: 0.2979 - val_loss: 1.5845 - val_accuracy: 0.1837\n",
            "Epoch 5/100\n",
            "7/7 [==============================] - 0s 34ms/step - loss: 1.4592 - accuracy: 0.2841 - val_loss: 1.5186 - val_accuracy: 0.1837\n",
            "Epoch 6/100\n",
            "7/7 [==============================] - 0s 22ms/step - loss: 1.4565 - accuracy: 0.2933 - val_loss: 1.4887 - val_accuracy: 0.1837\n",
            "Epoch 7/100\n",
            "7/7 [==============================] - 0s 23ms/step - loss: 1.4523 - accuracy: 0.2933 - val_loss: 1.5192 - val_accuracy: 0.1837\n",
            "Epoch 8/100\n",
            "7/7 [==============================] - 0s 18ms/step - loss: 1.4509 - accuracy: 0.2887 - val_loss: 1.5187 - val_accuracy: 0.1837\n",
            "Epoch 9/100\n",
            "7/7 [==============================] - 0s 15ms/step - loss: 1.4519 - accuracy: 0.2933 - val_loss: 1.5306 - val_accuracy: 0.1837\n",
            "Epoch 10/100\n",
            "7/7 [==============================] - 0s 13ms/step - loss: 1.4590 - accuracy: 0.3002 - val_loss: 1.5532 - val_accuracy: 0.1837\n",
            "Epoch 11/100\n",
            "7/7 [==============================] - 0s 13ms/step - loss: 1.4510 - accuracy: 0.3025 - val_loss: 1.4693 - val_accuracy: 0.3265\n",
            "Epoch 12/100\n",
            "7/7 [==============================] - 0s 14ms/step - loss: 1.4546 - accuracy: 0.2794 - val_loss: 1.4573 - val_accuracy: 0.3265\n",
            "Epoch 13/100\n",
            "7/7 [==============================] - 0s 15ms/step - loss: 1.4556 - accuracy: 0.3095 - val_loss: 1.4883 - val_accuracy: 0.3265\n",
            "Epoch 14/100\n",
            "7/7 [==============================] - 0s 15ms/step - loss: 1.4512 - accuracy: 0.3118 - val_loss: 1.5049 - val_accuracy: 0.1837\n",
            "Epoch 15/100\n",
            "7/7 [==============================] - 0s 13ms/step - loss: 1.4479 - accuracy: 0.2910 - val_loss: 1.5111 - val_accuracy: 0.1837\n",
            "Epoch 16/100\n",
            "7/7 [==============================] - 0s 13ms/step - loss: 1.4470 - accuracy: 0.3164 - val_loss: 1.5218 - val_accuracy: 0.1429\n",
            "Epoch 17/100\n",
            "7/7 [==============================] - 0s 12ms/step - loss: 1.4504 - accuracy: 0.3095 - val_loss: 1.5217 - val_accuracy: 0.1837\n",
            "Epoch 18/100\n",
            "7/7 [==============================] - 0s 13ms/step - loss: 1.4490 - accuracy: 0.3210 - val_loss: 1.5208 - val_accuracy: 0.1837\n",
            "Epoch 19/100\n",
            "7/7 [==============================] - 0s 15ms/step - loss: 1.4496 - accuracy: 0.3164 - val_loss: 1.5225 - val_accuracy: 0.3265\n",
            "Epoch 20/100\n",
            "7/7 [==============================] - 0s 12ms/step - loss: 1.4500 - accuracy: 0.3256 - val_loss: 1.4836 - val_accuracy: 0.3265\n",
            "Epoch 21/100\n",
            "7/7 [==============================] - 0s 17ms/step - loss: 1.4464 - accuracy: 0.2979 - val_loss: 1.4829 - val_accuracy: 0.2857\n",
            "Epoch 22/100\n",
            "7/7 [==============================] - 0s 13ms/step - loss: 1.4443 - accuracy: 0.3141 - val_loss: 1.5026 - val_accuracy: 0.1837\n",
            "Epoch 23/100\n",
            "7/7 [==============================] - 0s 13ms/step - loss: 1.4515 - accuracy: 0.3095 - val_loss: 1.4849 - val_accuracy: 0.3265\n",
            "Epoch 24/100\n",
            "7/7 [==============================] - 0s 12ms/step - loss: 1.4360 - accuracy: 0.3210 - val_loss: 1.4813 - val_accuracy: 0.3265\n",
            "Epoch 25/100\n",
            "7/7 [==============================] - 0s 12ms/step - loss: 1.4425 - accuracy: 0.3072 - val_loss: 1.4923 - val_accuracy: 0.2245\n",
            "Epoch 26/100\n",
            "7/7 [==============================] - 0s 16ms/step - loss: 1.4376 - accuracy: 0.3002 - val_loss: 1.5158 - val_accuracy: 0.3265\n",
            "Epoch 27/100\n",
            "7/7 [==============================] - 0s 16ms/step - loss: 1.4394 - accuracy: 0.3303 - val_loss: 1.5401 - val_accuracy: 0.1837\n",
            "Epoch 28/100\n",
            "7/7 [==============================] - 0s 20ms/step - loss: 1.4427 - accuracy: 0.3164 - val_loss: 1.5381 - val_accuracy: 0.1837\n",
            "Epoch 29/100\n",
            "7/7 [==============================] - 0s 13ms/step - loss: 1.4352 - accuracy: 0.3418 - val_loss: 1.5284 - val_accuracy: 0.1837\n",
            "Epoch 30/100\n",
            "7/7 [==============================] - 0s 13ms/step - loss: 1.4430 - accuracy: 0.3141 - val_loss: 1.5252 - val_accuracy: 0.1837\n",
            "Epoch 31/100\n",
            "7/7 [==============================] - 0s 14ms/step - loss: 1.4341 - accuracy: 0.3349 - val_loss: 1.5105 - val_accuracy: 0.3265\n",
            "Epoch 32/100\n",
            "7/7 [==============================] - 0s 13ms/step - loss: 1.4387 - accuracy: 0.3141 - val_loss: 1.5243 - val_accuracy: 0.1837\n",
            "Epoch 33/100\n",
            "7/7 [==============================] - 0s 13ms/step - loss: 1.4231 - accuracy: 0.3210 - val_loss: 1.5099 - val_accuracy: 0.1837\n",
            "Epoch 34/100\n",
            "7/7 [==============================] - 0s 19ms/step - loss: 1.4343 - accuracy: 0.3256 - val_loss: 1.5124 - val_accuracy: 0.2653\n",
            "Epoch 35/100\n",
            "7/7 [==============================] - 0s 12ms/step - loss: 1.4356 - accuracy: 0.3210 - val_loss: 1.5914 - val_accuracy: 0.1837\n",
            "Epoch 36/100\n",
            "7/7 [==============================] - 0s 16ms/step - loss: 1.4315 - accuracy: 0.3233 - val_loss: 1.4877 - val_accuracy: 0.3265\n",
            "Epoch 37/100\n",
            "7/7 [==============================] - 0s 13ms/step - loss: 1.4312 - accuracy: 0.3395 - val_loss: 1.5715 - val_accuracy: 0.3265\n",
            "Epoch 38/100\n",
            "7/7 [==============================] - 0s 15ms/step - loss: 1.4245 - accuracy: 0.3626 - val_loss: 1.6042 - val_accuracy: 0.1837\n",
            "Epoch 39/100\n",
            "7/7 [==============================] - 0s 13ms/step - loss: 1.4259 - accuracy: 0.3418 - val_loss: 1.5679 - val_accuracy: 0.1837\n",
            "Epoch 40/100\n",
            "7/7 [==============================] - 0s 17ms/step - loss: 1.4218 - accuracy: 0.3418 - val_loss: 1.6332 - val_accuracy: 0.1837\n",
            "Epoch 41/100\n",
            "7/7 [==============================] - 0s 13ms/step - loss: 1.4116 - accuracy: 0.3441 - val_loss: 1.5617 - val_accuracy: 0.1837\n",
            "Epoch 42/100\n",
            "7/7 [==============================] - 0s 23ms/step - loss: 1.4208 - accuracy: 0.3256 - val_loss: 1.6143 - val_accuracy: 0.1837\n",
            "Epoch 43/100\n",
            "7/7 [==============================] - 0s 19ms/step - loss: 1.4130 - accuracy: 0.3256 - val_loss: 1.5727 - val_accuracy: 0.1837\n",
            "Epoch 44/100\n",
            "7/7 [==============================] - 0s 19ms/step - loss: 1.4168 - accuracy: 0.3672 - val_loss: 1.6209 - val_accuracy: 0.1837\n",
            "Epoch 45/100\n",
            "7/7 [==============================] - 0s 19ms/step - loss: 1.4210 - accuracy: 0.3603 - val_loss: 1.5489 - val_accuracy: 0.1837\n",
            "Epoch 46/100\n",
            "7/7 [==============================] - 0s 20ms/step - loss: 1.4253 - accuracy: 0.3626 - val_loss: 1.5569 - val_accuracy: 0.1429\n",
            "Epoch 47/100\n",
            "7/7 [==============================] - 0s 21ms/step - loss: 1.4081 - accuracy: 0.3649 - val_loss: 1.5768 - val_accuracy: 0.1837\n",
            "Epoch 48/100\n",
            "7/7 [==============================] - 0s 19ms/step - loss: 1.4259 - accuracy: 0.3210 - val_loss: 1.6101 - val_accuracy: 0.1837\n",
            "Epoch 49/100\n",
            "7/7 [==============================] - 0s 28ms/step - loss: 1.4247 - accuracy: 0.3372 - val_loss: 1.5712 - val_accuracy: 0.1429\n",
            "Epoch 50/100\n",
            "7/7 [==============================] - 0s 29ms/step - loss: 1.4168 - accuracy: 0.3256 - val_loss: 1.5277 - val_accuracy: 0.1837\n",
            "Epoch 51/100\n",
            "7/7 [==============================] - 0s 23ms/step - loss: 1.4127 - accuracy: 0.3279 - val_loss: 1.5221 - val_accuracy: 0.2041\n",
            "Epoch 52/100\n",
            "7/7 [==============================] - 0s 24ms/step - loss: 1.4102 - accuracy: 0.3487 - val_loss: 1.5222 - val_accuracy: 0.2041\n",
            "Epoch 53/100\n",
            "7/7 [==============================] - 0s 27ms/step - loss: 1.4036 - accuracy: 0.3557 - val_loss: 1.6252 - val_accuracy: 0.1837\n",
            "Epoch 54/100\n",
            "7/7 [==============================] - 0s 29ms/step - loss: 1.4101 - accuracy: 0.3626 - val_loss: 1.6031 - val_accuracy: 0.1837\n",
            "Epoch 55/100\n",
            "7/7 [==============================] - 0s 28ms/step - loss: 1.4071 - accuracy: 0.3510 - val_loss: 1.4929 - val_accuracy: 0.2041\n",
            "Epoch 56/100\n",
            "7/7 [==============================] - 0s 26ms/step - loss: 1.4255 - accuracy: 0.3418 - val_loss: 1.5158 - val_accuracy: 0.3265\n",
            "Epoch 57/100\n",
            "7/7 [==============================] - 0s 28ms/step - loss: 1.4128 - accuracy: 0.3303 - val_loss: 1.5159 - val_accuracy: 0.1429\n",
            "Epoch 58/100\n",
            "7/7 [==============================] - 0s 31ms/step - loss: 1.4103 - accuracy: 0.3510 - val_loss: 1.6039 - val_accuracy: 0.1837\n",
            "Epoch 59/100\n",
            "7/7 [==============================] - 0s 22ms/step - loss: 1.3977 - accuracy: 0.3326 - val_loss: 1.5554 - val_accuracy: 0.1837\n",
            "Epoch 60/100\n",
            "7/7 [==============================] - 0s 25ms/step - loss: 1.4091 - accuracy: 0.3441 - val_loss: 1.5972 - val_accuracy: 0.1837\n",
            "Epoch 61/100\n",
            "7/7 [==============================] - 0s 25ms/step - loss: 1.3970 - accuracy: 0.3626 - val_loss: 1.6205 - val_accuracy: 0.1837\n",
            "Epoch 62/100\n",
            "7/7 [==============================] - 0s 22ms/step - loss: 1.4097 - accuracy: 0.3672 - val_loss: 1.7089 - val_accuracy: 0.1837\n",
            "Epoch 63/100\n",
            "7/7 [==============================] - 0s 21ms/step - loss: 1.4184 - accuracy: 0.3326 - val_loss: 1.5462 - val_accuracy: 0.1633\n",
            "Epoch 64/100\n",
            "7/7 [==============================] - 0s 24ms/step - loss: 1.3987 - accuracy: 0.3672 - val_loss: 1.6520 - val_accuracy: 0.1837\n",
            "Epoch 65/100\n",
            "7/7 [==============================] - 0s 25ms/step - loss: 1.4108 - accuracy: 0.3580 - val_loss: 1.4945 - val_accuracy: 0.2041\n",
            "Epoch 66/100\n",
            "7/7 [==============================] - 0s 33ms/step - loss: 1.3995 - accuracy: 0.3441 - val_loss: 1.4806 - val_accuracy: 0.3265\n",
            "Epoch 67/100\n",
            "7/7 [==============================] - 0s 23ms/step - loss: 1.4023 - accuracy: 0.3788 - val_loss: 1.5480 - val_accuracy: 0.1837\n",
            "Epoch 68/100\n",
            "7/7 [==============================] - 0s 22ms/step - loss: 1.3946 - accuracy: 0.3464 - val_loss: 1.5445 - val_accuracy: 0.1837\n",
            "Epoch 69/100\n",
            "7/7 [==============================] - 0s 24ms/step - loss: 1.3873 - accuracy: 0.3580 - val_loss: 1.5867 - val_accuracy: 0.1837\n",
            "Epoch 70/100\n",
            "7/7 [==============================] - 0s 20ms/step - loss: 1.4005 - accuracy: 0.3372 - val_loss: 1.5225 - val_accuracy: 0.1429\n",
            "Epoch 71/100\n",
            "7/7 [==============================] - 0s 21ms/step - loss: 1.3947 - accuracy: 0.3533 - val_loss: 1.5425 - val_accuracy: 0.1837\n",
            "Epoch 72/100\n",
            "7/7 [==============================] - 0s 21ms/step - loss: 1.3876 - accuracy: 0.3557 - val_loss: 1.5403 - val_accuracy: 0.1837\n",
            "Epoch 73/100\n",
            "7/7 [==============================] - 0s 18ms/step - loss: 1.3817 - accuracy: 0.3788 - val_loss: 1.5509 - val_accuracy: 0.1633\n",
            "Epoch 74/100\n",
            "7/7 [==============================] - 0s 14ms/step - loss: 1.3791 - accuracy: 0.3741 - val_loss: 1.5827 - val_accuracy: 0.1837\n",
            "Epoch 75/100\n",
            "7/7 [==============================] - 0s 13ms/step - loss: 1.4091 - accuracy: 0.3441 - val_loss: 1.5795 - val_accuracy: 0.1837\n",
            "Epoch 76/100\n",
            "7/7 [==============================] - 0s 12ms/step - loss: 1.4140 - accuracy: 0.3233 - val_loss: 1.4958 - val_accuracy: 0.1837\n",
            "Epoch 77/100\n",
            "7/7 [==============================] - 0s 17ms/step - loss: 1.3776 - accuracy: 0.3649 - val_loss: 1.5354 - val_accuracy: 0.1837\n",
            "Epoch 78/100\n",
            "7/7 [==============================] - 0s 12ms/step - loss: 1.3921 - accuracy: 0.3718 - val_loss: 1.5266 - val_accuracy: 0.1837\n",
            "Epoch 79/100\n",
            "7/7 [==============================] - 0s 15ms/step - loss: 1.3949 - accuracy: 0.3580 - val_loss: 1.5499 - val_accuracy: 0.1837\n",
            "Epoch 80/100\n",
            "7/7 [==============================] - 0s 15ms/step - loss: 1.3863 - accuracy: 0.3788 - val_loss: 1.5120 - val_accuracy: 0.1429\n",
            "Epoch 81/100\n",
            "7/7 [==============================] - 0s 16ms/step - loss: 1.3703 - accuracy: 0.3718 - val_loss: 1.5864 - val_accuracy: 0.1837\n",
            "Epoch 82/100\n",
            "7/7 [==============================] - 0s 13ms/step - loss: 1.3690 - accuracy: 0.3741 - val_loss: 1.5852 - val_accuracy: 0.1429\n",
            "Epoch 83/100\n",
            "7/7 [==============================] - 0s 13ms/step - loss: 1.3745 - accuracy: 0.3788 - val_loss: 1.5081 - val_accuracy: 0.1837\n",
            "Epoch 84/100\n",
            "7/7 [==============================] - 0s 14ms/step - loss: 1.3714 - accuracy: 0.3788 - val_loss: 1.5423 - val_accuracy: 0.1837\n",
            "Epoch 85/100\n",
            "7/7 [==============================] - 0s 12ms/step - loss: 1.3573 - accuracy: 0.3903 - val_loss: 1.5634 - val_accuracy: 0.1837\n",
            "Epoch 86/100\n",
            "7/7 [==============================] - 0s 12ms/step - loss: 1.3687 - accuracy: 0.4018 - val_loss: 1.6080 - val_accuracy: 0.1837\n",
            "Epoch 87/100\n",
            "7/7 [==============================] - 0s 13ms/step - loss: 1.3763 - accuracy: 0.3811 - val_loss: 1.5605 - val_accuracy: 0.1429\n",
            "Epoch 88/100\n",
            "7/7 [==============================] - 0s 14ms/step - loss: 1.3842 - accuracy: 0.3764 - val_loss: 1.5265 - val_accuracy: 0.1429\n",
            "Epoch 89/100\n",
            "7/7 [==============================] - 0s 12ms/step - loss: 1.3901 - accuracy: 0.3372 - val_loss: 1.5474 - val_accuracy: 0.1224\n",
            "Epoch 90/100\n",
            "7/7 [==============================] - 0s 21ms/step - loss: 1.3966 - accuracy: 0.3603 - val_loss: 1.5788 - val_accuracy: 0.1837\n",
            "Epoch 91/100\n",
            "7/7 [==============================] - 0s 13ms/step - loss: 1.3683 - accuracy: 0.4018 - val_loss: 1.5092 - val_accuracy: 0.1837\n",
            "Epoch 92/100\n",
            "7/7 [==============================] - 0s 13ms/step - loss: 1.3648 - accuracy: 0.3880 - val_loss: 1.5540 - val_accuracy: 0.1837\n",
            "Epoch 93/100\n",
            "7/7 [==============================] - 0s 13ms/step - loss: 1.3811 - accuracy: 0.3903 - val_loss: 1.5935 - val_accuracy: 0.1837\n",
            "Epoch 94/100\n",
            "7/7 [==============================] - 0s 13ms/step - loss: 1.3519 - accuracy: 0.3857 - val_loss: 1.5996 - val_accuracy: 0.1837\n",
            "Epoch 95/100\n",
            "7/7 [==============================] - 0s 13ms/step - loss: 1.3693 - accuracy: 0.3533 - val_loss: 1.5420 - val_accuracy: 0.1837\n",
            "Epoch 96/100\n",
            "7/7 [==============================] - 0s 14ms/step - loss: 1.3613 - accuracy: 0.3649 - val_loss: 1.5333 - val_accuracy: 0.1837\n",
            "Epoch 97/100\n",
            "7/7 [==============================] - 0s 15ms/step - loss: 1.3872 - accuracy: 0.3834 - val_loss: 1.5252 - val_accuracy: 0.1837\n",
            "Epoch 98/100\n",
            "7/7 [==============================] - 0s 16ms/step - loss: 1.3752 - accuracy: 0.3741 - val_loss: 1.5505 - val_accuracy: 0.1837\n",
            "Epoch 99/100\n",
            "7/7 [==============================] - 0s 16ms/step - loss: 1.3755 - accuracy: 0.3580 - val_loss: 1.5496 - val_accuracy: 0.1837\n",
            "Epoch 100/100\n",
            "7/7 [==============================] - 0s 15ms/step - loss: 1.3645 - accuracy: 0.3718 - val_loss: 1.5264 - val_accuracy: 0.1633\n"
          ]
        }
      ]
    },
    {
      "cell_type": "markdown",
      "metadata": {
        "id": "ujlcFvvkt43i"
      },
      "source": [
        "# 3. IMDB Text Classification\n",
        "\n",
        "In this next lab, you will create a text classification using LSTMs."
      ]
    },
    {
      "cell_type": "code",
      "execution_count": 1,
      "metadata": {
        "id": "vhPQ4_art43j"
      },
      "outputs": [],
      "source": [
        "from keras import preprocessing\n",
        "from keras.datasets import imdb"
      ]
    },
    {
      "cell_type": "code",
      "execution_count": 2,
      "metadata": {
        "id": "DKz_bNxDt43j"
      },
      "outputs": [],
      "source": [
        "# Load imdb dataset and print a few samples to check.\n",
        "#\n",
        "# IMDB: sentence (x) -> positive/negative (y)\n",
        "#\n",
        "# “The food was really good”                             -> pos\n",
        "# “The chicken crossed the road because it was uncooked” -> neg\n",
        "\n",
        "num_words = 10000\n",
        "maxlen = 100\n",
        "embedded_size = 16"
      ]
    },
    {
      "cell_type": "code",
      "execution_count": 3,
      "metadata": {
        "colab": {
          "base_uri": "https://localhost:8080/"
        },
        "id": "Zu8EekMzt43j",
        "outputId": "3ca9db2e-c052-410b-966b-5b187174055b"
      },
      "outputs": [
        {
          "output_type": "stream",
          "name": "stdout",
          "text": [
            "Downloading data from https://storage.googleapis.com/tensorflow/tf-keras-datasets/imdb.npz\n",
            "17464789/17464789 [==============================] - 2s 0us/step\n"
          ]
        }
      ],
      "source": [
        "(x_train, y_train), (x_test, y_test) = imdb.load_data(num_words=num_words)"
      ]
    },
    {
      "cell_type": "code",
      "execution_count": 4,
      "metadata": {
        "colab": {
          "base_uri": "https://localhost:8080/"
        },
        "id": "qfRj7EiYt43j",
        "outputId": "5b318068-1bff-4ab4-9bd1-3c4061ff7127"
      },
      "outputs": [
        {
          "output_type": "stream",
          "name": "stdout",
          "text": [
            "Downloading data from https://storage.googleapis.com/tensorflow/tf-keras-datasets/imdb_word_index.json\n",
            "1641221/1641221 [==============================] - 0s 0us/step\n",
            "you\n"
          ]
        }
      ],
      "source": [
        "d = imdb.get_word_index()\n",
        "for w in d:\n",
        "    if d[w] == 22:\n",
        "        print(w)\n",
        "        break"
      ]
    },
    {
      "cell_type": "code",
      "execution_count": 5,
      "metadata": {
        "colab": {
          "base_uri": "https://localhost:8080/"
        },
        "id": "IS8Sgfdwt43j",
        "outputId": "9abe9cc1-c1be-4704-cdb8-f632906e3d0b"
      },
      "outputs": [
        {
          "output_type": "execute_result",
          "data": {
            "text/plain": [
              "((25000,), (25000,), (25000,), (25000,))"
            ]
          },
          "metadata": {},
          "execution_count": 5
        }
      ],
      "source": [
        "x_train.shape, y_train.shape, x_test.shape, y_test.shape"
      ]
    },
    {
      "cell_type": "code",
      "execution_count": 6,
      "metadata": {
        "colab": {
          "base_uri": "https://localhost:8080/"
        },
        "id": "NI6kiVXVt43j",
        "outputId": "058b1e01-f18f-4f9d-f567-54a2fd913376"
      },
      "outputs": [
        {
          "output_type": "execute_result",
          "data": {
            "text/plain": [
              "[1,\n",
              " 14,\n",
              " 22,\n",
              " 16,\n",
              " 43,\n",
              " 530,\n",
              " 973,\n",
              " 1622,\n",
              " 1385,\n",
              " 65,\n",
              " 458,\n",
              " 4468,\n",
              " 66,\n",
              " 3941,\n",
              " 4,\n",
              " 173,\n",
              " 36,\n",
              " 256,\n",
              " 5,\n",
              " 25,\n",
              " 100,\n",
              " 43,\n",
              " 838,\n",
              " 112,\n",
              " 50,\n",
              " 670,\n",
              " 2,\n",
              " 9,\n",
              " 35,\n",
              " 480,\n",
              " 284,\n",
              " 5,\n",
              " 150,\n",
              " 4,\n",
              " 172,\n",
              " 112,\n",
              " 167,\n",
              " 2,\n",
              " 336,\n",
              " 385,\n",
              " 39,\n",
              " 4,\n",
              " 172,\n",
              " 4536,\n",
              " 1111,\n",
              " 17,\n",
              " 546,\n",
              " 38,\n",
              " 13,\n",
              " 447,\n",
              " 4,\n",
              " 192,\n",
              " 50,\n",
              " 16,\n",
              " 6,\n",
              " 147,\n",
              " 2025,\n",
              " 19,\n",
              " 14,\n",
              " 22,\n",
              " 4,\n",
              " 1920,\n",
              " 4613,\n",
              " 469,\n",
              " 4,\n",
              " 22,\n",
              " 71,\n",
              " 87,\n",
              " 12,\n",
              " 16,\n",
              " 43,\n",
              " 530,\n",
              " 38,\n",
              " 76,\n",
              " 15,\n",
              " 13,\n",
              " 1247,\n",
              " 4,\n",
              " 22,\n",
              " 17,\n",
              " 515,\n",
              " 17,\n",
              " 12,\n",
              " 16,\n",
              " 626,\n",
              " 18,\n",
              " 2,\n",
              " 5,\n",
              " 62,\n",
              " 386,\n",
              " 12,\n",
              " 8,\n",
              " 316,\n",
              " 8,\n",
              " 106,\n",
              " 5,\n",
              " 4,\n",
              " 2223,\n",
              " 5244,\n",
              " 16,\n",
              " 480,\n",
              " 66,\n",
              " 3785,\n",
              " 33,\n",
              " 4,\n",
              " 130,\n",
              " 12,\n",
              " 16,\n",
              " 38,\n",
              " 619,\n",
              " 5,\n",
              " 25,\n",
              " 124,\n",
              " 51,\n",
              " 36,\n",
              " 135,\n",
              " 48,\n",
              " 25,\n",
              " 1415,\n",
              " 33,\n",
              " 6,\n",
              " 22,\n",
              " 12,\n",
              " 215,\n",
              " 28,\n",
              " 77,\n",
              " 52,\n",
              " 5,\n",
              " 14,\n",
              " 407,\n",
              " 16,\n",
              " 82,\n",
              " 2,\n",
              " 8,\n",
              " 4,\n",
              " 107,\n",
              " 117,\n",
              " 5952,\n",
              " 15,\n",
              " 256,\n",
              " 4,\n",
              " 2,\n",
              " 7,\n",
              " 3766,\n",
              " 5,\n",
              " 723,\n",
              " 36,\n",
              " 71,\n",
              " 43,\n",
              " 530,\n",
              " 476,\n",
              " 26,\n",
              " 400,\n",
              " 317,\n",
              " 46,\n",
              " 7,\n",
              " 4,\n",
              " 2,\n",
              " 1029,\n",
              " 13,\n",
              " 104,\n",
              " 88,\n",
              " 4,\n",
              " 381,\n",
              " 15,\n",
              " 297,\n",
              " 98,\n",
              " 32,\n",
              " 2071,\n",
              " 56,\n",
              " 26,\n",
              " 141,\n",
              " 6,\n",
              " 194,\n",
              " 7486,\n",
              " 18,\n",
              " 4,\n",
              " 226,\n",
              " 22,\n",
              " 21,\n",
              " 134,\n",
              " 476,\n",
              " 26,\n",
              " 480,\n",
              " 5,\n",
              " 144,\n",
              " 30,\n",
              " 5535,\n",
              " 18,\n",
              " 51,\n",
              " 36,\n",
              " 28,\n",
              " 224,\n",
              " 92,\n",
              " 25,\n",
              " 104,\n",
              " 4,\n",
              " 226,\n",
              " 65,\n",
              " 16,\n",
              " 38,\n",
              " 1334,\n",
              " 88,\n",
              " 12,\n",
              " 16,\n",
              " 283,\n",
              " 5,\n",
              " 16,\n",
              " 4472,\n",
              " 113,\n",
              " 103,\n",
              " 32,\n",
              " 15,\n",
              " 16,\n",
              " 5345,\n",
              " 19,\n",
              " 178,\n",
              " 32]"
            ]
          },
          "metadata": {},
          "execution_count": 6
        }
      ],
      "source": [
        "x_train[0]"
      ]
    },
    {
      "cell_type": "markdown",
      "metadata": {
        "id": "myjymLH-t43j"
      },
      "source": [
        "x_train has a size (training_size, ). Because the sentences have variable size, we cannot represent this in matrix format.\n",
        "\n",
        "The first step is to make the column size constant. We do that by \"padding\" the sentences. If the sentences are bigger, we clip them. If they are smaller, we insert a \"NO_WORD\" token to the sentence."
      ]
    },
    {
      "cell_type": "code",
      "execution_count": 7,
      "metadata": {
        "id": "NVC2t8spp_iZ"
      },
      "outputs": [],
      "source": [
        "import keras"
      ]
    },
    {
      "cell_type": "code",
      "execution_count": 8,
      "metadata": {
        "colab": {
          "base_uri": "https://localhost:8080/"
        },
        "id": "Dc31G9HPt43j",
        "outputId": "e026b482-3826-488f-8e30-31291df539e3"
      },
      "outputs": [
        {
          "output_type": "execute_result",
          "data": {
            "text/plain": [
              "((25000, 100), (25000, 100))"
            ]
          },
          "metadata": {},
          "execution_count": 8
        }
      ],
      "source": [
        "x_train = keras.utils.pad_sequences(x_train, maxlen=maxlen)\n",
        "x_test = keras.utils.pad_sequences(x_test, maxlen=maxlen)\n",
        "x_train.shape, x_test.shape"
      ]
    },
    {
      "cell_type": "code",
      "execution_count": 9,
      "metadata": {
        "colab": {
          "base_uri": "https://localhost:8080/"
        },
        "id": "XWkgf6Iut43k",
        "outputId": "fa6e80c9-60ed-4a12-bce6-07ae39822438"
      },
      "outputs": [
        {
          "output_type": "execute_result",
          "data": {
            "text/plain": [
              "array([1415,   33,    6,   22,   12,  215,   28,   77,   52,    5,   14,\n",
              "        407,   16,   82,    2,    8,    4,  107,  117, 5952,   15,  256,\n",
              "          4,    2,    7, 3766,    5,  723,   36,   71,   43,  530,  476,\n",
              "         26,  400,  317,   46,    7,    4,    2, 1029,   13,  104,   88,\n",
              "          4,  381,   15,  297,   98,   32, 2071,   56,   26,  141,    6,\n",
              "        194, 7486,   18,    4,  226,   22,   21,  134,  476,   26,  480,\n",
              "          5,  144,   30, 5535,   18,   51,   36,   28,  224,   92,   25,\n",
              "        104,    4,  226,   65,   16,   38, 1334,   88,   12,   16,  283,\n",
              "          5,   16, 4472,  113,  103,   32,   15,   16, 5345,   19,  178,\n",
              "         32], dtype=int32)"
            ]
          },
          "metadata": {},
          "execution_count": 9
        }
      ],
      "source": [
        "x_train[0]"
      ]
    },
    {
      "cell_type": "code",
      "execution_count": 10,
      "metadata": {
        "colab": {
          "base_uri": "https://localhost:8080/"
        },
        "id": "-O8_NYttt43k",
        "outputId": "53f02da3-592b-47d2-96ad-f3eaa8514c92"
      },
      "outputs": [
        {
          "output_type": "stream",
          "name": "stdout",
          "text": [
            "Model: \"model\"\n",
            "_________________________________________________________________\n",
            " Layer (type)                Output Shape              Param #   \n",
            "=================================================================\n",
            " input_1 (InputLayer)        [(None, 100)]             0         \n",
            "                                                                 \n",
            " embedding (Embedding)       (None, 100, 16)           160000    \n",
            "                                                                 \n",
            " flatten (Flatten)           (None, 1600)              0         \n",
            "                                                                 \n",
            " dense (Dense)               (None, 1)                 1601      \n",
            "                                                                 \n",
            "=================================================================\n",
            "Total params: 161,601\n",
            "Trainable params: 161,601\n",
            "Non-trainable params: 0\n",
            "_________________________________________________________________\n"
          ]
        }
      ],
      "source": [
        "def CreateModel(i_shape):\n",
        "    x_i = keras.layers.Input(i_shape)\n",
        "    x = keras.layers.Embedding(num_words, embedded_size,\n",
        "                               input_length=maxlen)(x_i)\n",
        "    x = keras.layers.Flatten()(x)\n",
        "    x = keras.layers.Dense(1, activation=\"sigmoid\")(x)\n",
        "\n",
        "    return keras.models.Model(x_i, x)\n",
        "\n",
        "model = CreateModel(x_train.shape[1:])\n",
        "model.summary()\n",
        "\n",
        "model.compile(optimizer=\"adam\", loss=\"binary_crossentropy\", metrics=[\"acc\"])"
      ]
    },
    {
      "cell_type": "code",
      "execution_count": 11,
      "metadata": {
        "colab": {
          "base_uri": "https://localhost:8080/"
        },
        "id": "H5GUvXbGt43k",
        "outputId": "ec38b558-1c33-4b00-b2c2-93cadfccf9fb"
      },
      "outputs": [
        {
          "output_type": "stream",
          "name": "stdout",
          "text": [
            "Epoch 1/20\n",
            "313/313 [==============================] - 29s 79ms/step - loss: 0.6277 - acc: 0.6664 - val_loss: 0.4622 - val_acc: 0.8080\n",
            "Epoch 2/20\n",
            "313/313 [==============================] - 6s 20ms/step - loss: 0.3466 - acc: 0.8648 - val_loss: 0.3428 - val_acc: 0.8544\n",
            "Epoch 3/20\n",
            "313/313 [==============================] - 3s 10ms/step - loss: 0.2381 - acc: 0.9143 - val_loss: 0.3267 - val_acc: 0.8528\n",
            "Epoch 4/20\n",
            "313/313 [==============================] - 5s 15ms/step - loss: 0.1724 - acc: 0.9461 - val_loss: 0.3324 - val_acc: 0.8508\n",
            "Epoch 5/20\n",
            "313/313 [==============================] - 3s 10ms/step - loss: 0.1214 - acc: 0.9700 - val_loss: 0.3415 - val_acc: 0.8522\n",
            "Epoch 6/20\n",
            "313/313 [==============================] - 3s 9ms/step - loss: 0.0819 - acc: 0.9858 - val_loss: 0.3563 - val_acc: 0.8482\n",
            "Epoch 7/20\n",
            "313/313 [==============================] - 4s 11ms/step - loss: 0.0540 - acc: 0.9946 - val_loss: 0.3749 - val_acc: 0.8484\n",
            "Epoch 8/20\n",
            "313/313 [==============================] - 2s 8ms/step - loss: 0.0359 - acc: 0.9978 - val_loss: 0.3941 - val_acc: 0.8468\n",
            "Epoch 9/20\n",
            "313/313 [==============================] - 3s 9ms/step - loss: 0.0243 - acc: 0.9992 - val_loss: 0.4121 - val_acc: 0.8458\n",
            "Epoch 10/20\n",
            "313/313 [==============================] - 2s 6ms/step - loss: 0.0168 - acc: 0.9998 - val_loss: 0.4301 - val_acc: 0.8446\n",
            "Epoch 11/20\n",
            "313/313 [==============================] - 2s 7ms/step - loss: 0.0120 - acc: 0.9999 - val_loss: 0.4459 - val_acc: 0.8468\n",
            "Epoch 12/20\n",
            "313/313 [==============================] - 1s 4ms/step - loss: 0.0089 - acc: 1.0000 - val_loss: 0.4626 - val_acc: 0.8442\n",
            "Epoch 13/20\n",
            "313/313 [==============================] - 2s 8ms/step - loss: 0.0067 - acc: 1.0000 - val_loss: 0.4782 - val_acc: 0.8436\n",
            "Epoch 14/20\n",
            "313/313 [==============================] - 2s 5ms/step - loss: 0.0051 - acc: 1.0000 - val_loss: 0.4943 - val_acc: 0.8432\n",
            "Epoch 15/20\n",
            "313/313 [==============================] - 2s 5ms/step - loss: 0.0039 - acc: 1.0000 - val_loss: 0.5081 - val_acc: 0.8436\n",
            "Epoch 16/20\n",
            "313/313 [==============================] - 2s 5ms/step - loss: 0.0031 - acc: 1.0000 - val_loss: 0.5232 - val_acc: 0.8434\n",
            "Epoch 17/20\n",
            "313/313 [==============================] - 1s 4ms/step - loss: 0.0024 - acc: 1.0000 - val_loss: 0.5367 - val_acc: 0.8426\n",
            "Epoch 18/20\n",
            "313/313 [==============================] - 2s 7ms/step - loss: 0.0019 - acc: 1.0000 - val_loss: 0.5499 - val_acc: 0.8428\n",
            "Epoch 19/20\n",
            "313/313 [==============================] - 2s 5ms/step - loss: 0.0016 - acc: 1.0000 - val_loss: 0.5634 - val_acc: 0.8436\n",
            "Epoch 20/20\n",
            "313/313 [==============================] - 2s 8ms/step - loss: 0.0013 - acc: 1.0000 - val_loss: 0.5765 - val_acc: 0.8436\n"
          ]
        },
        {
          "output_type": "execute_result",
          "data": {
            "text/plain": [
              "<keras.callbacks.History at 0x7fb5b990c8e0>"
            ]
          },
          "metadata": {},
          "execution_count": 11
        }
      ],
      "source": [
        "model.fit(\n",
        "    x_train, y_train, epochs=20, batch_size=64,\n",
        "    validation_split=0.2)"
      ]
    },
    {
      "cell_type": "markdown",
      "metadata": {
        "id": "8SeI83XIA63p"
      },
      "source": [
        "**3.1 What's the current accuracy for this model?**"
      ]
    },
    {
      "cell_type": "code",
      "execution_count": 12,
      "metadata": {
        "colab": {
          "base_uri": "https://localhost:8080/"
        },
        "id": "EM3rn181t43k",
        "outputId": "3d5ab8ee-de8a-4ca8-b51e-dd6dc8e4bc41"
      },
      "outputs": [
        {
          "output_type": "stream",
          "name": "stdout",
          "text": [
            "782/782 [==============================] - 2s 3ms/step - loss: 0.5875 - acc: 0.8372\n"
          ]
        },
        {
          "output_type": "execute_result",
          "data": {
            "text/plain": [
              "0.8371999859809875"
            ]
          },
          "metadata": {},
          "execution_count": 12
        }
      ],
      "source": [
        "eval_result = model.evaluate(x_test, y_test)\n",
        "eval_result[1]"
      ]
    },
    {
      "cell_type": "markdown",
      "metadata": {
        "id": "Qwiyfn7Qt43k"
      },
      "source": [
        "\n",
        "# **3.2 Try to add a preloaded embedded from Glove from this model**"
      ]
    },
    {
      "cell_type": "markdown",
      "metadata": {
        "id": "mftSWpUdBclN"
      },
      "source": [
        "**Question: why does this model may help you get better accuracy?**\n",
        "The accuracy of this model is expected to improve as the embeddings used in it have already been pre-trained to capture the relationships between words. Therefore, the final layer of the model (which is trainable) can take advantage of these relationships during training for better performance in predicting sentiment in the IMDB dataset."
      ]
    },
    {
      "cell_type": "code",
      "source": [
        "import os\n",
        "import multiprocessing"
      ],
      "metadata": {
        "id": "QFzlQ3ooV87n"
      },
      "execution_count": 77,
      "outputs": []
    },
    {
      "cell_type": "code",
      "source": [
        "def analyze_imdb_sentiment2(max_sequence_len=100, embedded_size=16, weights=None):\n",
        "    MAX_FEATURES = 10000\n",
        "    \n",
        "    if weights is None:\n",
        "        weights = get_embedding_weight(embedded_size, MAX_FEATURES)\n",
        "    \n",
        "    (x_train, y_train), (x_test, y_test) = imdb.load_data(num_words=MAX_FEATURES)\n",
        "    \n",
        "    x_train = pad_sequences(x_train, maxlen=max_sequence_len)\n",
        "    x_test = pad_sequences(x_test, maxlen=max_sequence_len)\n",
        "\n",
        "    \n",
        "    xi = Input(max_sequence_len)\n",
        "\n",
        "    # Embedding input is (training_size, max_sequence_len)\n",
        "    # Embedding output is (training_size, max_sequence_len, embedded_size)\n",
        "\n",
        "    x = Embedding(MAX_FEATURES, embedded_size, input_length=max_sequence_len,\n",
        "              weights=[weights], trainable=True)(xi)\n",
        "    x = Conv1D(100, 5, activation='relu')(x)\n",
        "    x = MaxPooling1D(5)(x)\n",
        "    x = Flatten()(x)\n",
        "    x = Dense(1, activation=\"sigmoid\")(x)\n",
        "\n",
        "    model = Model(inputs=xi, outputs=x)\n",
        "\n",
        "    model.compile(optimizer=\"adam\", loss=\"binary_crossentropy\", metrics=[\"acc\"])\n",
        "    model.summary()\n",
        "\n",
        "    history = model.fit(\n",
        "            x_train, y_train, epochs=20, batch_size=32, validation_split=0.2,\n",
        "            workers=(multiprocessing.cpu_count() - 1), use_multiprocessing=True)\n",
        "    \n",
        "    evalutation = model.evaluate(x_test, y_test)\n",
        "    print(evalutation)\n",
        "    return evalutation"
      ],
      "metadata": {
        "id": "krlGTL9_UbwO"
      },
      "execution_count": 78,
      "outputs": []
    },
    {
      "cell_type": "code",
      "source": [
        "def get_embedding_weight(embedded_size, max_features):\n",
        "    MAX_FEATURES = 10000\n",
        "    embeddings_index, embedding_pretrain_size = load_pretrained_embedding_idx(embedded_size)\n",
        "    \n",
        "    assert embedding_pretrain_size >= embedded_size\n",
        "    \n",
        "    return get_embedding_matrix(\n",
        "        imdb.get_word_index(),\n",
        "        embeddings_index,\n",
        "        MAX_FEATURES,\n",
        "        embedded_size)"
      ],
      "metadata": {
        "id": "qu6XNx3mUb0S"
      },
      "execution_count": 79,
      "outputs": []
    },
    {
      "cell_type": "code",
      "source": [
        "def load_pretrained_embedding_idx(dimension):\n",
        "    assert dimension in [50, 100, 200, 300]\n",
        "    CURR_DIR   = os.getcwd()\n",
        "    PRETRAINED = 'glove.6B.%dd.txt' % dimension\n",
        "#     PRETRAINED = 'glove.42B.%dd.txt' % dimension\n",
        "    \n",
        "    embeddings_index = {}\n",
        "    \n",
        "    with open(os.path.join(CURR_DIR, PRETRAINED), \"r\") as fd:\n",
        "        for line in fd:\n",
        "            values = line.split()\n",
        "            word = values[0]\n",
        "            coefs = np.asarray(values[1:], dtype='float32')\n",
        "            embeddings_index[word] = coefs\n",
        "        \n",
        "    return embeddings_index, dimension"
      ],
      "metadata": {
        "id": "-emqWRaNUb5P"
      },
      "execution_count": 80,
      "outputs": []
    },
    {
      "cell_type": "code",
      "source": [
        "def get_embedding_matrix(word_index, embeddings_index, max_features, embedded_size):\n",
        "    embedding_matrix = np.zeros((max_features, embedded_size))\n",
        "    for word, i in word_index.items():\n",
        "        if i >= max_features:\n",
        "            continue\n",
        "        embedding_vector = embeddings_index.get(word)\n",
        "        if embedding_vector is not None:\n",
        "            # words not found in embedding index will be all-zeros.\n",
        "            embedding_matrix[i] = embedding_vector\n",
        "            \n",
        "    return embedding_matrix"
      ],
      "metadata": {
        "id": "5gdHESl8Uk02"
      },
      "execution_count": 81,
      "outputs": []
    },
    {
      "cell_type": "code",
      "source": [
        "import os\n"
      ],
      "metadata": {
        "id": "7CNqbVs9Vnee"
      },
      "execution_count": 63,
      "outputs": []
    },
    {
      "cell_type": "code",
      "source": [
        "analyze_imdb_sentiment2(embedded_size=200)"
      ],
      "metadata": {
        "colab": {
          "base_uri": "https://localhost:8080/"
        },
        "id": "NONAgFpiUk7Y",
        "outputId": "589b8514-34e9-46dd-b2f1-c0d9594d41b9"
      },
      "execution_count": 82,
      "outputs": [
        {
          "output_type": "stream",
          "name": "stdout",
          "text": [
            "Model: \"model_13\"\n",
            "_________________________________________________________________\n",
            " Layer (type)                Output Shape              Param #   \n",
            "=================================================================\n",
            " input_14 (InputLayer)       [(None, 100)]             0         \n",
            "                                                                 \n",
            " embedding_13 (Embedding)    (None, 100, 200)          2000000   \n",
            "                                                                 \n",
            " conv1d_1 (Conv1D)           (None, 96, 100)           100100    \n",
            "                                                                 \n",
            " max_pooling1d_1 (MaxPooling  (None, 19, 100)          0         \n",
            " 1D)                                                             \n",
            "                                                                 \n",
            " flatten_4 (Flatten)         (None, 1900)              0         \n",
            "                                                                 \n",
            " dense_13 (Dense)            (None, 1)                 1901      \n",
            "                                                                 \n",
            "=================================================================\n",
            "Total params: 2,102,001\n",
            "Trainable params: 2,102,001\n",
            "Non-trainable params: 0\n",
            "_________________________________________________________________\n",
            "Epoch 1/20\n",
            "625/625 [==============================] - 32s 41ms/step - loss: 0.6166 - acc: 0.6430 - val_loss: 0.5259 - val_acc: 0.7392\n",
            "Epoch 2/20\n",
            "625/625 [==============================] - 7s 11ms/step - loss: 0.3099 - acc: 0.8672 - val_loss: 0.3731 - val_acc: 0.8344\n",
            "Epoch 3/20\n",
            "625/625 [==============================] - 6s 9ms/step - loss: 0.1419 - acc: 0.9523 - val_loss: 0.4333 - val_acc: 0.8242\n",
            "Epoch 4/20\n",
            "625/625 [==============================] - 5s 7ms/step - loss: 0.0399 - acc: 0.9923 - val_loss: 0.4695 - val_acc: 0.8372\n",
            "Epoch 5/20\n",
            "625/625 [==============================] - 4s 6ms/step - loss: 0.0085 - acc: 0.9995 - val_loss: 0.5422 - val_acc: 0.8354\n",
            "Epoch 6/20\n",
            "625/625 [==============================] - 3s 5ms/step - loss: 0.0024 - acc: 1.0000 - val_loss: 0.5969 - val_acc: 0.8350\n",
            "Epoch 7/20\n",
            "625/625 [==============================] - 5s 7ms/step - loss: 0.0011 - acc: 1.0000 - val_loss: 0.6337 - val_acc: 0.8366\n",
            "Epoch 8/20\n",
            "625/625 [==============================] - 3s 5ms/step - loss: 6.9104e-04 - acc: 1.0000 - val_loss: 0.6503 - val_acc: 0.8360\n",
            "Epoch 9/20\n",
            "625/625 [==============================] - 3s 5ms/step - loss: 4.4818e-04 - acc: 1.0000 - val_loss: 0.6874 - val_acc: 0.8368\n",
            "Epoch 10/20\n",
            "625/625 [==============================] - 3s 5ms/step - loss: 3.0093e-04 - acc: 1.0000 - val_loss: 0.7110 - val_acc: 0.8368\n",
            "Epoch 11/20\n",
            "625/625 [==============================] - 4s 6ms/step - loss: 2.0180e-04 - acc: 1.0000 - val_loss: 0.7350 - val_acc: 0.8364\n",
            "Epoch 12/20\n",
            "625/625 [==============================] - 5s 8ms/step - loss: 1.3782e-04 - acc: 1.0000 - val_loss: 0.7628 - val_acc: 0.8362\n",
            "Epoch 13/20\n",
            "625/625 [==============================] - 4s 6ms/step - loss: 9.5888e-05 - acc: 1.0000 - val_loss: 0.7910 - val_acc: 0.8366\n",
            "Epoch 14/20\n",
            "625/625 [==============================] - 3s 5ms/step - loss: 6.5817e-05 - acc: 1.0000 - val_loss: 0.8185 - val_acc: 0.8372\n",
            "Epoch 15/20\n",
            "625/625 [==============================] - 3s 5ms/step - loss: 4.5965e-05 - acc: 1.0000 - val_loss: 0.8431 - val_acc: 0.8358\n",
            "Epoch 16/20\n",
            "625/625 [==============================] - 4s 6ms/step - loss: 3.1884e-05 - acc: 1.0000 - val_loss: 0.8702 - val_acc: 0.8360\n",
            "Epoch 17/20\n",
            "625/625 [==============================] - 4s 6ms/step - loss: 2.2139e-05 - acc: 1.0000 - val_loss: 0.9002 - val_acc: 0.8358\n",
            "Epoch 18/20\n",
            "625/625 [==============================] - 4s 6ms/step - loss: 1.5681e-05 - acc: 1.0000 - val_loss: 0.9253 - val_acc: 0.8356\n",
            "Epoch 19/20\n",
            "625/625 [==============================] - 3s 5ms/step - loss: 1.0900e-05 - acc: 1.0000 - val_loss: 0.9528 - val_acc: 0.8360\n",
            "Epoch 20/20\n",
            "625/625 [==============================] - 4s 6ms/step - loss: 7.6612e-06 - acc: 1.0000 - val_loss: 0.9770 - val_acc: 0.8362\n",
            "782/782 [==============================] - 2s 3ms/step - loss: 1.0131 - acc: 0.8348\n",
            "[1.013079047203064, 0.8348000049591064]\n"
          ]
        },
        {
          "output_type": "execute_result",
          "data": {
            "text/plain": [
              "[1.013079047203064, 0.8348000049591064]"
            ]
          },
          "metadata": {},
          "execution_count": 82
        }
      ]
    },
    {
      "cell_type": "markdown",
      "source": [
        "### **TRYING LSTM**"
      ],
      "metadata": {
        "id": "9Ry2txrpUvOy"
      }
    },
    {
      "cell_type": "code",
      "source": [
        "import multiprocessing\n",
        "from tensorflow.keras.models import Model\n",
        "from tensorflow.keras.layers import *\n",
        "from tensorflow.keras.optimizers import Adam\n",
        "from tensorflow.keras import preprocessing\n",
        "from tensorflow.keras.datasets import imdb"
      ],
      "metadata": {
        "id": "B5U0bcPGUk99"
      },
      "execution_count": 83,
      "outputs": []
    },
    {
      "cell_type": "code",
      "source": [
        "MAX_FEATURES = 10000\n",
        "MAX_SEQUENCE_LEN = 100\n",
        "EMBEDDED_SIZE = 16"
      ],
      "metadata": {
        "id": "P63pT88PUlAl"
      },
      "execution_count": 85,
      "outputs": []
    },
    {
      "cell_type": "code",
      "source": [
        "# Load imdb dataset and print a few samples to check.\n",
        "#\n",
        "# IMDB: sentence (x) -> positive/negative (y)\n",
        "#\n",
        "# “The food was really good” \t\t\t\t -> pos\n",
        "# “The chicken crossed the road because it was uncooked” -> neg\n",
        "\n",
        "(x_train, y_train), (x_test, y_test) = imdb.load_data(num_words=MAX_FEATURES)\n",
        "\n",
        "# x_train has a size (training_size, ). Because the sentences have variable size,\n",
        "# we cannot represent this in matrix format.\n",
        "\n",
        "print(x_train.shape)\n",
        "\n",
        "\n",
        "x_train = preprocessing.sequence.pad_sequences(x_train, maxlen=MAX_SEQUENCE_LEN)\n",
        "x_test = preprocessing.sequence.pad_sequences(x_test, maxlen=MAX_SEQUENCE_LEN)\n",
        "\n",
        "#print(x_train.shape)\n",
        "\n",
        "\n",
        "\n",
        "print(x_train[0])\n",
        "\n",
        "# Input shape should be now (training_size, MAX_SEQUENCE_LEN)"
      ],
      "metadata": {
        "colab": {
          "base_uri": "https://localhost:8080/"
        },
        "id": "InRltcb4UlC8",
        "outputId": "ecc08c2d-0348-4926-e86b-6d85e4318897"
      },
      "execution_count": 86,
      "outputs": [
        {
          "output_type": "stream",
          "name": "stdout",
          "text": [
            "(25000,)\n",
            "(25000, 100)\n",
            "[1415   33    6   22   12  215   28   77   52    5   14  407   16   82\n",
            "    2    8    4  107  117 5952   15  256    4    2    7 3766    5  723\n",
            "   36   71   43  530  476   26  400  317   46    7    4    2 1029   13\n",
            "  104   88    4  381   15  297   98   32 2071   56   26  141    6  194\n",
            " 7486   18    4  226   22   21  134  476   26  480    5  144   30 5535\n",
            "   18   51   36   28  224   92   25  104    4  226   65   16   38 1334\n",
            "   88   12   16  283    5   16 4472  113  103   32   15   16 5345   19\n",
            "  178   32]\n"
          ]
        }
      ]
    },
    {
      "cell_type": "code",
      "source": [
        "def get_embedding_weight(embedded_size, max_features):\n",
        "    embeddings_index, embedding_pretrain_size = load_pretrained_embedding_idx(embedded_size)\n",
        "    \n",
        "    assert embedding_pretrain_size >= embedded_size\n",
        "    \n",
        "    return get_embedding_matrix(\n",
        "        imdb.get_word_index(),\n",
        "        embeddings_index,\n",
        "        max_features,\n",
        "        embedded_size)"
      ],
      "metadata": {
        "id": "L2zJ-HdMU2Jg"
      },
      "execution_count": 87,
      "outputs": []
    },
    {
      "cell_type": "code",
      "source": [
        "def load_pretrained_embedding_idx(dimension):\n",
        "    assert dimension in [50, 100, 200, 300]\n",
        "    CURR_DIR   = os.getcwd()\n",
        "    PRETRAINED = 'glove.6B.%dd.txt' % dimension\n",
        "\n",
        "    \n",
        "    embeddings_index = {}\n",
        "    \n",
        "    with open(os.path.join(CURR_DIR, PRETRAINED), \"r\") as fd:\n",
        "        for line in fd:\n",
        "            values = line.split()\n",
        "            word = values[0]\n",
        "            coefs = np.asarray(values[1:], dtype='float32')\n",
        "            embeddings_index[word] = coefs\n",
        "        \n",
        "    return embeddings_index, dimension"
      ],
      "metadata": {
        "id": "ihXr_wxTU4Mu"
      },
      "execution_count": 88,
      "outputs": []
    },
    {
      "cell_type": "code",
      "source": [
        "def get_embedding_matrix(word_index, embeddings_index, max_features, embedded_size):\n",
        "    embedding_matrix = np.zeros((max_features, embedded_size))\n",
        "    for word, i in word_index.items():\n",
        "        if i >= max_features:\n",
        "            continue\n",
        "        embedding_vector = embeddings_index.get(word)\n",
        "        if embedding_vector is not None:\n",
        "            embedding_matrix[i] = embedding_vector\n",
        "            \n",
        "    return embedding_matrix"
      ],
      "metadata": {
        "id": "_YNPXBEjU59_"
      },
      "execution_count": 89,
      "outputs": []
    },
    {
      "cell_type": "code",
      "source": [
        "def analyze_imdb_sentiment_lstm(\n",
        "    max_sequence_len=100,\n",
        "    embedded_size=16,\n",
        "    weights=None,\n",
        "    use_weight=False):\n",
        "    MAX_FEATURES = 10000\n",
        "    \n",
        "    if use_weight and weights is None:\n",
        "        weights = get_embedding_weight(embedded_size, MAX_FEATURES)\n",
        "    \n",
        "    (x_train, y_train), (x_test, y_test) = imdb.load_data(num_words=MAX_FEATURES)\n",
        "    \n",
        "    x_train = preprocessing.sequence.pad_sequences(x_train, maxlen=max_sequence_len)\n",
        "    x_test = preprocessing.sequence.pad_sequences(x_test, maxlen=max_sequence_len)\n",
        "\n",
        "    \n",
        "    xi = Input(max_sequence_len)\n",
        "\n",
        "    if use_weight:\n",
        "        x = Embedding(MAX_FEATURES, embedded_size, input_length=max_sequence_len,\n",
        "              weights=[weights])(xi)\n",
        "    else:\n",
        "        x = Embedding(MAX_FEATURES, embedded_size, input_length=max_sequence_len)(xi)\n",
        "\n",
        "    x = Conv1D(300, 5, activation='relu')(x)\n",
        "    x = MaxPooling1D(5)(x)\n",
        "\n",
        "    x = SpatialDropout1D(0.4)(x)\n",
        "\n",
        "    x = LSTM(280, return_sequences=True, dropout=0.2, recurrent_dropout=0.2)(x)\n",
        "    x = LSTM(160, return_sequences=True, dropout=0.2, recurrent_dropout=0.2)(x)\n",
        "    x = LSTM(50, dropout=0.2, recurrent_dropout=0.2)(x)\n",
        "\n",
        "    x = Dense(1, activation=\"sigmoid\")(x)\n",
        "\n",
        "    model = Model(inputs=xi, outputs=x)\n",
        "\n",
        "    optimizer = Adam(learning_rate=0.0008, beta_1=0.9, beta_2=0.999, amsgrad=False)\n",
        "    model.compile(optimizer=optimizer, loss=\"binary_crossentropy\", metrics=[\"acc\"])\n",
        "    model.summary()\n",
        "\n",
        "    history = model.fit(\n",
        "            x_train, y_train, epochs=5, batch_size=16, validation_split=0.2,\n",
        "            workers=(multiprocessing.cpu_count() - 1), use_multiprocessing=True)\n",
        "\n",
        "    evalutation = model.evaluate(x_test, y_test,\n",
        "                                 workers=(multiprocessing.cpu_count() - 1),\n",
        "                                 use_multiprocessing=True)\n",
        "    print(evalutation)\n",
        "    return evalutation"
      ],
      "metadata": {
        "id": "XbiMK5UiVDgZ"
      },
      "execution_count": 94,
      "outputs": []
    },
    {
      "cell_type": "code",
      "source": [
        "def train_combination():\n",
        "    MAX_FEATURES = 10000\n",
        "\n",
        "    result = []\n",
        "    for embedded_size in [16, 32, 50, 100, 200, 300]:\n",
        "        for max_sequence_len in [50, 100, 200, 300]:\n",
        "            _, accuracy = analyze_imdb_sentiment_lstm(max_sequence_len, embedded_size)\n",
        "            result.append((embedded_size, max_sequence_len, accuracy))\n",
        "            \n",
        "    return result"
      ],
      "metadata": {
        "id": "RIvC4r7CVDi_"
      },
      "execution_count": 95,
      "outputs": []
    },
    {
      "cell_type": "code",
      "source": [
        "res = train_combination()\n",
        "\n"
      ],
      "metadata": {
        "colab": {
          "base_uri": "https://localhost:8080/"
        },
        "id": "BaN6n6btVDlF",
        "outputId": "c50cf49d-7e00-4664-f836-eef0456eff04"
      },
      "execution_count": null,
      "outputs": [
        {
          "output_type": "stream",
          "name": "stderr",
          "text": [
            "WARNING:tensorflow:Layer lstm_12 will not use cuDNN kernels since it doesn't meet the criteria. It will use a generic GPU kernel as fallback when running on GPU.\n",
            "WARNING:tensorflow:Layer lstm_13 will not use cuDNN kernels since it doesn't meet the criteria. It will use a generic GPU kernel as fallback when running on GPU.\n",
            "WARNING:tensorflow:Layer lstm_14 will not use cuDNN kernels since it doesn't meet the criteria. It will use a generic GPU kernel as fallback when running on GPU.\n"
          ]
        },
        {
          "output_type": "stream",
          "name": "stdout",
          "text": [
            "Model: \"model_15\"\n",
            "_________________________________________________________________\n",
            " Layer (type)                Output Shape              Param #   \n",
            "=================================================================\n",
            " input_16 (InputLayer)       [(None, 50)]              0         \n",
            "                                                                 \n",
            " embedding_15 (Embedding)    (None, 50, 16)            160000    \n",
            "                                                                 \n",
            " conv1d_3 (Conv1D)           (None, 46, 300)           24300     \n",
            "                                                                 \n",
            " max_pooling1d_3 (MaxPooling  (None, 9, 300)           0         \n",
            " 1D)                                                             \n",
            "                                                                 \n",
            " spatial_dropout1d_1 (Spatia  (None, 9, 300)           0         \n",
            " lDropout1D)                                                     \n",
            "                                                                 \n",
            " lstm_12 (LSTM)              (None, 9, 280)            650720    \n",
            "                                                                 \n",
            " lstm_13 (LSTM)              (None, 9, 160)            282240    \n",
            "                                                                 \n",
            " lstm_14 (LSTM)              (None, 50)                42200     \n",
            "                                                                 \n",
            " dense_15 (Dense)            (None, 1)                 51        \n",
            "                                                                 \n",
            "=================================================================\n",
            "Total params: 1,159,511\n",
            "Trainable params: 1,159,511\n",
            "Non-trainable params: 0\n",
            "_________________________________________________________________\n",
            "Epoch 1/5\n",
            "1250/1250 [==============================] - 102s 77ms/step - loss: 0.5110 - acc: 0.7319 - val_loss: 0.4177 - val_acc: 0.8076\n",
            "Epoch 2/5\n",
            "1250/1250 [==============================] - 82s 66ms/step - loss: 0.3396 - acc: 0.8533 - val_loss: 0.4424 - val_acc: 0.7976\n",
            "Epoch 3/5\n",
            "1250/1250 [==============================] - 81s 65ms/step - loss: 0.2519 - acc: 0.8984 - val_loss: 0.4580 - val_acc: 0.8054\n",
            "Epoch 4/5\n",
            "1250/1250 [==============================] - 82s 66ms/step - loss: 0.1743 - acc: 0.9352 - val_loss: 0.5504 - val_acc: 0.7906\n",
            "Epoch 5/5\n",
            "1250/1250 [==============================] - 82s 65ms/step - loss: 0.1147 - acc: 0.9595 - val_loss: 0.7564 - val_acc: 0.7858\n",
            "782/782 [==============================] - 10s 13ms/step - loss: 0.7718 - acc: 0.7806\n",
            "[0.7718424797058105, 0.7805600166320801]\n"
          ]
        },
        {
          "output_type": "stream",
          "name": "stderr",
          "text": [
            "WARNING:tensorflow:Layer lstm_15 will not use cuDNN kernels since it doesn't meet the criteria. It will use a generic GPU kernel as fallback when running on GPU.\n",
            "WARNING:tensorflow:Layer lstm_16 will not use cuDNN kernels since it doesn't meet the criteria. It will use a generic GPU kernel as fallback when running on GPU.\n",
            "WARNING:tensorflow:Layer lstm_17 will not use cuDNN kernels since it doesn't meet the criteria. It will use a generic GPU kernel as fallback when running on GPU.\n"
          ]
        },
        {
          "output_type": "stream",
          "name": "stdout",
          "text": [
            "Model: \"model_16\"\n",
            "_________________________________________________________________\n",
            " Layer (type)                Output Shape              Param #   \n",
            "=================================================================\n",
            " input_17 (InputLayer)       [(None, 100)]             0         \n",
            "                                                                 \n",
            " embedding_16 (Embedding)    (None, 100, 16)           160000    \n",
            "                                                                 \n",
            " conv1d_4 (Conv1D)           (None, 96, 300)           24300     \n",
            "                                                                 \n",
            " max_pooling1d_4 (MaxPooling  (None, 19, 300)          0         \n",
            " 1D)                                                             \n",
            "                                                                 \n",
            " spatial_dropout1d_2 (Spatia  (None, 19, 300)          0         \n",
            " lDropout1D)                                                     \n",
            "                                                                 \n",
            " lstm_15 (LSTM)              (None, 19, 280)           650720    \n",
            "                                                                 \n",
            " lstm_16 (LSTM)              (None, 19, 160)           282240    \n",
            "                                                                 \n",
            " lstm_17 (LSTM)              (None, 50)                42200     \n",
            "                                                                 \n",
            " dense_16 (Dense)            (None, 1)                 51        \n",
            "                                                                 \n",
            "=================================================================\n",
            "Total params: 1,159,511\n",
            "Trainable params: 1,159,511\n",
            "Non-trainable params: 0\n",
            "_________________________________________________________________\n",
            "Epoch 1/5\n",
            "1250/1250 [==============================] - 181s 140ms/step - loss: 0.4537 - acc: 0.7735 - val_loss: 0.3450 - val_acc: 0.8542\n",
            "Epoch 2/5\n",
            "1250/1250 [==============================] - 159s 127ms/step - loss: 0.2666 - acc: 0.8921 - val_loss: 0.3443 - val_acc: 0.8470\n",
            "Epoch 3/5\n",
            "1250/1250 [==============================] - 153s 122ms/step - loss: 0.1800 - acc: 0.9334 - val_loss: 0.3796 - val_acc: 0.8460\n",
            "Epoch 4/5\n",
            "1250/1250 [==============================] - 154s 123ms/step - loss: 0.1200 - acc: 0.9589 - val_loss: 0.4361 - val_acc: 0.8418\n",
            "Epoch 5/5\n",
            "1250/1250 [==============================] - 152s 122ms/step - loss: 0.0815 - acc: 0.9729 - val_loss: 0.5017 - val_acc: 0.8386\n",
            "782/782 [==============================] - 17s 21ms/step - loss: 0.5438 - acc: 0.8308\n",
            "[0.5437604784965515, 0.8307999968528748]\n"
          ]
        },
        {
          "output_type": "stream",
          "name": "stderr",
          "text": [
            "WARNING:tensorflow:Layer lstm_18 will not use cuDNN kernels since it doesn't meet the criteria. It will use a generic GPU kernel as fallback when running on GPU.\n",
            "WARNING:tensorflow:Layer lstm_19 will not use cuDNN kernels since it doesn't meet the criteria. It will use a generic GPU kernel as fallback when running on GPU.\n",
            "WARNING:tensorflow:Layer lstm_20 will not use cuDNN kernels since it doesn't meet the criteria. It will use a generic GPU kernel as fallback when running on GPU.\n"
          ]
        },
        {
          "output_type": "stream",
          "name": "stdout",
          "text": [
            "Model: \"model_17\"\n",
            "_________________________________________________________________\n",
            " Layer (type)                Output Shape              Param #   \n",
            "=================================================================\n",
            " input_18 (InputLayer)       [(None, 200)]             0         \n",
            "                                                                 \n",
            " embedding_17 (Embedding)    (None, 200, 16)           160000    \n",
            "                                                                 \n",
            " conv1d_5 (Conv1D)           (None, 196, 300)          24300     \n",
            "                                                                 \n",
            " max_pooling1d_5 (MaxPooling  (None, 39, 300)          0         \n",
            " 1D)                                                             \n",
            "                                                                 \n",
            " spatial_dropout1d_3 (Spatia  (None, 39, 300)          0         \n",
            " lDropout1D)                                                     \n",
            "                                                                 \n",
            " lstm_18 (LSTM)              (None, 39, 280)           650720    \n",
            "                                                                 \n",
            " lstm_19 (LSTM)              (None, 39, 160)           282240    \n",
            "                                                                 \n",
            " lstm_20 (LSTM)              (None, 50)                42200     \n",
            "                                                                 \n",
            " dense_17 (Dense)            (None, 1)                 51        \n",
            "                                                                 \n",
            "=================================================================\n",
            "Total params: 1,159,511\n",
            "Trainable params: 1,159,511\n",
            "Non-trainable params: 0\n",
            "_________________________________________________________________\n",
            "Epoch 1/5\n",
            "1250/1250 [==============================] - 360s 283ms/step - loss: 0.4132 - acc: 0.7962 - val_loss: 0.2924 - val_acc: 0.8834\n",
            "Epoch 2/5\n",
            "1250/1250 [==============================] - 325s 260ms/step - loss: 0.2250 - acc: 0.9146 - val_loss: 0.2951 - val_acc: 0.8816\n",
            "Epoch 3/5\n",
            "1250/1250 [==============================] - 320s 256ms/step - loss: 0.1562 - acc: 0.9430 - val_loss: 0.3348 - val_acc: 0.8710\n",
            "Epoch 4/5\n",
            "1250/1250 [==============================] - 319s 256ms/step - loss: 0.1059 - acc: 0.9650 - val_loss: 0.3509 - val_acc: 0.8746\n",
            "Epoch 5/5\n",
            "1250/1250 [==============================] - 312s 250ms/step - loss: 0.0736 - acc: 0.9762 - val_loss: 0.4465 - val_acc: 0.8662\n",
            "782/782 [==============================] - 33s 41ms/step - loss: 0.4996 - acc: 0.8518\n",
            "[0.49955809116363525, 0.8517600297927856]\n"
          ]
        },
        {
          "output_type": "stream",
          "name": "stderr",
          "text": [
            "WARNING:tensorflow:Layer lstm_21 will not use cuDNN kernels since it doesn't meet the criteria. It will use a generic GPU kernel as fallback when running on GPU.\n",
            "WARNING:tensorflow:Layer lstm_22 will not use cuDNN kernels since it doesn't meet the criteria. It will use a generic GPU kernel as fallback when running on GPU.\n",
            "WARNING:tensorflow:Layer lstm_23 will not use cuDNN kernels since it doesn't meet the criteria. It will use a generic GPU kernel as fallback when running on GPU.\n"
          ]
        },
        {
          "output_type": "stream",
          "name": "stdout",
          "text": [
            "Model: \"model_18\"\n",
            "_________________________________________________________________\n",
            " Layer (type)                Output Shape              Param #   \n",
            "=================================================================\n",
            " input_19 (InputLayer)       [(None, 300)]             0         \n",
            "                                                                 \n",
            " embedding_18 (Embedding)    (None, 300, 16)           160000    \n",
            "                                                                 \n",
            " conv1d_6 (Conv1D)           (None, 296, 300)          24300     \n",
            "                                                                 \n",
            " max_pooling1d_6 (MaxPooling  (None, 59, 300)          0         \n",
            " 1D)                                                             \n",
            "                                                                 \n",
            " spatial_dropout1d_4 (Spatia  (None, 59, 300)          0         \n",
            " lDropout1D)                                                     \n",
            "                                                                 \n",
            " lstm_21 (LSTM)              (None, 59, 280)           650720    \n",
            "                                                                 \n",
            " lstm_22 (LSTM)              (None, 59, 160)           282240    \n",
            "                                                                 \n",
            " lstm_23 (LSTM)              (None, 50)                42200     \n",
            "                                                                 \n",
            " dense_18 (Dense)            (None, 1)                 51        \n",
            "                                                                 \n",
            "=================================================================\n",
            "Total params: 1,159,511\n",
            "Trainable params: 1,159,511\n",
            "Non-trainable params: 0\n",
            "_________________________________________________________________\n",
            "Epoch 1/5\n",
            "1250/1250 [==============================] - 512s 403ms/step - loss: 0.4109 - acc: 0.7965 - val_loss: 0.2745 - val_acc: 0.8892\n",
            "Epoch 2/5\n",
            "1250/1250 [==============================] - 473s 379ms/step - loss: 0.2230 - acc: 0.9154 - val_loss: 0.2951 - val_acc: 0.8888\n",
            "Epoch 3/5\n",
            "1250/1250 [==============================] - 465s 372ms/step - loss: 0.1546 - acc: 0.9439 - val_loss: 0.3071 - val_acc: 0.8886\n",
            "Epoch 4/5\n",
            "1250/1250 [==============================] - 464s 371ms/step - loss: 0.1068 - acc: 0.9633 - val_loss: 0.3382 - val_acc: 0.8798\n",
            "Epoch 5/5\n",
            "1250/1250 [==============================] - 463s 370ms/step - loss: 0.0742 - acc: 0.9761 - val_loss: 0.4713 - val_acc: 0.8680\n",
            "782/782 [==============================] - 47s 60ms/step - loss: 0.5488 - acc: 0.8492\n",
            "[0.5487669706344604, 0.8492400050163269]\n"
          ]
        },
        {
          "output_type": "stream",
          "name": "stderr",
          "text": [
            "WARNING:tensorflow:Layer lstm_24 will not use cuDNN kernels since it doesn't meet the criteria. It will use a generic GPU kernel as fallback when running on GPU.\n",
            "WARNING:tensorflow:Layer lstm_25 will not use cuDNN kernels since it doesn't meet the criteria. It will use a generic GPU kernel as fallback when running on GPU.\n",
            "WARNING:tensorflow:Layer lstm_26 will not use cuDNN kernels since it doesn't meet the criteria. It will use a generic GPU kernel as fallback when running on GPU.\n"
          ]
        },
        {
          "output_type": "stream",
          "name": "stdout",
          "text": [
            "Model: \"model_19\"\n",
            "_________________________________________________________________\n",
            " Layer (type)                Output Shape              Param #   \n",
            "=================================================================\n",
            " input_20 (InputLayer)       [(None, 50)]              0         \n",
            "                                                                 \n",
            " embedding_19 (Embedding)    (None, 50, 32)            320000    \n",
            "                                                                 \n",
            " conv1d_7 (Conv1D)           (None, 46, 300)           48300     \n",
            "                                                                 \n",
            " max_pooling1d_7 (MaxPooling  (None, 9, 300)           0         \n",
            " 1D)                                                             \n",
            "                                                                 \n",
            " spatial_dropout1d_5 (Spatia  (None, 9, 300)           0         \n",
            " lDropout1D)                                                     \n",
            "                                                                 \n",
            " lstm_24 (LSTM)              (None, 9, 280)            650720    \n",
            "                                                                 \n",
            " lstm_25 (LSTM)              (None, 9, 160)            282240    \n",
            "                                                                 \n",
            " lstm_26 (LSTM)              (None, 50)                42200     \n",
            "                                                                 \n",
            " dense_19 (Dense)            (None, 1)                 51        \n",
            "                                                                 \n",
            "=================================================================\n",
            "Total params: 1,343,511\n",
            "Trainable params: 1,343,511\n",
            "Non-trainable params: 0\n",
            "_________________________________________________________________\n",
            "Epoch 1/5\n",
            "1250/1250 [==============================] - 97s 73ms/step - loss: 0.5000 - acc: 0.7434 - val_loss: 0.4163 - val_acc: 0.8048\n",
            "Epoch 2/5\n",
            "1250/1250 [==============================] - 79s 63ms/step - loss: 0.3293 - acc: 0.8599 - val_loss: 0.4295 - val_acc: 0.8054\n",
            "Epoch 3/5\n",
            "1250/1250 [==============================] - 80s 64ms/step - loss: 0.2360 - acc: 0.9082 - val_loss: 0.4924 - val_acc: 0.8016\n",
            "Epoch 4/5\n",
            "1250/1250 [==============================] - 80s 64ms/step - loss: 0.1489 - acc: 0.9459 - val_loss: 0.5726 - val_acc: 0.7950\n",
            "Epoch 5/5\n",
            "1250/1250 [==============================] - 80s 64ms/step - loss: 0.0898 - acc: 0.9690 - val_loss: 0.6933 - val_acc: 0.7878\n",
            "782/782 [==============================] - 10s 12ms/step - loss: 0.7082 - acc: 0.7807\n",
            "[0.7082458734512329, 0.7807199954986572]\n"
          ]
        },
        {
          "output_type": "stream",
          "name": "stderr",
          "text": [
            "WARNING:tensorflow:Layer lstm_27 will not use cuDNN kernels since it doesn't meet the criteria. It will use a generic GPU kernel as fallback when running on GPU.\n",
            "WARNING:tensorflow:Layer lstm_28 will not use cuDNN kernels since it doesn't meet the criteria. It will use a generic GPU kernel as fallback when running on GPU.\n",
            "WARNING:tensorflow:Layer lstm_29 will not use cuDNN kernels since it doesn't meet the criteria. It will use a generic GPU kernel as fallback when running on GPU.\n"
          ]
        },
        {
          "output_type": "stream",
          "name": "stdout",
          "text": [
            "Model: \"model_20\"\n",
            "_________________________________________________________________\n",
            " Layer (type)                Output Shape              Param #   \n",
            "=================================================================\n",
            " input_21 (InputLayer)       [(None, 100)]             0         \n",
            "                                                                 \n",
            " embedding_20 (Embedding)    (None, 100, 32)           320000    \n",
            "                                                                 \n",
            " conv1d_8 (Conv1D)           (None, 96, 300)           48300     \n",
            "                                                                 \n",
            " max_pooling1d_8 (MaxPooling  (None, 19, 300)          0         \n",
            " 1D)                                                             \n",
            "                                                                 \n",
            " spatial_dropout1d_6 (Spatia  (None, 19, 300)          0         \n",
            " lDropout1D)                                                     \n",
            "                                                                 \n",
            " lstm_27 (LSTM)              (None, 19, 280)           650720    \n",
            "                                                                 \n",
            " lstm_28 (LSTM)              (None, 19, 160)           282240    \n",
            "                                                                 \n",
            " lstm_29 (LSTM)              (None, 50)                42200     \n",
            "                                                                 \n",
            " dense_20 (Dense)            (None, 1)                 51        \n",
            "                                                                 \n",
            "=================================================================\n",
            "Total params: 1,343,511\n",
            "Trainable params: 1,343,511\n",
            "Non-trainable params: 0\n",
            "_________________________________________________________________\n",
            "Epoch 1/5\n",
            "1250/1250 [==============================] - 179s 138ms/step - loss: 0.4398 - acc: 0.7850 - val_loss: 0.3358 - val_acc: 0.8520\n",
            "Epoch 2/5\n",
            "1250/1250 [==============================] - 153s 123ms/step - loss: 0.2667 - acc: 0.8938 - val_loss: 0.3453 - val_acc: 0.8504\n",
            "Epoch 3/5\n",
            "1250/1250 [==============================] - 155s 124ms/step - loss: 0.1812 - acc: 0.9322 - val_loss: 0.3813 - val_acc: 0.8492\n",
            "Epoch 4/5\n",
            "1250/1250 [==============================] - 157s 125ms/step - loss: 0.1129 - acc: 0.9617 - val_loss: 0.4188 - val_acc: 0.8422\n",
            "Epoch 5/5\n",
            "1250/1250 [==============================] - 158s 127ms/step - loss: 0.0750 - acc: 0.9760 - val_loss: 0.6114 - val_acc: 0.8390\n",
            "782/782 [==============================] - 17s 22ms/step - loss: 0.6606 - acc: 0.8224\n",
            "[0.6606188416481018, 0.8223599791526794]\n"
          ]
        },
        {
          "output_type": "stream",
          "name": "stderr",
          "text": [
            "WARNING:tensorflow:Layer lstm_30 will not use cuDNN kernels since it doesn't meet the criteria. It will use a generic GPU kernel as fallback when running on GPU.\n",
            "WARNING:tensorflow:Layer lstm_31 will not use cuDNN kernels since it doesn't meet the criteria. It will use a generic GPU kernel as fallback when running on GPU.\n",
            "WARNING:tensorflow:Layer lstm_32 will not use cuDNN kernels since it doesn't meet the criteria. It will use a generic GPU kernel as fallback when running on GPU.\n"
          ]
        },
        {
          "output_type": "stream",
          "name": "stdout",
          "text": [
            "Model: \"model_21\"\n",
            "_________________________________________________________________\n",
            " Layer (type)                Output Shape              Param #   \n",
            "=================================================================\n",
            " input_22 (InputLayer)       [(None, 200)]             0         \n",
            "                                                                 \n",
            " embedding_21 (Embedding)    (None, 200, 32)           320000    \n",
            "                                                                 \n",
            " conv1d_9 (Conv1D)           (None, 196, 300)          48300     \n",
            "                                                                 \n",
            " max_pooling1d_9 (MaxPooling  (None, 39, 300)          0         \n",
            " 1D)                                                             \n",
            "                                                                 \n",
            " spatial_dropout1d_7 (Spatia  (None, 39, 300)          0         \n",
            " lDropout1D)                                                     \n",
            "                                                                 \n",
            " lstm_30 (LSTM)              (None, 39, 280)           650720    \n",
            "                                                                 \n",
            " lstm_31 (LSTM)              (None, 39, 160)           282240    \n",
            "                                                                 \n",
            " lstm_32 (LSTM)              (None, 50)                42200     \n",
            "                                                                 \n",
            " dense_21 (Dense)            (None, 1)                 51        \n",
            "                                                                 \n",
            "=================================================================\n",
            "Total params: 1,343,511\n",
            "Trainable params: 1,343,511\n",
            "Non-trainable params: 0\n",
            "_________________________________________________________________\n",
            "Epoch 1/5\n",
            "1250/1250 [==============================] - 368s 289ms/step - loss: 0.4109 - acc: 0.8034 - val_loss: 0.2847 - val_acc: 0.8842\n",
            "Epoch 2/5\n",
            "1250/1250 [==============================] - 316s 253ms/step - loss: 0.2208 - acc: 0.9155 - val_loss: 0.2892 - val_acc: 0.8850\n",
            "Epoch 3/5\n",
            "1250/1250 [==============================] - 314s 251ms/step - loss: 0.1487 - acc: 0.9451 - val_loss: 0.3173 - val_acc: 0.8782\n",
            "Epoch 4/5\n",
            "1250/1250 [==============================] - 322s 258ms/step - loss: 0.0954 - acc: 0.9681 - val_loss: 0.3720 - val_acc: 0.8726\n",
            "Epoch 5/5\n",
            "1250/1250 [==============================] - 320s 256ms/step - loss: 0.0685 - acc: 0.9782 - val_loss: 0.4577 - val_acc: 0.8688\n",
            "782/782 [==============================] - 33s 41ms/step - loss: 0.5136 - acc: 0.8558\n",
            "[0.5135509967803955, 0.8558400273323059]\n"
          ]
        },
        {
          "output_type": "stream",
          "name": "stderr",
          "text": [
            "WARNING:tensorflow:Layer lstm_33 will not use cuDNN kernels since it doesn't meet the criteria. It will use a generic GPU kernel as fallback when running on GPU.\n",
            "WARNING:tensorflow:Layer lstm_34 will not use cuDNN kernels since it doesn't meet the criteria. It will use a generic GPU kernel as fallback when running on GPU.\n",
            "WARNING:tensorflow:Layer lstm_35 will not use cuDNN kernels since it doesn't meet the criteria. It will use a generic GPU kernel as fallback when running on GPU.\n"
          ]
        },
        {
          "output_type": "stream",
          "name": "stdout",
          "text": [
            "Model: \"model_22\"\n",
            "_________________________________________________________________\n",
            " Layer (type)                Output Shape              Param #   \n",
            "=================================================================\n",
            " input_23 (InputLayer)       [(None, 300)]             0         \n",
            "                                                                 \n",
            " embedding_22 (Embedding)    (None, 300, 32)           320000    \n",
            "                                                                 \n",
            " conv1d_10 (Conv1D)          (None, 296, 300)          48300     \n",
            "                                                                 \n",
            " max_pooling1d_10 (MaxPoolin  (None, 59, 300)          0         \n",
            " g1D)                                                            \n",
            "                                                                 \n",
            " spatial_dropout1d_8 (Spatia  (None, 59, 300)          0         \n",
            " lDropout1D)                                                     \n",
            "                                                                 \n",
            " lstm_33 (LSTM)              (None, 59, 280)           650720    \n",
            "                                                                 \n",
            " lstm_34 (LSTM)              (None, 59, 160)           282240    \n",
            "                                                                 \n",
            " lstm_35 (LSTM)              (None, 50)                42200     \n",
            "                                                                 \n",
            " dense_22 (Dense)            (None, 1)                 51        \n",
            "                                                                 \n",
            "=================================================================\n",
            "Total params: 1,343,511\n",
            "Trainable params: 1,343,511\n",
            "Non-trainable params: 0\n",
            "_________________________________________________________________\n",
            "Epoch 1/5\n",
            "1250/1250 [==============================] - 512s 404ms/step - loss: 0.4086 - acc: 0.8076 - val_loss: 0.2908 - val_acc: 0.8788\n",
            "Epoch 2/5\n",
            "1250/1250 [==============================] - 473s 378ms/step - loss: 0.2199 - acc: 0.9166 - val_loss: 0.3109 - val_acc: 0.8826\n",
            "Epoch 3/5\n",
            "1250/1250 [==============================] - 468s 374ms/step - loss: 0.1482 - acc: 0.9459 - val_loss: 0.3278 - val_acc: 0.8750\n",
            "Epoch 4/5\n",
            "1250/1250 [==============================] - 465s 372ms/step - loss: 0.0962 - acc: 0.9664 - val_loss: 0.4160 - val_acc: 0.8786\n",
            "Epoch 5/5\n",
            "1250/1250 [==============================] - 463s 370ms/step - loss: 0.0613 - acc: 0.9800 - val_loss: 0.4304 - val_acc: 0.8712\n",
            "782/782 [==============================] - 48s 62ms/step - loss: 0.4782 - acc: 0.8582\n",
            "[0.47815555334091187, 0.8582000136375427]\n"
          ]
        },
        {
          "output_type": "stream",
          "name": "stderr",
          "text": [
            "WARNING:tensorflow:Layer lstm_36 will not use cuDNN kernels since it doesn't meet the criteria. It will use a generic GPU kernel as fallback when running on GPU.\n",
            "WARNING:tensorflow:Layer lstm_37 will not use cuDNN kernels since it doesn't meet the criteria. It will use a generic GPU kernel as fallback when running on GPU.\n",
            "WARNING:tensorflow:Layer lstm_38 will not use cuDNN kernels since it doesn't meet the criteria. It will use a generic GPU kernel as fallback when running on GPU.\n"
          ]
        },
        {
          "output_type": "stream",
          "name": "stdout",
          "text": [
            "Model: \"model_23\"\n",
            "_________________________________________________________________\n",
            " Layer (type)                Output Shape              Param #   \n",
            "=================================================================\n",
            " input_24 (InputLayer)       [(None, 50)]              0         \n",
            "                                                                 \n",
            " embedding_23 (Embedding)    (None, 50, 50)            500000    \n",
            "                                                                 \n",
            " conv1d_11 (Conv1D)          (None, 46, 300)           75300     \n",
            "                                                                 \n",
            " max_pooling1d_11 (MaxPoolin  (None, 9, 300)           0         \n",
            " g1D)                                                            \n",
            "                                                                 \n",
            " spatial_dropout1d_9 (Spatia  (None, 9, 300)           0         \n",
            " lDropout1D)                                                     \n",
            "                                                                 \n",
            " lstm_36 (LSTM)              (None, 9, 280)            650720    \n",
            "                                                                 \n",
            " lstm_37 (LSTM)              (None, 9, 160)            282240    \n",
            "                                                                 \n",
            " lstm_38 (LSTM)              (None, 50)                42200     \n",
            "                                                                 \n",
            " dense_23 (Dense)            (None, 1)                 51        \n",
            "                                                                 \n",
            "=================================================================\n",
            "Total params: 1,550,511\n",
            "Trainable params: 1,550,511\n",
            "Non-trainable params: 0\n",
            "_________________________________________________________________\n",
            "Epoch 1/5\n",
            "1250/1250 [==============================] - 100s 75ms/step - loss: 0.5038 - acc: 0.7358 - val_loss: 0.4306 - val_acc: 0.7962\n",
            "Epoch 2/5\n",
            "1250/1250 [==============================] - 82s 66ms/step - loss: 0.3258 - acc: 0.8625 - val_loss: 0.4348 - val_acc: 0.8032\n",
            "Epoch 3/5\n",
            "1250/1250 [==============================] - 82s 66ms/step - loss: 0.2194 - acc: 0.9140 - val_loss: 0.4855 - val_acc: 0.8050\n",
            "Epoch 4/5\n",
            "1250/1250 [==============================] - 83s 66ms/step - loss: 0.1339 - acc: 0.9514 - val_loss: 0.5539 - val_acc: 0.7940\n",
            "Epoch 5/5\n",
            "1250/1250 [==============================] - 82s 65ms/step - loss: 0.0823 - acc: 0.9724 - val_loss: 0.7417 - val_acc: 0.7886\n",
            "782/782 [==============================] - 10s 12ms/step - loss: 0.7508 - acc: 0.7842\n",
            "[0.7508120536804199, 0.7841600179672241]\n"
          ]
        },
        {
          "output_type": "stream",
          "name": "stderr",
          "text": [
            "WARNING:tensorflow:Layer lstm_39 will not use cuDNN kernels since it doesn't meet the criteria. It will use a generic GPU kernel as fallback when running on GPU.\n",
            "WARNING:tensorflow:Layer lstm_40 will not use cuDNN kernels since it doesn't meet the criteria. It will use a generic GPU kernel as fallback when running on GPU.\n",
            "WARNING:tensorflow:Layer lstm_41 will not use cuDNN kernels since it doesn't meet the criteria. It will use a generic GPU kernel as fallback when running on GPU.\n"
          ]
        },
        {
          "output_type": "stream",
          "name": "stdout",
          "text": [
            "Model: \"model_24\"\n",
            "_________________________________________________________________\n",
            " Layer (type)                Output Shape              Param #   \n",
            "=================================================================\n",
            " input_25 (InputLayer)       [(None, 100)]             0         \n",
            "                                                                 \n",
            " embedding_24 (Embedding)    (None, 100, 50)           500000    \n",
            "                                                                 \n",
            " conv1d_12 (Conv1D)          (None, 96, 300)           75300     \n",
            "                                                                 \n",
            " max_pooling1d_12 (MaxPoolin  (None, 19, 300)          0         \n",
            " g1D)                                                            \n",
            "                                                                 \n",
            " spatial_dropout1d_10 (Spati  (None, 19, 300)          0         \n",
            " alDropout1D)                                                    \n",
            "                                                                 \n",
            " lstm_39 (LSTM)              (None, 19, 280)           650720    \n",
            "                                                                 \n",
            " lstm_40 (LSTM)              (None, 19, 160)           282240    \n",
            "                                                                 \n",
            " lstm_41 (LSTM)              (None, 50)                42200     \n",
            "                                                                 \n",
            " dense_24 (Dense)            (None, 1)                 51        \n",
            "                                                                 \n",
            "=================================================================\n",
            "Total params: 1,550,511\n",
            "Trainable params: 1,550,511\n",
            "Non-trainable params: 0\n",
            "_________________________________________________________________\n",
            "Epoch 1/5\n",
            "1250/1250 [==============================] - 184s 142ms/step - loss: 0.4408 - acc: 0.7814 - val_loss: 0.3396 - val_acc: 0.8584\n",
            "Epoch 2/5\n",
            "1250/1250 [==============================] - 156s 125ms/step - loss: 0.2627 - acc: 0.8936 - val_loss: 0.3402 - val_acc: 0.8470\n",
            "Epoch 3/5\n",
            "1250/1250 [==============================] - 159s 127ms/step - loss: 0.1727 - acc: 0.9359 - val_loss: 0.3647 - val_acc: 0.8442\n",
            "Epoch 4/5\n",
            "1250/1250 [==============================] - 160s 128ms/step - loss: 0.1120 - acc: 0.9621 - val_loss: 0.4631 - val_acc: 0.8376\n",
            "Epoch 5/5\n",
            "1250/1250 [==============================] - 155s 124ms/step - loss: 0.0697 - acc: 0.9769 - val_loss: 0.5707 - val_acc: 0.8356\n",
            "782/782 [==============================] - 17s 21ms/step - loss: 0.6154 - acc: 0.8250\n",
            "[0.6153550148010254, 0.824999988079071]\n"
          ]
        },
        {
          "output_type": "stream",
          "name": "stderr",
          "text": [
            "WARNING:tensorflow:Layer lstm_42 will not use cuDNN kernels since it doesn't meet the criteria. It will use a generic GPU kernel as fallback when running on GPU.\n",
            "WARNING:tensorflow:Layer lstm_43 will not use cuDNN kernels since it doesn't meet the criteria. It will use a generic GPU kernel as fallback when running on GPU.\n",
            "WARNING:tensorflow:Layer lstm_44 will not use cuDNN kernels since it doesn't meet the criteria. It will use a generic GPU kernel as fallback when running on GPU.\n"
          ]
        },
        {
          "output_type": "stream",
          "name": "stdout",
          "text": [
            "Model: \"model_25\"\n",
            "_________________________________________________________________\n",
            " Layer (type)                Output Shape              Param #   \n",
            "=================================================================\n",
            " input_26 (InputLayer)       [(None, 200)]             0         \n",
            "                                                                 \n",
            " embedding_25 (Embedding)    (None, 200, 50)           500000    \n",
            "                                                                 \n",
            " conv1d_13 (Conv1D)          (None, 196, 300)          75300     \n",
            "                                                                 \n",
            " max_pooling1d_13 (MaxPoolin  (None, 39, 300)          0         \n",
            " g1D)                                                            \n",
            "                                                                 \n",
            " spatial_dropout1d_11 (Spati  (None, 39, 300)          0         \n",
            " alDropout1D)                                                    \n",
            "                                                                 \n",
            " lstm_42 (LSTM)              (None, 39, 280)           650720    \n",
            "                                                                 \n",
            " lstm_43 (LSTM)              (None, 39, 160)           282240    \n",
            "                                                                 \n",
            " lstm_44 (LSTM)              (None, 50)                42200     \n",
            "                                                                 \n",
            " dense_25 (Dense)            (None, 1)                 51        \n",
            "                                                                 \n",
            "=================================================================\n",
            "Total params: 1,550,511\n",
            "Trainable params: 1,550,511\n",
            "Non-trainable params: 0\n",
            "_________________________________________________________________\n",
            "Epoch 1/5\n",
            "1250/1250 [==============================] - 368s 289ms/step - loss: 0.3974 - acc: 0.8094 - val_loss: 0.3263 - val_acc: 0.8606\n",
            "Epoch 2/5\n",
            "1250/1250 [==============================] - 324s 259ms/step - loss: 0.2188 - acc: 0.9166 - val_loss: 0.3167 - val_acc: 0.8736\n",
            "Epoch 3/5\n",
            "1250/1250 [==============================] - 314s 251ms/step - loss: 0.1458 - acc: 0.9481 - val_loss: 0.3654 - val_acc: 0.8722\n",
            "Epoch 4/5\n",
            "1250/1250 [==============================] - 317s 253ms/step - loss: 0.0954 - acc: 0.9679 - val_loss: 0.3919 - val_acc: 0.8732\n",
            "Epoch 5/5\n",
            "1250/1250 [==============================] - 314s 252ms/step - loss: 0.0617 - acc: 0.9793 - val_loss: 0.4466 - val_acc: 0.8704\n",
            "782/782 [==============================] - 33s 42ms/step - loss: 0.4959 - acc: 0.8530\n",
            "[0.49592506885528564, 0.8529999852180481]\n"
          ]
        },
        {
          "output_type": "stream",
          "name": "stderr",
          "text": [
            "WARNING:tensorflow:Layer lstm_45 will not use cuDNN kernels since it doesn't meet the criteria. It will use a generic GPU kernel as fallback when running on GPU.\n",
            "WARNING:tensorflow:Layer lstm_46 will not use cuDNN kernels since it doesn't meet the criteria. It will use a generic GPU kernel as fallback when running on GPU.\n",
            "WARNING:tensorflow:Layer lstm_47 will not use cuDNN kernels since it doesn't meet the criteria. It will use a generic GPU kernel as fallback when running on GPU.\n"
          ]
        },
        {
          "output_type": "stream",
          "name": "stdout",
          "text": [
            "Model: \"model_26\"\n",
            "_________________________________________________________________\n",
            " Layer (type)                Output Shape              Param #   \n",
            "=================================================================\n",
            " input_27 (InputLayer)       [(None, 300)]             0         \n",
            "                                                                 \n",
            " embedding_26 (Embedding)    (None, 300, 50)           500000    \n",
            "                                                                 \n",
            " conv1d_14 (Conv1D)          (None, 296, 300)          75300     \n",
            "                                                                 \n",
            " max_pooling1d_14 (MaxPoolin  (None, 59, 300)          0         \n",
            " g1D)                                                            \n",
            "                                                                 \n",
            " spatial_dropout1d_12 (Spati  (None, 59, 300)          0         \n",
            " alDropout1D)                                                    \n",
            "                                                                 \n",
            " lstm_45 (LSTM)              (None, 59, 280)           650720    \n",
            "                                                                 \n",
            " lstm_46 (LSTM)              (None, 59, 160)           282240    \n",
            "                                                                 \n",
            " lstm_47 (LSTM)              (None, 50)                42200     \n",
            "                                                                 \n",
            " dense_26 (Dense)            (None, 1)                 51        \n",
            "                                                                 \n",
            "=================================================================\n",
            "Total params: 1,550,511\n",
            "Trainable params: 1,550,511\n",
            "Non-trainable params: 0\n",
            "_________________________________________________________________\n",
            "Epoch 1/5\n",
            "1250/1250 [==============================] - 526s 416ms/step - loss: 0.3975 - acc: 0.8102 - val_loss: 0.3046 - val_acc: 0.8694\n",
            "Epoch 2/5\n",
            "1250/1250 [==============================] - 475s 380ms/step - loss: 0.2152 - acc: 0.9179 - val_loss: 0.2814 - val_acc: 0.8820\n",
            "Epoch 3/5\n",
            "1250/1250 [==============================] - 474s 379ms/step - loss: 0.1354 - acc: 0.9517 - val_loss: 0.3296 - val_acc: 0.8748\n",
            "Epoch 4/5\n",
            "1250/1250 [==============================] - 478s 382ms/step - loss: 0.0914 - acc: 0.9685 - val_loss: 0.3876 - val_acc: 0.8762\n",
            "Epoch 5/5\n",
            "1250/1250 [==============================] - 472s 378ms/step - loss: 0.0578 - acc: 0.9817 - val_loss: 0.3593 - val_acc: 0.8632\n",
            "782/782 [==============================] - 50s 63ms/step - loss: 0.3896 - acc: 0.8583\n",
            "[0.3896366059780121, 0.8582800030708313]\n"
          ]
        },
        {
          "output_type": "stream",
          "name": "stderr",
          "text": [
            "WARNING:tensorflow:Layer lstm_48 will not use cuDNN kernels since it doesn't meet the criteria. It will use a generic GPU kernel as fallback when running on GPU.\n",
            "WARNING:tensorflow:Layer lstm_49 will not use cuDNN kernels since it doesn't meet the criteria. It will use a generic GPU kernel as fallback when running on GPU.\n",
            "WARNING:tensorflow:Layer lstm_50 will not use cuDNN kernels since it doesn't meet the criteria. It will use a generic GPU kernel as fallback when running on GPU.\n"
          ]
        },
        {
          "output_type": "stream",
          "name": "stdout",
          "text": [
            "Model: \"model_27\"\n",
            "_________________________________________________________________\n",
            " Layer (type)                Output Shape              Param #   \n",
            "=================================================================\n",
            " input_28 (InputLayer)       [(None, 50)]              0         \n",
            "                                                                 \n",
            " embedding_27 (Embedding)    (None, 50, 100)           1000000   \n",
            "                                                                 \n",
            " conv1d_15 (Conv1D)          (None, 46, 300)           150300    \n",
            "                                                                 \n",
            " max_pooling1d_15 (MaxPoolin  (None, 9, 300)           0         \n",
            " g1D)                                                            \n",
            "                                                                 \n",
            " spatial_dropout1d_13 (Spati  (None, 9, 300)           0         \n",
            " alDropout1D)                                                    \n",
            "                                                                 \n",
            " lstm_48 (LSTM)              (None, 9, 280)            650720    \n",
            "                                                                 \n",
            " lstm_49 (LSTM)              (None, 9, 160)            282240    \n",
            "                                                                 \n",
            " lstm_50 (LSTM)              (None, 50)                42200     \n",
            "                                                                 \n",
            " dense_27 (Dense)            (None, 1)                 51        \n",
            "                                                                 \n",
            "=================================================================\n",
            "Total params: 2,125,511\n",
            "Trainable params: 2,125,511\n",
            "Non-trainable params: 0\n",
            "_________________________________________________________________\n",
            "Epoch 1/5\n",
            "1250/1250 [==============================] - 103s 77ms/step - loss: 0.4942 - acc: 0.7522 - val_loss: 0.4329 - val_acc: 0.7990\n",
            "Epoch 2/5\n",
            "1250/1250 [==============================] - 84s 67ms/step - loss: 0.3218 - acc: 0.8629 - val_loss: 0.4307 - val_acc: 0.8056\n",
            "Epoch 3/5\n",
            "1250/1250 [==============================] - 82s 66ms/step - loss: 0.2092 - acc: 0.9191 - val_loss: 0.5636 - val_acc: 0.7946\n",
            "Epoch 4/5\n",
            "1250/1250 [==============================] - 83s 66ms/step - loss: 0.1188 - acc: 0.9565 - val_loss: 0.6007 - val_acc: 0.7984\n",
            "Epoch 5/5\n",
            "1250/1250 [==============================] - 84s 67ms/step - loss: 0.0715 - acc: 0.9754 - val_loss: 0.7071 - val_acc: 0.7826\n",
            "782/782 [==============================] - 10s 12ms/step - loss: 0.7237 - acc: 0.7777\n",
            "[0.7236887216567993, 0.777679979801178]\n"
          ]
        },
        {
          "output_type": "stream",
          "name": "stderr",
          "text": [
            "WARNING:tensorflow:Layer lstm_51 will not use cuDNN kernels since it doesn't meet the criteria. It will use a generic GPU kernel as fallback when running on GPU.\n",
            "WARNING:tensorflow:Layer lstm_52 will not use cuDNN kernels since it doesn't meet the criteria. It will use a generic GPU kernel as fallback when running on GPU.\n",
            "WARNING:tensorflow:Layer lstm_53 will not use cuDNN kernels since it doesn't meet the criteria. It will use a generic GPU kernel as fallback when running on GPU.\n"
          ]
        },
        {
          "output_type": "stream",
          "name": "stdout",
          "text": [
            "Model: \"model_28\"\n",
            "_________________________________________________________________\n",
            " Layer (type)                Output Shape              Param #   \n",
            "=================================================================\n",
            " input_29 (InputLayer)       [(None, 100)]             0         \n",
            "                                                                 \n",
            " embedding_28 (Embedding)    (None, 100, 100)          1000000   \n",
            "                                                                 \n",
            " conv1d_16 (Conv1D)          (None, 96, 300)           150300    \n",
            "                                                                 \n",
            " max_pooling1d_16 (MaxPoolin  (None, 19, 300)          0         \n",
            " g1D)                                                            \n",
            "                                                                 \n",
            " spatial_dropout1d_14 (Spati  (None, 19, 300)          0         \n",
            " alDropout1D)                                                    \n",
            "                                                                 \n",
            " lstm_51 (LSTM)              (None, 19, 280)           650720    \n",
            "                                                                 \n",
            " lstm_52 (LSTM)              (None, 19, 160)           282240    \n",
            "                                                                 \n",
            " lstm_53 (LSTM)              (None, 50)                42200     \n",
            "                                                                 \n",
            " dense_28 (Dense)            (None, 1)                 51        \n",
            "                                                                 \n",
            "=================================================================\n",
            "Total params: 2,125,511\n",
            "Trainable params: 2,125,511\n",
            "Non-trainable params: 0\n",
            "_________________________________________________________________\n",
            "Epoch 1/5\n",
            "1250/1250 [==============================] - 184s 141ms/step - loss: 0.4349 - acc: 0.7937 - val_loss: 0.3382 - val_acc: 0.8486\n",
            "Epoch 2/5\n",
            "1250/1250 [==============================] - 158s 126ms/step - loss: 0.2591 - acc: 0.8957 - val_loss: 0.3667 - val_acc: 0.8506\n",
            "Epoch 3/5\n",
            "1250/1250 [==============================] - 160s 128ms/step - loss: 0.1706 - acc: 0.9367 - val_loss: 0.4050 - val_acc: 0.8444\n",
            "Epoch 4/5\n",
            "1250/1250 [==============================] - 156s 125ms/step - loss: 0.1057 - acc: 0.9645 - val_loss: 0.4688 - val_acc: 0.8386\n",
            "Epoch 5/5\n",
            "1250/1250 [==============================] - 157s 125ms/step - loss: 0.0681 - acc: 0.9783 - val_loss: 0.5347 - val_acc: 0.8384\n",
            "782/782 [==============================] - 18s 22ms/step - loss: 0.5656 - acc: 0.8263\n",
            "[0.5656394362449646, 0.8263199925422668]\n"
          ]
        },
        {
          "output_type": "stream",
          "name": "stderr",
          "text": [
            "WARNING:tensorflow:Layer lstm_54 will not use cuDNN kernels since it doesn't meet the criteria. It will use a generic GPU kernel as fallback when running on GPU.\n",
            "WARNING:tensorflow:Layer lstm_55 will not use cuDNN kernels since it doesn't meet the criteria. It will use a generic GPU kernel as fallback when running on GPU.\n",
            "WARNING:tensorflow:Layer lstm_56 will not use cuDNN kernels since it doesn't meet the criteria. It will use a generic GPU kernel as fallback when running on GPU.\n"
          ]
        },
        {
          "output_type": "stream",
          "name": "stdout",
          "text": [
            "Model: \"model_29\"\n",
            "_________________________________________________________________\n",
            " Layer (type)                Output Shape              Param #   \n",
            "=================================================================\n",
            " input_30 (InputLayer)       [(None, 200)]             0         \n",
            "                                                                 \n",
            " embedding_29 (Embedding)    (None, 200, 100)          1000000   \n",
            "                                                                 \n",
            " conv1d_17 (Conv1D)          (None, 196, 300)          150300    \n",
            "                                                                 \n",
            " max_pooling1d_17 (MaxPoolin  (None, 39, 300)          0         \n",
            " g1D)                                                            \n",
            "                                                                 \n",
            " spatial_dropout1d_15 (Spati  (None, 39, 300)          0         \n",
            " alDropout1D)                                                    \n",
            "                                                                 \n",
            " lstm_54 (LSTM)              (None, 39, 280)           650720    \n",
            "                                                                 \n",
            " lstm_55 (LSTM)              (None, 39, 160)           282240    \n",
            "                                                                 \n",
            " lstm_56 (LSTM)              (None, 50)                42200     \n",
            "                                                                 \n",
            " dense_29 (Dense)            (None, 1)                 51        \n",
            "                                                                 \n",
            "=================================================================\n",
            "Total params: 2,125,511\n",
            "Trainable params: 2,125,511\n",
            "Non-trainable params: 0\n",
            "_________________________________________________________________\n",
            "Epoch 1/5\n",
            "1250/1250 [==============================] - 360s 283ms/step - loss: 0.4202 - acc: 0.7965 - val_loss: 0.3107 - val_acc: 0.8788\n",
            "Epoch 2/5\n",
            "1250/1250 [==============================] - 323s 258ms/step - loss: 0.2286 - acc: 0.9118 - val_loss: 0.3357 - val_acc: 0.8664\n",
            "Epoch 3/5\n",
            " 322/1250 [======>.......................] - ETA: 3:41 - loss: 0.1393 - acc: 0.9509"
          ]
        }
      ]
    },
    {
      "cell_type": "markdown",
      "metadata": {
        "id": "xM4IlQ5ht43k"
      },
      "source": [
        "# 4. Generate Text from Nietzsche's Writings\n",
        "\n",
        "In this example, you will generate text from Nietzsche's writings.\n",
        "\n",
        "At least 20 epochs are required before the generated text\n",
        "starts sounding coherent.\n",
        "\n",
        "It is recommended to run this script on GPU, as recurrent\n",
        "networks are quite computationally intensive.\n",
        "\n",
        "If you try this script on new data, make sure your corpus\n",
        "has at least ~100k characters. ~1M is better."
      ]
    },
    {
      "cell_type": "code",
      "execution_count": 54,
      "metadata": {
        "id": "PxM6QDb-t43k",
        "colab": {
          "base_uri": "https://localhost:8080/"
        },
        "outputId": "89406147-030b-4069-d7bc-c7b4bbd1b322"
      },
      "outputs": [
        {
          "output_type": "stream",
          "name": "stdout",
          "text": [
            "Downloading data from https://s3.amazonaws.com/text-datasets/nietzsche.txt\n",
            "600901/600901 [==============================] - 0s 1us/step\n",
            "corpus length: 600893\n"
          ]
        }
      ],
      "source": [
        "path = keras.utils.get_file(\"nietzsche.txt\",\n",
        "        origin=\"https://s3.amazonaws.com/text-datasets/nietzsche.txt\")\n",
        "\n",
        "text = open(path).read().lower()\n",
        "print(\"corpus length:\", len(text))"
      ]
    },
    {
      "cell_type": "code",
      "execution_count": 55,
      "metadata": {
        "id": "fknSUC-Wt43k",
        "colab": {
          "base_uri": "https://localhost:8080/"
        },
        "outputId": "cafc7741-84b6-4e89-f8f3-510ad1de9797"
      },
      "outputs": [
        {
          "output_type": "stream",
          "name": "stdout",
          "text": [
            "total chars: 57\n"
          ]
        }
      ],
      "source": [
        "chars = set(text)\n",
        "print('total chars:', len(chars))\n",
        "char_indices = dict((c, i) for i, c in enumerate(chars))\n",
        "indices_char = dict((i, c) for i, c in enumerate(chars))"
      ]
    },
    {
      "cell_type": "code",
      "execution_count": 56,
      "metadata": {
        "id": "oeCYWn4gt43k",
        "colab": {
          "base_uri": "https://localhost:8080/"
        },
        "outputId": "422976f4-e556-46a5-f129-8c918e213848"
      },
      "outputs": [
        {
          "output_type": "stream",
          "name": "stdout",
          "text": [
            "nb sequences: 200265\n"
          ]
        }
      ],
      "source": [
        "# cut the text in semi-redundant sequences of maxlen characters\n",
        "maxlen = 100\n",
        "step = 3\n",
        "sentences = []\n",
        "next_chars = []\n",
        "for i in range(0, len(text) - maxlen, step):\n",
        "    sentences.append(text[i: i + maxlen])\n",
        "    next_chars.append(text[i + maxlen])\n",
        "print(\"nb sequences:\", len(sentences))"
      ]
    },
    {
      "cell_type": "code",
      "execution_count": 57,
      "metadata": {
        "id": "A7INuGJot43l",
        "colab": {
          "base_uri": "https://localhost:8080/"
        },
        "outputId": "d105e033-759a-45d8-cdb3-4146acf6ba53"
      },
      "outputs": [
        {
          "output_type": "stream",
          "name": "stdout",
          "text": [
            "Vectorization...\n"
          ]
        },
        {
          "output_type": "stream",
          "name": "stderr",
          "text": [
            "<ipython-input-57-7564032e437b>:2: DeprecationWarning: `np.bool` is a deprecated alias for the builtin `bool`. To silence this warning, use `bool` by itself. Doing this will not modify any behavior and is safe. If you specifically wanted the numpy scalar type, use `np.bool_` here.\n",
            "Deprecated in NumPy 1.20; for more details and guidance: https://numpy.org/devdocs/release/1.20.0-notes.html#deprecations\n",
            "  X = np.zeros((len(sentences), maxlen, len(chars)), dtype=np.bool)\n",
            "<ipython-input-57-7564032e437b>:3: DeprecationWarning: `np.bool` is a deprecated alias for the builtin `bool`. To silence this warning, use `bool` by itself. Doing this will not modify any behavior and is safe. If you specifically wanted the numpy scalar type, use `np.bool_` here.\n",
            "Deprecated in NumPy 1.20; for more details and guidance: https://numpy.org/devdocs/release/1.20.0-notes.html#deprecations\n",
            "  y = np.zeros((len(sentences), len(chars)), dtype=np.bool)\n"
          ]
        }
      ],
      "source": [
        "print(\"Vectorization...\")\n",
        "X = np.zeros((len(sentences), maxlen, len(chars)), dtype=np.bool)\n",
        "y = np.zeros((len(sentences), len(chars)), dtype=np.bool)\n",
        "for i, sentence in enumerate(sentences):\n",
        "    for t, char in enumerate(sentence):\n",
        "        X[i, t, char_indices[char]] = 1\n",
        "    y[i, char_indices[next_chars[i]]] = 1"
      ]
    },
    {
      "cell_type": "code",
      "execution_count": 58,
      "metadata": {
        "id": "VbmHrvK_t43l",
        "colab": {
          "base_uri": "https://localhost:8080/"
        },
        "outputId": "60977cf1-978d-49bb-a9e8-b3ae3cdcc8fb"
      },
      "outputs": [
        {
          "output_type": "stream",
          "name": "stdout",
          "text": [
            "Build model...\n",
            "Model: \"model_3\"\n",
            "_________________________________________________________________\n",
            " Layer (type)                Output Shape              Param #   \n",
            "=================================================================\n",
            " input_8 (InputLayer)        [(None, 100, 57)]         0         \n",
            "                                                                 \n",
            " gru (GRU)                   (None, 100, 256)          241920    \n",
            "                                                                 \n",
            " dropout_2 (Dropout)         (None, 100, 256)          0         \n",
            "                                                                 \n",
            " gru_1 (GRU)                 (None, 256)               394752    \n",
            "                                                                 \n",
            " dropout_3 (Dropout)         (None, 256)               0         \n",
            "                                                                 \n",
            " dense_21 (Dense)            (None, 57)                14649     \n",
            "                                                                 \n",
            " activation (Activation)     (None, 57)                0         \n",
            "                                                                 \n",
            "=================================================================\n",
            "Total params: 651,321\n",
            "Trainable params: 651,321\n",
            "Non-trainable params: 0\n",
            "_________________________________________________________________\n"
          ]
        }
      ],
      "source": [
        "# build the model: 2 stacked LSTM\n",
        "print(\"Build model...\")\n",
        "xi = keras.layers.Input((maxlen, len(chars)))\n",
        "x = keras.layers.GRU(256, return_sequences=True)(xi)\n",
        "x = keras.layers.Dropout(0.2)(x)\n",
        "x = keras.layers.GRU(256, return_sequences=False)(x)\n",
        "x = keras.layers.Dropout(0.2)(x)\n",
        "x = keras.layers.Dense(len(chars))(x)\n",
        "x = keras.layers.Activation(\"softmax\")(x)\n",
        "\n",
        "model = keras.models.Model(inputs=xi, outputs=x)\n",
        "model.summary()"
      ]
    },
    {
      "cell_type": "code",
      "execution_count": 59,
      "metadata": {
        "id": "3Gwti7B9t43l"
      },
      "outputs": [],
      "source": [
        "adam = keras.optimizers.Adam(0.003)\n",
        "\n",
        "model.compile(loss=\"categorical_crossentropy\", optimizer=adam)"
      ]
    },
    {
      "cell_type": "code",
      "execution_count": 60,
      "metadata": {
        "id": "-SAaP674t43l"
      },
      "outputs": [],
      "source": [
        "def sample(a, temperature=1.0):\n",
        "    # helper function to sample an index from a probability array\n",
        "    a = (np.log(a + 1e-8) / temperature).astype(np.float64)\n",
        "    a = np.exp(a) / np.sum(np.exp(a))\n",
        "    try:\n",
        "      sample_result = np.argmax(np.random.multinomial(1, a, 1))\n",
        "    except ValueError:\n",
        "      error = 1.0 - np.sum(a)\n",
        "      a[0] += error\n",
        "      sample_result = np.argmax(np.random.multinomial(1, a, 1))\n",
        "    return sample_result"
      ]
    },
    {
      "cell_type": "code",
      "execution_count": 61,
      "metadata": {
        "id": "QxMYT0zmt43l",
        "colab": {
          "base_uri": "https://localhost:8080/",
          "height": 478
        },
        "outputId": "83ebc898-9ca4-4370-9423-b5efd36fb823"
      },
      "outputs": [
        {
          "output_type": "stream",
          "name": "stdout",
          "text": [
            "\n",
            "--------------------------------------------------\n",
            "Iteration 1\n",
            "Epoch 1/4\n",
            " 8/49 [===>..........................] - ETA: 22s - loss: 3.4402"
          ]
        },
        {
          "output_type": "error",
          "ename": "KeyboardInterrupt",
          "evalue": "ignored",
          "traceback": [
            "\u001b[0;31m---------------------------------------------------------------------------\u001b[0m",
            "\u001b[0;31mKeyboardInterrupt\u001b[0m                         Traceback (most recent call last)",
            "\u001b[0;32m<ipython-input-61-ee3ccdea93d8>\u001b[0m in \u001b[0;36m<module>\u001b[0;34m\u001b[0m\n\u001b[1;32m      7\u001b[0m     \u001b[0mprint\u001b[0m\u001b[0;34m(\u001b[0m\u001b[0;34m\"Iteration\"\u001b[0m\u001b[0;34m,\u001b[0m \u001b[0miteration\u001b[0m\u001b[0;34m)\u001b[0m\u001b[0;34m\u001b[0m\u001b[0;34m\u001b[0m\u001b[0m\n\u001b[1;32m      8\u001b[0m \u001b[0;34m\u001b[0m\u001b[0m\n\u001b[0;32m----> 9\u001b[0;31m     \u001b[0mmodel\u001b[0m\u001b[0;34m.\u001b[0m\u001b[0mfit\u001b[0m\u001b[0;34m(\u001b[0m\u001b[0mX\u001b[0m\u001b[0;34m,\u001b[0m \u001b[0my\u001b[0m\u001b[0;34m,\u001b[0m \u001b[0mbatch_size\u001b[0m\u001b[0;34m=\u001b[0m\u001b[0;36m4096\u001b[0m\u001b[0;34m,\u001b[0m \u001b[0mepochs\u001b[0m\u001b[0;34m=\u001b[0m\u001b[0;36m4\u001b[0m\u001b[0;34m)\u001b[0m\u001b[0;34m\u001b[0m\u001b[0;34m\u001b[0m\u001b[0m\n\u001b[0m\u001b[1;32m     10\u001b[0m     \u001b[0mmodel\u001b[0m\u001b[0;34m.\u001b[0m\u001b[0msave_weights\u001b[0m\u001b[0;34m(\u001b[0m\u001b[0;34m\"weights.hdf5\"\u001b[0m\u001b[0;34m)\u001b[0m\u001b[0;34m\u001b[0m\u001b[0;34m\u001b[0m\u001b[0m\n\u001b[1;32m     11\u001b[0m \u001b[0;34m\u001b[0m\u001b[0m\n",
            "\u001b[0;32m/usr/local/lib/python3.9/dist-packages/keras/utils/traceback_utils.py\u001b[0m in \u001b[0;36merror_handler\u001b[0;34m(*args, **kwargs)\u001b[0m\n\u001b[1;32m     63\u001b[0m         \u001b[0mfiltered_tb\u001b[0m \u001b[0;34m=\u001b[0m \u001b[0;32mNone\u001b[0m\u001b[0;34m\u001b[0m\u001b[0;34m\u001b[0m\u001b[0m\n\u001b[1;32m     64\u001b[0m         \u001b[0;32mtry\u001b[0m\u001b[0;34m:\u001b[0m\u001b[0;34m\u001b[0m\u001b[0;34m\u001b[0m\u001b[0m\n\u001b[0;32m---> 65\u001b[0;31m             \u001b[0;32mreturn\u001b[0m \u001b[0mfn\u001b[0m\u001b[0;34m(\u001b[0m\u001b[0;34m*\u001b[0m\u001b[0margs\u001b[0m\u001b[0;34m,\u001b[0m \u001b[0;34m**\u001b[0m\u001b[0mkwargs\u001b[0m\u001b[0;34m)\u001b[0m\u001b[0;34m\u001b[0m\u001b[0;34m\u001b[0m\u001b[0m\n\u001b[0m\u001b[1;32m     66\u001b[0m         \u001b[0;32mexcept\u001b[0m \u001b[0mException\u001b[0m \u001b[0;32mas\u001b[0m \u001b[0me\u001b[0m\u001b[0;34m:\u001b[0m\u001b[0;34m\u001b[0m\u001b[0;34m\u001b[0m\u001b[0m\n\u001b[1;32m     67\u001b[0m             \u001b[0mfiltered_tb\u001b[0m \u001b[0;34m=\u001b[0m \u001b[0m_process_traceback_frames\u001b[0m\u001b[0;34m(\u001b[0m\u001b[0me\u001b[0m\u001b[0;34m.\u001b[0m\u001b[0m__traceback__\u001b[0m\u001b[0;34m)\u001b[0m\u001b[0;34m\u001b[0m\u001b[0;34m\u001b[0m\u001b[0m\n",
            "\u001b[0;32m/usr/local/lib/python3.9/dist-packages/keras/engine/training.py\u001b[0m in \u001b[0;36mfit\u001b[0;34m(self, x, y, batch_size, epochs, verbose, callbacks, validation_split, validation_data, shuffle, class_weight, sample_weight, initial_epoch, steps_per_epoch, validation_steps, validation_batch_size, validation_freq, max_queue_size, workers, use_multiprocessing)\u001b[0m\n\u001b[1;32m   1648\u001b[0m                         ):\n\u001b[1;32m   1649\u001b[0m                             \u001b[0mcallbacks\u001b[0m\u001b[0;34m.\u001b[0m\u001b[0mon_train_batch_begin\u001b[0m\u001b[0;34m(\u001b[0m\u001b[0mstep\u001b[0m\u001b[0;34m)\u001b[0m\u001b[0;34m\u001b[0m\u001b[0;34m\u001b[0m\u001b[0m\n\u001b[0;32m-> 1650\u001b[0;31m                             \u001b[0mtmp_logs\u001b[0m \u001b[0;34m=\u001b[0m \u001b[0mself\u001b[0m\u001b[0;34m.\u001b[0m\u001b[0mtrain_function\u001b[0m\u001b[0;34m(\u001b[0m\u001b[0miterator\u001b[0m\u001b[0;34m)\u001b[0m\u001b[0;34m\u001b[0m\u001b[0;34m\u001b[0m\u001b[0m\n\u001b[0m\u001b[1;32m   1651\u001b[0m                             \u001b[0;32mif\u001b[0m \u001b[0mdata_handler\u001b[0m\u001b[0;34m.\u001b[0m\u001b[0mshould_sync\u001b[0m\u001b[0;34m:\u001b[0m\u001b[0;34m\u001b[0m\u001b[0;34m\u001b[0m\u001b[0m\n\u001b[1;32m   1652\u001b[0m                                 \u001b[0mcontext\u001b[0m\u001b[0;34m.\u001b[0m\u001b[0masync_wait\u001b[0m\u001b[0;34m(\u001b[0m\u001b[0;34m)\u001b[0m\u001b[0;34m\u001b[0m\u001b[0;34m\u001b[0m\u001b[0m\n",
            "\u001b[0;32m/usr/local/lib/python3.9/dist-packages/tensorflow/python/util/traceback_utils.py\u001b[0m in \u001b[0;36merror_handler\u001b[0;34m(*args, **kwargs)\u001b[0m\n\u001b[1;32m    148\u001b[0m     \u001b[0mfiltered_tb\u001b[0m \u001b[0;34m=\u001b[0m \u001b[0;32mNone\u001b[0m\u001b[0;34m\u001b[0m\u001b[0;34m\u001b[0m\u001b[0m\n\u001b[1;32m    149\u001b[0m     \u001b[0;32mtry\u001b[0m\u001b[0;34m:\u001b[0m\u001b[0;34m\u001b[0m\u001b[0;34m\u001b[0m\u001b[0m\n\u001b[0;32m--> 150\u001b[0;31m       \u001b[0;32mreturn\u001b[0m \u001b[0mfn\u001b[0m\u001b[0;34m(\u001b[0m\u001b[0;34m*\u001b[0m\u001b[0margs\u001b[0m\u001b[0;34m,\u001b[0m \u001b[0;34m**\u001b[0m\u001b[0mkwargs\u001b[0m\u001b[0;34m)\u001b[0m\u001b[0;34m\u001b[0m\u001b[0;34m\u001b[0m\u001b[0m\n\u001b[0m\u001b[1;32m    151\u001b[0m     \u001b[0;32mexcept\u001b[0m \u001b[0mException\u001b[0m \u001b[0;32mas\u001b[0m \u001b[0me\u001b[0m\u001b[0;34m:\u001b[0m\u001b[0;34m\u001b[0m\u001b[0;34m\u001b[0m\u001b[0m\n\u001b[1;32m    152\u001b[0m       \u001b[0mfiltered_tb\u001b[0m \u001b[0;34m=\u001b[0m \u001b[0m_process_traceback_frames\u001b[0m\u001b[0;34m(\u001b[0m\u001b[0me\u001b[0m\u001b[0;34m.\u001b[0m\u001b[0m__traceback__\u001b[0m\u001b[0;34m)\u001b[0m\u001b[0;34m\u001b[0m\u001b[0;34m\u001b[0m\u001b[0m\n",
            "\u001b[0;32m/usr/local/lib/python3.9/dist-packages/tensorflow/python/eager/polymorphic_function/polymorphic_function.py\u001b[0m in \u001b[0;36m__call__\u001b[0;34m(self, *args, **kwds)\u001b[0m\n\u001b[1;32m    878\u001b[0m \u001b[0;34m\u001b[0m\u001b[0m\n\u001b[1;32m    879\u001b[0m       \u001b[0;32mwith\u001b[0m \u001b[0mOptionalXlaContext\u001b[0m\u001b[0;34m(\u001b[0m\u001b[0mself\u001b[0m\u001b[0;34m.\u001b[0m\u001b[0m_jit_compile\u001b[0m\u001b[0;34m)\u001b[0m\u001b[0;34m:\u001b[0m\u001b[0;34m\u001b[0m\u001b[0;34m\u001b[0m\u001b[0m\n\u001b[0;32m--> 880\u001b[0;31m         \u001b[0mresult\u001b[0m \u001b[0;34m=\u001b[0m \u001b[0mself\u001b[0m\u001b[0;34m.\u001b[0m\u001b[0m_call\u001b[0m\u001b[0;34m(\u001b[0m\u001b[0;34m*\u001b[0m\u001b[0margs\u001b[0m\u001b[0;34m,\u001b[0m \u001b[0;34m**\u001b[0m\u001b[0mkwds\u001b[0m\u001b[0;34m)\u001b[0m\u001b[0;34m\u001b[0m\u001b[0;34m\u001b[0m\u001b[0m\n\u001b[0m\u001b[1;32m    881\u001b[0m \u001b[0;34m\u001b[0m\u001b[0m\n\u001b[1;32m    882\u001b[0m       \u001b[0mnew_tracing_count\u001b[0m \u001b[0;34m=\u001b[0m \u001b[0mself\u001b[0m\u001b[0;34m.\u001b[0m\u001b[0mexperimental_get_tracing_count\u001b[0m\u001b[0;34m(\u001b[0m\u001b[0;34m)\u001b[0m\u001b[0;34m\u001b[0m\u001b[0;34m\u001b[0m\u001b[0m\n",
            "\u001b[0;32m/usr/local/lib/python3.9/dist-packages/tensorflow/python/eager/polymorphic_function/polymorphic_function.py\u001b[0m in \u001b[0;36m_call\u001b[0;34m(self, *args, **kwds)\u001b[0m\n\u001b[1;32m    910\u001b[0m       \u001b[0;31m# In this case we have created variables on the first call, so we run the\u001b[0m\u001b[0;34m\u001b[0m\u001b[0;34m\u001b[0m\u001b[0m\n\u001b[1;32m    911\u001b[0m       \u001b[0;31m# defunned version which is guaranteed to never create variables.\u001b[0m\u001b[0;34m\u001b[0m\u001b[0;34m\u001b[0m\u001b[0m\n\u001b[0;32m--> 912\u001b[0;31m       \u001b[0;32mreturn\u001b[0m \u001b[0mself\u001b[0m\u001b[0;34m.\u001b[0m\u001b[0m_no_variable_creation_fn\u001b[0m\u001b[0;34m(\u001b[0m\u001b[0;34m*\u001b[0m\u001b[0margs\u001b[0m\u001b[0;34m,\u001b[0m \u001b[0;34m**\u001b[0m\u001b[0mkwds\u001b[0m\u001b[0;34m)\u001b[0m  \u001b[0;31m# pylint: disable=not-callable\u001b[0m\u001b[0;34m\u001b[0m\u001b[0;34m\u001b[0m\u001b[0m\n\u001b[0m\u001b[1;32m    913\u001b[0m     \u001b[0;32melif\u001b[0m \u001b[0mself\u001b[0m\u001b[0;34m.\u001b[0m\u001b[0m_variable_creation_fn\u001b[0m \u001b[0;32mis\u001b[0m \u001b[0;32mnot\u001b[0m \u001b[0;32mNone\u001b[0m\u001b[0;34m:\u001b[0m\u001b[0;34m\u001b[0m\u001b[0;34m\u001b[0m\u001b[0m\n\u001b[1;32m    914\u001b[0m       \u001b[0;31m# Release the lock early so that multiple threads can perform the call\u001b[0m\u001b[0;34m\u001b[0m\u001b[0;34m\u001b[0m\u001b[0m\n",
            "\u001b[0;32m/usr/local/lib/python3.9/dist-packages/tensorflow/python/eager/polymorphic_function/tracing_compiler.py\u001b[0m in \u001b[0;36m__call__\u001b[0;34m(self, *args, **kwargs)\u001b[0m\n\u001b[1;32m    132\u001b[0m       (concrete_function,\n\u001b[1;32m    133\u001b[0m        filtered_flat_args) = self._maybe_define_function(args, kwargs)\n\u001b[0;32m--> 134\u001b[0;31m     return concrete_function._call_flat(\n\u001b[0m\u001b[1;32m    135\u001b[0m         filtered_flat_args, captured_inputs=concrete_function.captured_inputs)  # pylint: disable=protected-access\n\u001b[1;32m    136\u001b[0m \u001b[0;34m\u001b[0m\u001b[0m\n",
            "\u001b[0;32m/usr/local/lib/python3.9/dist-packages/tensorflow/python/eager/polymorphic_function/monomorphic_function.py\u001b[0m in \u001b[0;36m_call_flat\u001b[0;34m(self, args, captured_inputs, cancellation_manager)\u001b[0m\n\u001b[1;32m   1743\u001b[0m         and executing_eagerly):\n\u001b[1;32m   1744\u001b[0m       \u001b[0;31m# No tape is watching; skip to running the function.\u001b[0m\u001b[0;34m\u001b[0m\u001b[0;34m\u001b[0m\u001b[0m\n\u001b[0;32m-> 1745\u001b[0;31m       return self._build_call_outputs(self._inference_function.call(\n\u001b[0m\u001b[1;32m   1746\u001b[0m           ctx, args, cancellation_manager=cancellation_manager))\n\u001b[1;32m   1747\u001b[0m     forward_backward = self._select_forward_and_backward_functions(\n",
            "\u001b[0;32m/usr/local/lib/python3.9/dist-packages/tensorflow/python/eager/polymorphic_function/monomorphic_function.py\u001b[0m in \u001b[0;36mcall\u001b[0;34m(self, ctx, args, cancellation_manager)\u001b[0m\n\u001b[1;32m    376\u001b[0m       \u001b[0;32mwith\u001b[0m \u001b[0m_InterpolateFunctionError\u001b[0m\u001b[0;34m(\u001b[0m\u001b[0mself\u001b[0m\u001b[0;34m)\u001b[0m\u001b[0;34m:\u001b[0m\u001b[0;34m\u001b[0m\u001b[0;34m\u001b[0m\u001b[0m\n\u001b[1;32m    377\u001b[0m         \u001b[0;32mif\u001b[0m \u001b[0mcancellation_manager\u001b[0m \u001b[0;32mis\u001b[0m \u001b[0;32mNone\u001b[0m\u001b[0;34m:\u001b[0m\u001b[0;34m\u001b[0m\u001b[0;34m\u001b[0m\u001b[0m\n\u001b[0;32m--> 378\u001b[0;31m           outputs = execute.execute(\n\u001b[0m\u001b[1;32m    379\u001b[0m               \u001b[0mstr\u001b[0m\u001b[0;34m(\u001b[0m\u001b[0mself\u001b[0m\u001b[0;34m.\u001b[0m\u001b[0msignature\u001b[0m\u001b[0;34m.\u001b[0m\u001b[0mname\u001b[0m\u001b[0;34m)\u001b[0m\u001b[0;34m,\u001b[0m\u001b[0;34m\u001b[0m\u001b[0;34m\u001b[0m\u001b[0m\n\u001b[1;32m    380\u001b[0m               \u001b[0mnum_outputs\u001b[0m\u001b[0;34m=\u001b[0m\u001b[0mself\u001b[0m\u001b[0;34m.\u001b[0m\u001b[0m_num_outputs\u001b[0m\u001b[0;34m,\u001b[0m\u001b[0;34m\u001b[0m\u001b[0;34m\u001b[0m\u001b[0m\n",
            "\u001b[0;32m/usr/local/lib/python3.9/dist-packages/tensorflow/python/eager/execute.py\u001b[0m in \u001b[0;36mquick_execute\u001b[0;34m(op_name, num_outputs, inputs, attrs, ctx, name)\u001b[0m\n\u001b[1;32m     50\u001b[0m   \u001b[0;32mtry\u001b[0m\u001b[0;34m:\u001b[0m\u001b[0;34m\u001b[0m\u001b[0;34m\u001b[0m\u001b[0m\n\u001b[1;32m     51\u001b[0m     \u001b[0mctx\u001b[0m\u001b[0;34m.\u001b[0m\u001b[0mensure_initialized\u001b[0m\u001b[0;34m(\u001b[0m\u001b[0;34m)\u001b[0m\u001b[0;34m\u001b[0m\u001b[0;34m\u001b[0m\u001b[0m\n\u001b[0;32m---> 52\u001b[0;31m     tensors = pywrap_tfe.TFE_Py_Execute(ctx._handle, device_name, op_name,\n\u001b[0m\u001b[1;32m     53\u001b[0m                                         inputs, attrs, num_outputs)\n\u001b[1;32m     54\u001b[0m   \u001b[0;32mexcept\u001b[0m \u001b[0mcore\u001b[0m\u001b[0;34m.\u001b[0m\u001b[0m_NotOkStatusException\u001b[0m \u001b[0;32mas\u001b[0m \u001b[0me\u001b[0m\u001b[0;34m:\u001b[0m\u001b[0;34m\u001b[0m\u001b[0;34m\u001b[0m\u001b[0m\n",
            "\u001b[0;31mKeyboardInterrupt\u001b[0m: "
          ]
        }
      ],
      "source": [
        "import sys\n",
        "\n",
        "# train the model, output generated text after each iteration\n",
        "for iteration in range(1, 60):\n",
        "    print()\n",
        "    print(\"-\" * 50)\n",
        "    print(\"Iteration\", iteration)\n",
        "\n",
        "    model.fit(X, y, batch_size=4096, epochs=4)\n",
        "    model.save_weights(\"weights.hdf5\")\n",
        "\n",
        "    start_index = random.randint(0, len(text) - maxlen - 1)\n",
        "\n",
        "    for diversity in [0.2, 0.5, 1.0, 1.2]:\n",
        "        print()\n",
        "        print(\"----- diversity:\", diversity)\n",
        "\n",
        "        generated = \"\"\n",
        "        sentence = text[start_index: start_index + maxlen]\n",
        "        generated += sentence\n",
        "        print(\"----- Generating with seed: '\" + sentence + \"'\")\n",
        "        sys.stdout.write(generated)\n",
        "\n",
        "        for i in range(200):\n",
        "            x = np.zeros((1, maxlen, len(chars)))\n",
        "            for t, char in enumerate(sentence):\n",
        "                x[0, t, char_indices[char]] = 1.\n",
        "\n",
        "            # predict next char\n",
        "            preds = model.predict(x, verbose=0)[0]\n",
        "            next_index = sample(preds, diversity)\n",
        "            next_char = indices_char[next_index]\n",
        "\n",
        "            # full sentence being generated\n",
        "            generated += next_char\n",
        "\n",
        "            # shift sentence\n",
        "            sentence = sentence[1:] + next_char\n",
        "\n",
        "            sys.stdout.write(next_char)\n",
        "            sys.stdout.flush()\n",
        "            \n",
        "            # let's consider only one sentence\n",
        "            if next_char == \".\":\n",
        "              break\n",
        "        print()"
      ]
    },
    {
      "cell_type": "markdown",
      "metadata": {
        "id": "vRfZ8Fgyt43l"
      },
      "source": [
        "- Pick up one set of data samples from linux kernel source code (https://github.com/torvalds/linux)\n",
        "- Modify the model to be trained in the corpus\n",
        "- Present the results"
      ]
    }
  ],
  "metadata": {
    "accelerator": "GPU",
    "colab": {
      "provenance": []
    },
    "gpuClass": "standard",
    "kernelspec": {
      "display_name": "Python 3 (ipykernel)",
      "language": "python",
      "name": "python3"
    },
    "language_info": {
      "codemirror_mode": {
        "name": "ipython",
        "version": 3
      },
      "file_extension": ".py",
      "mimetype": "text/x-python",
      "name": "python",
      "nbconvert_exporter": "python",
      "pygments_lexer": "ipython3",
      "version": "3.8.8"
    }
  },
  "nbformat": 4,
  "nbformat_minor": 0
}