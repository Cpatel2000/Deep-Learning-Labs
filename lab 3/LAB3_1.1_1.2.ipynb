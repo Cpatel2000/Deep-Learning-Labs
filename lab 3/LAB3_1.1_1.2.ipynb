{
 "cells": [
  {
   "cell_type": "code",
   "execution_count": 1,
   "metadata": {},
   "outputs": [
    {
     "name": "stderr",
     "output_type": "stream",
     "text": [
      "2023-02-05 23:41:05.859650: I tensorflow/core/platform/cpu_feature_guard.cc:193] This TensorFlow binary is optimized with oneAPI Deep Neural Network Library (oneDNN) to use the following CPU instructions in performance-critical operations:  SSE4.1 SSE4.2\n",
      "To enable them in other operations, rebuild TensorFlow with the appropriate compiler flags.\n"
     ]
    }
   ],
   "source": [
    "import time\n",
    "import numpy as np\n",
    "import pandas as pd\n",
    "\n",
    "from keras.datasets import mnist\n",
    "\n",
    "from sklearn.decomposition import PCA\n",
    "from sklearn.manifold import TSNE\n",
    "\n",
    "%matplotlib inline\n",
    "\n",
    "import matplotlib.pyplot as plt\n",
    "from mpl_toolkits.mplot3d import Axes3D\n",
    "import seaborn as sns"
   ]
  },
  {
   "cell_type": "markdown",
   "metadata": {},
   "source": [
    "# Optimizer 1: $f(\\mathbf{x}) = \\mathbf{Ax} - \\mathbf{b}$"
   ]
  },
  {
   "cell_type": "code",
   "execution_count": 2,
   "metadata": {},
   "outputs": [],
   "source": [
    "import numpy as np\n",
    "import matplotlib.pyplot as plt"
   ]
  },
  {
   "cell_type": "code",
   "execution_count": 3,
   "metadata": {},
   "outputs": [],
   "source": [
    "\n",
    "\n",
    "A = np.array([[2,1,3],[2,6,8],[6,8,18]]).astype(np.float32) # 3 x 3\n",
    "b = np.array([[1],[3],[5]]).astype(np.float32) # 3 x 1\n",
    "\n",
    "x = np.random.uniform(-1.0,1.0,size=(3,1)) # 3 x 1\n",
    "x_memo = np.copy(x)\n",
    "\n",
    "# Solution\n",
    "y = np.dot(np.linalg.inv(A), b)\n",
    "\n",
    "def F(x):\n",
    "  return np.dot(A,x) - b\n",
    "\n",
    "\n",
    "# definition of loss function (MSE of F(x))\n",
    "def L(x):\n",
    "  delta = F(x) - y\n",
    "  return (np.dot(delta.T, delta) / (2 * y.shape[0])).flatten().item()\n",
    "\n",
    "\n",
    "# definition of gradient\n",
    "def g(x):\n",
    "  return np.dot(A.T, F(x))"
   ]
  },
  {
   "cell_type": "code",
   "execution_count": 4,
   "metadata": {},
   "outputs": [],
   "source": [
    "EPSILON = 1e-7\n",
    "MAX_ITERATIONS = 1000\n",
    "\n",
    "def update(x, delta_theta):\n",
    "  x += delta_theta\n",
    "\n",
    "def get_accuracy(x):\n",
    "  prediction = F(x)\n",
    "\n",
    "  # no accuracy for regression problem\n",
    "  if len(prediction) == 1:\n",
    "    return -1\n",
    "\n",
    "  prediction = np.argmax(prediction, axis=1)\n",
    "  label = np.argmax(y, axis=1)\n",
    "  accuracy = np.divide(np.sum(prediction==label), label.shape[0])\n",
    "  return np.around(accuracy, decimals=3)"
   ]
  },
  {
   "cell_type": "code",
   "execution_count": 5,
   "metadata": {},
   "outputs": [],
   "source": [
    "def GD(x, alpha, verbose=False):\n",
    "  \"\"\"Implementation of gradient descent loop.\"\"\"\n",
    "  i = 0\n",
    "  history = []\n",
    "  accuracy = []\n",
    "  while True:\n",
    "    update(x, -alpha * g(x))\n",
    "    loss = L(x)\n",
    "    history.append(loss)\n",
    "    accuracy.append(get_accuracy(x))\n",
    "    if verbose:\n",
    "      print(i, loss, x.flatten())\n",
    "    i += 1\n",
    "    if loss < EPSILON or i == MAX_ITERATIONS:\n",
    "      break\n",
    "\n",
    "  return x, history, accuracy"
   ]
  },
  {
   "cell_type": "code",
   "execution_count": 6,
   "metadata": {},
   "outputs": [],
   "source": [
    "def Momentum(x, alpha, beta=0.9, verbose=False):\n",
    "  i = 0\n",
    "  history = []\n",
    "  accuracy = []\n",
    "  prev_vT = 0\n",
    "  while True:\n",
    "    vT = beta * prev_vT + (1 - beta) * g(x)\n",
    "    update(x, -alpha * vT)\n",
    "    loss = L(x)\n",
    "    history.append(loss)\n",
    "    accuracy.append(get_accuracy(x))\n",
    "    if verbose:\n",
    "      print(i, loss, x.flatten())\n",
    "    i += 1\n",
    "    if loss < EPSILON or i == MAX_ITERATIONS:\n",
    "      break\n",
    "    prev_vT = vT\n",
    "\n",
    "  return x, history, accuracy"
   ]
  },
  {
   "cell_type": "code",
   "execution_count": 7,
   "metadata": {},
   "outputs": [],
   "source": [
    "def Adadelta(x, beta=0.95, verbose=False):\n",
    "  epsilon = 1e-6\n",
    "  expected_g_square = 0\n",
    "  expected_delta_theta_square = 0\n",
    "  rms_theta = 0\n",
    "  i = 0\n",
    "  history = []\n",
    "  accuracy = []\n",
    "\n",
    "  while True:\n",
    "    gradient = g(x)\n",
    "    expected_g_square = (beta * expected_g_square) + (1 - beta) *  np.square(gradient)\n",
    "\n",
    "    delta_theta = -(np.sqrt(expected_delta_theta_square + epsilon) / \\\n",
    "                   np.sqrt(expected_g_square + epsilon)) * gradient\n",
    "    update(x, delta_theta)\n",
    "\n",
    "    loss = L(x)\n",
    "    history.append(loss)\n",
    "    accuracy.append(get_accuracy(x))\n",
    "    if verbose:\n",
    "      print(i, loss, x.flatten())\n",
    "    i += 1\n",
    "    if loss < EPSILON or i == MAX_ITERATIONS:\n",
    "      break\n",
    "    \n",
    "    expected_delta_theta_square = (beta * expected_delta_theta_square) + \\\n",
    "        (1 - beta) * np.square(delta_theta)\n",
    "\n",
    "  return x, history, accuracy"
   ]
  },
  {
   "cell_type": "code",
   "execution_count": 8,
   "metadata": {},
   "outputs": [],
   "source": [
    "def Adam(x, alpha, beta1=0.9, beta2=0.999, verbose=False):\n",
    "  epsilon = 1e-8\n",
    "  m_t = 0\n",
    "  v_t = 0\n",
    "  i = 0\n",
    "  history = []\n",
    "  accuracy = []\n",
    "\n",
    "  while True:\n",
    "    t = i + 1\n",
    "    gradient = g(x)\n",
    "    m_t = beta1 * m_t + (1 - beta1) * gradient\n",
    "    v_t = beta2 * v_t + (1 - beta2) * np.square(gradient)\n",
    "\n",
    "    m_t_hat = m_t / (1 - beta1 ** t)\n",
    "    v_t_hat = v_t / (1 - beta2 ** t)\n",
    "    \n",
    "    update(x, -alpha * m_t_hat / (np.sqrt(v_t_hat) + epsilon))\n",
    "\n",
    "    loss = L(x)\n",
    "    history.append(loss)\n",
    "    accuracy.append(get_accuracy(x))\n",
    "    if verbose:\n",
    "      print(i, loss, x.flatten())\n",
    "    i += 1\n",
    "    if loss < EPSILON or i == MAX_ITERATIONS:\n",
    "      break\n",
    "\n",
    "  return x, history, accuracy"
   ]
  },
  {
   "cell_type": "code",
   "execution_count": 9,
   "metadata": {},
   "outputs": [],
   "source": [
    "def AdamWithWarmup(x, alpha, beta1=0.9, beta2=0.999, warmup_steps=1000, verbose=False):\n",
    "  epsilon = 1e-8\n",
    "  m_t = 0\n",
    "  v_t = 0\n",
    "  i = 0\n",
    "  history = []\n",
    "  accuracy = []\n",
    "\n",
    "  while True:\n",
    "    t = i + 1\n",
    "    warmup_rate = t / warmup_steps\n",
    "    learning_rate = alpha * min(1, warmup_rate)\n",
    "    \n",
    "    gradient = g(x)\n",
    "    m_t = beta1 * m_t + (1 - beta1) * gradient\n",
    "    v_t = beta2 * v_t + (1 - beta2) * np.square(gradient)\n",
    "\n",
    "    m_t_hat = m_t / (1 - beta1 ** t)\n",
    "    v_t_hat = v_t / (1 - beta2 ** t)\n",
    "    \n",
    "    update(x, -learning_rate * m_t_hat / (np.sqrt(v_t_hat) + epsilon))\n",
    "\n",
    "    loss = L(x)\n",
    "    history.append(loss)\n",
    "    accuracy.append(get_accuracy(x))\n",
    "    if verbose:\n",
    "      print(i, loss, x.flatten())\n",
    "    i += 1\n",
    "    if loss < EPSILON or i == MAX_ITERATIONS:\n",
    "      break\n",
    "\n",
    "  return x, history, accuracy"
   ]
  },
  {
   "cell_type": "code",
   "execution_count": 10,
   "metadata": {},
   "outputs": [
    {
     "data": {
      "image/png": "[encoded data removed]",
      "text/plain": [
       "<Figure size 432x288 with 1 Axes>"
      ]
     },
     "metadata": {
      "needs_background": "light"
     },
     "output_type": "display_data"
    }
   ],
   "source": [
    "x = np.copy(x_memo)\n",
    "x, history, _ = GD(x, alpha=0.002, verbose=False)\n",
    "plt.cla()\n",
    "plt.plot(history)\n",
    "plt.show()"
   ]
  },
  {
   "cell_type": "code",
   "execution_count": 11,
   "metadata": {},
   "outputs": [
    {
     "data": {
      "image/png": "[encoded data removed]",
      "text/plain": [
       "<Figure size 432x288 with 1 Axes>"
      ]
     },
     "metadata": {
      "needs_background": "light"
     },
     "output_type": "display_data"
    }
   ],
   "source": [
    "x = np.copy(x_memo)\n",
    "x, history, _ = Momentum(x, alpha=0.0002, beta=0.9, verbose=False)\n",
    "plt.cla()\n",
    "plt.plot(history)\n",
    "plt.show()"
   ]
  },
  {
   "cell_type": "code",
   "execution_count": 12,
   "metadata": {},
   "outputs": [
    {
     "data": {
      "image/png": "[encoded data removed]",
      "text/plain": [
       "<Figure size 432x288 with 1 Axes>"
      ]
     },
     "metadata": {
      "needs_background": "light"
     },
     "output_type": "display_data"
    }
   ],
   "source": [
    "x = np.copy(x_memo)\n",
    "x, history, _ = Adadelta(x, verbose=False)\n",
    "plt.cla()\n",
    "plt.plot(history)\n",
    "plt.show()"
   ]
  },
  {
   "cell_type": "code",
   "execution_count": 13,
   "metadata": {},
   "outputs": [
    {
     "data": {
      "image/png": "[encoded data removed]",
      "text/plain": [
       "<Figure size 432x288 with 1 Axes>"
      ]
     },
     "metadata": {
      "needs_background": "light"
     },
     "output_type": "display_data"
    }
   ],
   "source": [
    "x = np.copy(x_memo)\n",
    "x, history, _ = Adam(x, alpha=2e-5, verbose=False)\n",
    "plt.cla()\n",
    "plt.plot(history)\n",
    "plt.show()"
   ]
  },
  {
   "cell_type": "code",
   "execution_count": 14,
   "metadata": {},
   "outputs": [
    {
     "data": {
      "image/png": "[encoded data removed]",
      "text/plain": [
       "<Figure size 432x288 with 1 Axes>"
      ]
     },
     "metadata": {
      "needs_background": "light"
     },
     "output_type": "display_data"
    }
   ],
   "source": [
    "x = np.copy(x_memo)\n",
    "x, history, _ = AdamWithWarmup(x, alpha=2e-5, verbose=False)\n",
    "plt.cla()\n",
    "plt.plot(history)\n",
    "plt.show()"
   ]
  },
  {
   "cell_type": "code",
   "execution_count": 15,
   "metadata": {},
   "outputs": [
    {
     "name": "stdout",
     "output_type": "stream",
     "text": [
      "Solution is:  [[0.30000007 0.39999986 0.        ]]\n"
     ]
    }
   ],
   "source": [
    "# For Ax = b, the solution is (A**-1 * b).T\n",
    "print(\"Solution is: \", np.dot(np.linalg.inv(A),b).T)"
   ]
  },
  {
   "cell_type": "markdown",
   "metadata": {},
   "source": [
    "# Section 2: $f(\\mathbf{x}) = (1-x_{0})^2 + 100 \\times (x_{1} - (x_{0})^2)^2 $"
   ]
  },
  {
   "cell_type": "code",
   "execution_count": 16,
   "metadata": {},
   "outputs": [],
   "source": [
    "import numpy as np\n",
    "import matplotlib.pyplot as plt\n",
    "\n",
    "x = np.random.uniform(-1.0,1.0,size=(2,1))\n",
    "x_memo = np.copy(x)\n",
    "y = 0\n",
    "\n",
    "def F(x):\n",
    "  return np.power(1-x[0],2) + 100.0*np.power(x[1] - np.power(x[0],2),2)\n",
    "\n",
    "\n",
    "# definition of loss function (MSE of F(x))\n",
    "def L(x):\n",
    "  delta = F(x) - y\n",
    "  return (np.square(delta) / (2 * x.shape[0])).flatten().item()\n",
    "\n",
    "\n",
    "# definition of gradient\n",
    "def g(x):\n",
    "  return np.array([\n",
    "    -2*(1-x[0]) - 100.0*4*x[0]*(x[1] - np.power(x[0],2)),\n",
    "    100.0*2*(x[1] - np.power(x[0],2))\n",
    "  ])"
   ]
  },
  {
   "cell_type": "code",
   "execution_count": 17,
   "metadata": {},
   "outputs": [],
   "source": [
    "EPSILON = 1e-7"
   ]
  },
  {
   "cell_type": "code",
   "execution_count": 18,
   "metadata": {},
   "outputs": [
    {
     "data": {
      "image/png": "[encoded data removed]",
      "text/plain": [
       "<Figure size 432x288 with 1 Axes>"
      ]
     },
     "metadata": {
      "needs_background": "light"
     },
     "output_type": "display_data"
    }
   ],
   "source": [
    "x = np.copy(x_memo)\n",
    "x, history, _ = GD(x, 0.002, False)\n",
    "plt.cla()\n",
    "plt.plot(history)\n",
    "plt.show()"
   ]
  },
  {
   "cell_type": "code",
   "execution_count": 19,
   "metadata": {},
   "outputs": [
    {
     "data": {
      "image/png": "[encoded data removed]",
      "text/plain": [
       "<Figure size 432x288 with 1 Axes>"
      ]
     },
     "metadata": {
      "needs_background": "light"
     },
     "output_type": "display_data"
    }
   ],
   "source": [
    "x = np.copy(x_memo)\n",
    "x, history, _ = Momentum(x, alpha=0.0002, beta=0.9, verbose=False)\n",
    "plt.cla()\n",
    "plt.plot(history)\n",
    "plt.show()"
   ]
  },
  {
   "cell_type": "code",
   "execution_count": 20,
   "metadata": {},
   "outputs": [
    {
     "data": {
      "image/png": "[encoded data removed]",
      "text/plain": [
       "<Figure size 432x288 with 1 Axes>"
      ]
     },
     "metadata": {
      "needs_background": "light"
     },
     "output_type": "display_data"
    }
   ],
   "source": [
    "x = np.copy(x_memo)\n",
    "x, history, _ = Adadelta(x, verbose=False)\n",
    "plt.cla()\n",
    "plt.plot(history)\n",
    "plt.show()"
   ]
  },
  {
   "cell_type": "code",
   "execution_count": 21,
   "metadata": {},
   "outputs": [
    {
     "data": {
      "image/png": "[encoded data removed]",
      "text/plain": [
       "<Figure size 432x288 with 1 Axes>"
      ]
     },
     "metadata": {
      "needs_background": "light"
     },
     "output_type": "display_data"
    }
   ],
   "source": [
    "x = np.copy(x_memo)\n",
    "x, history, _ = Adam(x, alpha=2e-5, verbose=False)\n",
    "plt.cla()\n",
    "plt.plot(history)\n",
    "plt.show()"
   ]
  },
  {
   "cell_type": "code",
   "execution_count": 22,
   "metadata": {},
   "outputs": [
    {
     "data": {
      "image/png": "[encoded data removed]",
      "text/plain": [
       "<Figure size 432x288 with 1 Axes>"
      ]
     },
     "metadata": {
      "needs_background": "light"
     },
     "output_type": "display_data"
    }
   ],
   "source": [
    "x = np.copy(x_memo)\n",
    "x, history, _ = AdamWithWarmup(x, alpha=2e-5, verbose=False)\n",
    "plt.cla()\n",
    "plt.plot(history)\n",
    "plt.show()"
   ]
  },
  {
   "cell_type": "code",
   "execution_count": 23,
   "metadata": {},
   "outputs": [
    {
     "name": "stdout",
     "output_type": "stream",
     "text": [
      "Solution is:  [[0.30000007 0.39999986 0.        ]]\n"
     ]
    }
   ],
   "source": [
    "# For Ax = b, the solution is (A**-1 * b).T\n",
    "print(\"Solution is: \", np.dot(np.linalg.inv(A),b).T)"
   ]
  },
  {
   "cell_type": "code",
   "execution_count": null,
   "metadata": {},
   "outputs": [],
   "source": []
  }
 ],
 "metadata": {
  "kernelspec": {
   "display_name": "Python 3 (ipykernel)",
   "language": "python",
   "name": "python3"
  },
  "language_info": {
   "codemirror_mode": {
    "name": "ipython",
    "version": 3
   },
   "file_extension": ".py",
   "mimetype": "text/x-python",
   "name": "python",
   "nbconvert_exporter": "python",
   "pygments_lexer": "ipython3",
   "version": "3.10.9"
  }
 },
 "nbformat": 4,
 "nbformat_minor": 2
}
